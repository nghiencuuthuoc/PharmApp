{
 "cells": [
  {
   "cell_type": "markdown",
   "id": "16098455-eccb-4843-bddf-388064bf83f3",
   "metadata": {},
   "source": [
    "# Các loại lệnh return trong Python?\n",
    "# 2.1 Lệnh return có trả giá trị\n",
    "https://stringee.com/vi/blog/post/Return-trong-python"
   ]
  },
  {
   "cell_type": "code",
   "execution_count": 1,
   "id": "bc0be6d4-dc9f-4f42-8ff9-3798701915fc",
   "metadata": {},
   "outputs": [
    {
     "name": "stdout",
     "output_type": "stream",
     "text": [
      "Result: 8\n"
     ]
    }
   ],
   "source": [
    "def add(a, b):\n",
    "    result = a + b\n",
    "    return result\n",
    "\n",
    "result_of_add = add(3, 5)\n",
    "print(\"Result:\", result_of_add)"
   ]
  },
  {
   "cell_type": "markdown",
   "id": "523cccca-3874-41c9-a6e8-02717d72cdfb",
   "metadata": {},
   "source": [
    "## 2.2 Lệnh return không có giá trị trả về"
   ]
  },
  {
   "cell_type": "code",
   "execution_count": 2,
   "id": "086c4b33-901b-4f21-a321-77171789ae18",
   "metadata": {},
   "outputs": [
    {
     "name": "stdout",
     "output_type": "stream",
     "text": [
      "Hello World\n",
      "None\n"
     ]
    }
   ],
   "source": [
    "def print_hello():\n",
    "    print(\"Hello World\")\n",
    "\n",
    "result = print_hello()\n",
    "print(result)  # Output: None"
   ]
  },
  {
   "cell_type": "markdown",
   "id": "2b49ba52-4d4a-41e3-a10d-791f77e58f14",
   "metadata": {},
   "source": [
    "## 2.3 Lệnh return Trả về nhiều giá trị"
   ]
  },
  {
   "cell_type": "code",
   "execution_count": 3,
   "id": "30d05ea0-b3bf-43c0-b052-a2a54d07a896",
   "metadata": {},
   "outputs": [
    {
     "name": "stdout",
     "output_type": "stream",
     "text": [
      "(5, 6)\n"
     ]
    }
   ],
   "source": [
    "def add_and_multiply(a, b):\n",
    "    sum_result = a + b\n",
    "    product_result = a * b\n",
    "    return sum_result, product_result\n",
    "\n",
    "result = add_and_multiply(2, 3)\n",
    "print(result)  # Output: (5, 6)"
   ]
  },
  {
   "cell_type": "markdown",
   "id": "19d27209-1027-4b71-a951-ae8cc4091e6e",
   "metadata": {},
   "source": [
    "## 2.4. Kết thúc hàm sớm với return"
   ]
  },
  {
   "cell_type": "code",
   "execution_count": 4,
   "id": "635b7798-ca2b-4e70-b4c7-f031d7ada193",
   "metadata": {},
   "outputs": [
    {
     "name": "stdout",
     "output_type": "stream",
     "text": [
      "Positive\n"
     ]
    }
   ],
   "source": [
    "def positive_or_negative(x):\n",
    "    if x > 0:\n",
    "        return \"Positive\"\n",
    "    elif x < 0:\n",
    "        return \"Negative\"\n",
    "    else:\n",
    "        return \"Zero\"\n",
    "\n",
    "result = positive_or_negative(5)\n",
    "print(result)  # Output: Positive"
   ]
  },
  {
   "cell_type": "code",
   "execution_count": null,
   "id": "4686eac9-1cf8-4f7f-96f2-e03c5faa0f9d",
   "metadata": {},
   "outputs": [],
   "source": []
  }
 ],
 "metadata": {
  "kernelspec": {
   "display_name": "Python 3 (ipykernel)",
   "language": "python",
   "name": "python3"
  },
  "language_info": {
   "codemirror_mode": {
    "name": "ipython",
    "version": 3
   },
   "file_extension": ".py",
   "mimetype": "text/x-python",
   "name": "python",
   "nbconvert_exporter": "python",
   "pygments_lexer": "ipython3",
   "version": "3.12.5"
  }
 },
 "nbformat": 4,
 "nbformat_minor": 5
}
