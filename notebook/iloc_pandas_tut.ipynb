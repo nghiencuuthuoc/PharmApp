{
 "cells": [
  {
   "cell_type": "markdown",
   "id": "62bb23d4-8b0a-4189-9ac5-aa4395ca3d95",
   "metadata": {},
   "source": [
    "## Pandas có tổng cộng bốn accessors:\n",
    "\n",
    "1. .loc[] chấp nhận label của các row và column và trả về Chuỗi hoặc DataFrame. Bạn có thể sử dụng nó để lấy toàn bộ row hoặc column, cũng như các phần của chúng.\n",
    "2. .iloc[] chấp nhận các index dựa trên 0 của các row và column và trả về Chuỗi hoặc Dữ liệu. Bạn có thể sử dụng nó để lấy toàn bộ row hoặc column hoặc các phần của chúng.\n",
    "3. .at[] chấp nhận label của các row và column và trả về một giá trị dữ liệu duy nhất.\n",
    "4. .iat[] chấp nhận các index dựa trên 0 của các row và column và trả về một giá trị dữ liệu duy nhất.\n",
    "\n",
    "\n",
    "https://tek4.vn/cach-dung-pandas-python-tu-hoc-tensorflow"
   ]
  },
  {
   "cell_type": "code",
   "execution_count": 2,
   "id": "8ea641ac-c709-4ba6-93f2-b37ec3bcd40e",
   "metadata": {},
   "outputs": [],
   "source": [
    "import pandas as pd"
   ]
  },
  {
   "cell_type": "code",
   "execution_count": 4,
   "id": "d647b405-9ef8-4497-9250-20da9d0a973a",
   "metadata": {},
   "outputs": [
    {
     "data": {
      "text/html": [
       "<div>\n",
       "<style scoped>\n",
       "    .dataframe tbody tr th:only-of-type {\n",
       "        vertical-align: middle;\n",
       "    }\n",
       "\n",
       "    .dataframe tbody tr th {\n",
       "        vertical-align: top;\n",
       "    }\n",
       "\n",
       "    .dataframe thead th {\n",
       "        text-align: right;\n",
       "    }\n",
       "</style>\n",
       "<table border=\"1\" class=\"dataframe\">\n",
       "  <thead>\n",
       "    <tr style=\"text-align: right;\">\n",
       "      <th></th>\n",
       "      <th>a</th>\n",
       "      <th>b</th>\n",
       "      <th>c</th>\n",
       "      <th>d</th>\n",
       "    </tr>\n",
       "  </thead>\n",
       "  <tbody>\n",
       "    <tr>\n",
       "      <th>0</th>\n",
       "      <td>1</td>\n",
       "      <td>2</td>\n",
       "      <td>3</td>\n",
       "      <td>4</td>\n",
       "    </tr>\n",
       "    <tr>\n",
       "      <th>1</th>\n",
       "      <td>100</td>\n",
       "      <td>200</td>\n",
       "      <td>300</td>\n",
       "      <td>400</td>\n",
       "    </tr>\n",
       "    <tr>\n",
       "      <th>2</th>\n",
       "      <td>1000</td>\n",
       "      <td>2000</td>\n",
       "      <td>3000</td>\n",
       "      <td>4000</td>\n",
       "    </tr>\n",
       "  </tbody>\n",
       "</table>\n",
       "</div>"
      ],
      "text/plain": [
       "      a     b     c     d\n",
       "0     1     2     3     4\n",
       "1   100   200   300   400\n",
       "2  1000  2000  3000  4000"
      ]
     },
     "execution_count": 4,
     "metadata": {},
     "output_type": "execute_result"
    }
   ],
   "source": [
    "mydict = [{'a': 1, 'b': 2, 'c': 3, 'd': 4},\n",
    "...           {'a': 100, 'b': 200, 'c': 300, 'd': 400},\n",
    "...           {'a': 1000, 'b': 2000, 'c': 3000, 'd': 4000}]\n",
    "df = pd.DataFrame(mydict)\n",
    "df"
   ]
  },
  {
   "cell_type": "code",
   "execution_count": 6,
   "id": "e26a6a98-34bb-43d0-86b5-f1fd0f3a02fe",
   "metadata": {},
   "outputs": [],
   "source": [
    "dataset  = df"
   ]
  },
  {
   "cell_type": "code",
   "execution_count": 7,
   "id": "f5386017-03e8-4378-8743-c618cb9d93de",
   "metadata": {},
   "outputs": [
    {
     "data": {
      "text/html": [
       "<div>\n",
       "<style scoped>\n",
       "    .dataframe tbody tr th:only-of-type {\n",
       "        vertical-align: middle;\n",
       "    }\n",
       "\n",
       "    .dataframe tbody tr th {\n",
       "        vertical-align: top;\n",
       "    }\n",
       "\n",
       "    .dataframe thead th {\n",
       "        text-align: right;\n",
       "    }\n",
       "</style>\n",
       "<table border=\"1\" class=\"dataframe\">\n",
       "  <thead>\n",
       "    <tr style=\"text-align: right;\">\n",
       "      <th></th>\n",
       "      <th>a</th>\n",
       "      <th>b</th>\n",
       "      <th>c</th>\n",
       "    </tr>\n",
       "  </thead>\n",
       "  <tbody>\n",
       "    <tr>\n",
       "      <th>0</th>\n",
       "      <td>1</td>\n",
       "      <td>2</td>\n",
       "      <td>3</td>\n",
       "    </tr>\n",
       "    <tr>\n",
       "      <th>1</th>\n",
       "      <td>100</td>\n",
       "      <td>200</td>\n",
       "      <td>300</td>\n",
       "    </tr>\n",
       "    <tr>\n",
       "      <th>2</th>\n",
       "      <td>1000</td>\n",
       "      <td>2000</td>\n",
       "      <td>3000</td>\n",
       "    </tr>\n",
       "  </tbody>\n",
       "</table>\n",
       "</div>"
      ],
      "text/plain": [
       "      a     b     c\n",
       "0     1     2     3\n",
       "1   100   200   300\n",
       "2  1000  2000  3000"
      ]
     },
     "execution_count": 7,
     "metadata": {},
     "output_type": "execute_result"
    }
   ],
   "source": [
    "X = dataset.drop(['d'], axis=1)\n",
    "X"
   ]
  },
  {
   "cell_type": "code",
   "execution_count": 8,
   "id": "022ffe4a-b5a0-4aea-b2f8-20420a16dcde",
   "metadata": {},
   "outputs": [
    {
     "data": {
      "text/plain": [
       "0       4\n",
       "1     400\n",
       "2    4000\n",
       "Name: d, dtype: int64"
      ]
     },
     "execution_count": 8,
     "metadata": {},
     "output_type": "execute_result"
    }
   ],
   "source": [
    "Y = dataset.iloc[:,-1]\n",
    "Y"
   ]
  },
  {
   "cell_type": "code",
   "execution_count": 11,
   "id": "448beee1-f76d-4e2f-b9cd-aff1108db84b",
   "metadata": {},
   "outputs": [
    {
     "data": {
      "text/plain": [
       "a    100\n",
       "b    200\n",
       "c    300\n",
       "d    400\n",
       "Name: 1, dtype: int64"
      ]
     },
     "execution_count": 11,
     "metadata": {},
     "output_type": "execute_result"
    }
   ],
   "source": [
    "z = Y = dataset.iloc[1,:]\n",
    "Y"
   ]
  },
  {
   "cell_type": "code",
   "execution_count": 13,
   "id": "5ac6db3f-1104-4786-be1b-8b0534b63423",
   "metadata": {},
   "outputs": [
    {
     "data": {
      "text/plain": [
       "a    1\n",
       "b    2\n",
       "c    3\n",
       "d    4\n",
       "Name: 0, dtype: int64"
      ]
     },
     "execution_count": 13,
     "metadata": {},
     "output_type": "execute_result"
    }
   ],
   "source": [
    "df.iloc[0,:]"
   ]
  },
  {
   "cell_type": "code",
   "execution_count": 16,
   "id": "6a54f3fe-8bf5-4c40-af23-06c0a7fbe430",
   "metadata": {},
   "outputs": [
    {
     "data": {
      "text/plain": [
       "a    1000\n",
       "b    2000\n",
       "c    3000\n",
       "d    4000\n",
       "Name: 2, dtype: int64"
      ]
     },
     "execution_count": 16,
     "metadata": {},
     "output_type": "execute_result"
    }
   ],
   "source": [
    "df.iloc[2]"
   ]
  },
  {
   "cell_type": "code",
   "execution_count": 17,
   "id": "154f5838-2dc4-4ab6-bbc7-e257749b0655",
   "metadata": {},
   "outputs": [
    {
     "data": {
      "text/html": [
       "<div>\n",
       "<style scoped>\n",
       "    .dataframe tbody tr th:only-of-type {\n",
       "        vertical-align: middle;\n",
       "    }\n",
       "\n",
       "    .dataframe tbody tr th {\n",
       "        vertical-align: top;\n",
       "    }\n",
       "\n",
       "    .dataframe thead th {\n",
       "        text-align: right;\n",
       "    }\n",
       "</style>\n",
       "<table border=\"1\" class=\"dataframe\">\n",
       "  <thead>\n",
       "    <tr style=\"text-align: right;\">\n",
       "      <th></th>\n",
       "      <th>a</th>\n",
       "      <th>b</th>\n",
       "      <th>c</th>\n",
       "      <th>d</th>\n",
       "    </tr>\n",
       "  </thead>\n",
       "  <tbody>\n",
       "    <tr>\n",
       "      <th>0</th>\n",
       "      <td>1</td>\n",
       "      <td>2</td>\n",
       "      <td>3</td>\n",
       "      <td>4</td>\n",
       "    </tr>\n",
       "  </tbody>\n",
       "</table>\n",
       "</div>"
      ],
      "text/plain": [
       "   a  b  c  d\n",
       "0  1  2  3  4"
      ]
     },
     "execution_count": 17,
     "metadata": {},
     "output_type": "execute_result"
    }
   ],
   "source": [
    "df.iloc[[0]]"
   ]
  },
  {
   "cell_type": "code",
   "execution_count": 18,
   "id": "2110a69c-c6c2-44f6-a2b1-692280db92c1",
   "metadata": {},
   "outputs": [
    {
     "name": "stdout",
     "output_type": "stream",
     "text": [
      "Data Frame:    0  1\n",
      "0  1  2\n",
      "1  3  4\n"
     ]
    }
   ],
   "source": [
    "## Numpy to pandas\n",
    "import numpy as np\n",
    "h = [[1,2],[3,4]]\n",
    "df_h = pd.DataFrame(h)\n",
    "print('Data Frame:', df_h)"
   ]
  },
  {
   "cell_type": "code",
   "execution_count": 19,
   "id": "0b25ec3a-40a9-48dd-a5af-76e2d81cd9d1",
   "metadata": {},
   "outputs": [
    {
     "name": "stdout",
     "output_type": "stream",
     "text": [
      "Numpy array: [[1 2]\n",
      " [3 4]]\n"
     ]
    }
   ],
   "source": [
    "## Pandas to numpy\n",
    "df_h_n = np.array(df_h)\n",
    "print('Numpy array:', df_h_n)"
   ]
  },
  {
   "cell_type": "code",
   "execution_count": 20,
   "id": "f884f498-6edc-46c6-a7aa-35a3eb17d7c8",
   "metadata": {},
   "outputs": [
    {
     "data": {
      "text/html": [
       "<div>\n",
       "<style scoped>\n",
       "    .dataframe tbody tr th:only-of-type {\n",
       "        vertical-align: middle;\n",
       "    }\n",
       "\n",
       "    .dataframe tbody tr th {\n",
       "        vertical-align: top;\n",
       "    }\n",
       "\n",
       "    .dataframe thead th {\n",
       "        text-align: right;\n",
       "    }\n",
       "</style>\n",
       "<table border=\"1\" class=\"dataframe\">\n",
       "  <thead>\n",
       "    <tr style=\"text-align: right;\">\n",
       "      <th></th>\n",
       "      <th>Name</th>\n",
       "      <th>Age</th>\n",
       "    </tr>\n",
       "  </thead>\n",
       "  <tbody>\n",
       "    <tr>\n",
       "      <th>0</th>\n",
       "      <td>Giang</td>\n",
       "      <td>30</td>\n",
       "    </tr>\n",
       "    <tr>\n",
       "      <th>1</th>\n",
       "      <td>Hieu</td>\n",
       "      <td>40</td>\n",
       "    </tr>\n",
       "  </tbody>\n",
       "</table>\n",
       "</div>"
      ],
      "text/plain": [
       "    Name  Age\n",
       "0  Giang   30\n",
       "1   Hieu   40"
      ]
     },
     "execution_count": 20,
     "metadata": {},
     "output_type": "execute_result"
    }
   ],
   "source": [
    "dic = {'Name': [\"Giang\", \"Hieu\"], 'Age': [30, 40]}\n",
    "pd.DataFrame(data=dic)"
   ]
  },
  {
   "cell_type": "code",
   "execution_count": 21,
   "id": "30b5e739-fa6b-4472-9a93-bede34867b3f",
   "metadata": {},
   "outputs": [
    {
     "name": "stdout",
     "output_type": "stream",
     "text": [
      "Day: DatetimeIndex(['2030-01-01', '2030-01-02', '2030-01-03', '2030-01-04',\n",
      "               '2030-01-05', '2030-01-06'],\n",
      "              dtype='datetime64[ns]', freq='D')\n"
     ]
    }
   ],
   "source": [
    "## Create date\n",
    "# Days\n",
    "dates_d = pd.date_range('20300101', periods=6, freq='D')\n",
    "print('Day:', dates_d)"
   ]
  },
  {
   "cell_type": "code",
   "execution_count": 24,
   "id": "3eb28bbb-0cb1-4b94-b47e-4d1be7d8cff2",
   "metadata": {},
   "outputs": [
    {
     "name": "stdout",
     "output_type": "stream",
     "text": [
      "Month: DatetimeIndex(['2030-01-31', '2030-02-28', '2030-03-31', '2030-04-30',\n",
      "               '2030-05-31', '2030-06-30'],\n",
      "              dtype='datetime64[ns]', freq='ME')\n"
     ]
    }
   ],
   "source": [
    "# Months\n",
    "dates_m = pd.date_range('20300101', periods=6, freq='ME')\n",
    "print('Month:', dates_m)"
   ]
  },
  {
   "cell_type": "code",
   "execution_count": 25,
   "id": "65d53f02-b774-4d95-bc93-ea9b22bfc1fd",
   "metadata": {},
   "outputs": [],
   "source": [
    "random = np.random.randn(6,4)"
   ]
  },
  {
   "cell_type": "code",
   "execution_count": 37,
   "id": "373e0caf-175f-476c-8a9d-98f7570d8083",
   "metadata": {},
   "outputs": [
    {
     "data": {
      "text/html": [
       "<div>\n",
       "<style scoped>\n",
       "    .dataframe tbody tr th:only-of-type {\n",
       "        vertical-align: middle;\n",
       "    }\n",
       "\n",
       "    .dataframe tbody tr th {\n",
       "        vertical-align: top;\n",
       "    }\n",
       "\n",
       "    .dataframe thead th {\n",
       "        text-align: right;\n",
       "    }\n",
       "</style>\n",
       "<table border=\"1\" class=\"dataframe\">\n",
       "  <thead>\n",
       "    <tr style=\"text-align: right;\">\n",
       "      <th></th>\n",
       "      <th>A</th>\n",
       "      <th>B</th>\n",
       "      <th>C</th>\n",
       "      <th>D</th>\n",
       "    </tr>\n",
       "  </thead>\n",
       "  <tbody>\n",
       "    <tr>\n",
       "      <th>2030-01-31</th>\n",
       "      <td>-0.301059</td>\n",
       "      <td>0.593634</td>\n",
       "      <td>0.330454</td>\n",
       "      <td>1.239270</td>\n",
       "    </tr>\n",
       "    <tr>\n",
       "      <th>2030-02-28</th>\n",
       "      <td>-0.108308</td>\n",
       "      <td>-1.186546</td>\n",
       "      <td>0.460974</td>\n",
       "      <td>0.868685</td>\n",
       "    </tr>\n",
       "    <tr>\n",
       "      <th>2030-03-31</th>\n",
       "      <td>-1.505741</td>\n",
       "      <td>-0.058844</td>\n",
       "      <td>-0.377959</td>\n",
       "      <td>-0.184807</td>\n",
       "    </tr>\n",
       "    <tr>\n",
       "      <th>2030-04-30</th>\n",
       "      <td>-0.014489</td>\n",
       "      <td>0.000146</td>\n",
       "      <td>-0.485714</td>\n",
       "      <td>-0.304571</td>\n",
       "    </tr>\n",
       "    <tr>\n",
       "      <th>2030-05-31</th>\n",
       "      <td>1.850698</td>\n",
       "      <td>-0.667196</td>\n",
       "      <td>-2.427760</td>\n",
       "      <td>1.565575</td>\n",
       "    </tr>\n",
       "    <tr>\n",
       "      <th>2030-06-30</th>\n",
       "      <td>-0.033815</td>\n",
       "      <td>0.844747</td>\n",
       "      <td>-0.093060</td>\n",
       "      <td>-1.321849</td>\n",
       "    </tr>\n",
       "  </tbody>\n",
       "</table>\n",
       "</div>"
      ],
      "text/plain": [
       "                   A         B         C         D\n",
       "2030-01-31 -0.301059  0.593634  0.330454  1.239270\n",
       "2030-02-28 -0.108308 -1.186546  0.460974  0.868685\n",
       "2030-03-31 -1.505741 -0.058844 -0.377959 -0.184807\n",
       "2030-04-30 -0.014489  0.000146 -0.485714 -0.304571\n",
       "2030-05-31  1.850698 -0.667196 -2.427760  1.565575\n",
       "2030-06-30 -0.033815  0.844747 -0.093060 -1.321849"
      ]
     },
     "execution_count": 37,
     "metadata": {},
     "output_type": "execute_result"
    }
   ],
   "source": [
    "# Create data with date\n",
    "df = pd.DataFrame(random,\n",
    "                  index=dates_m,\n",
    "                  columns=list('ABCD'))\n",
    "df"
   ]
  },
  {
   "cell_type": "code",
   "execution_count": 27,
   "id": "964daf4f-be0b-484b-a632-0b106081fb7b",
   "metadata": {},
   "outputs": [
    {
     "data": {
      "text/html": [
       "<div>\n",
       "<style scoped>\n",
       "    .dataframe tbody tr th:only-of-type {\n",
       "        vertical-align: middle;\n",
       "    }\n",
       "\n",
       "    .dataframe tbody tr th {\n",
       "        vertical-align: top;\n",
       "    }\n",
       "\n",
       "    .dataframe thead th {\n",
       "        text-align: right;\n",
       "    }\n",
       "</style>\n",
       "<table border=\"1\" class=\"dataframe\">\n",
       "  <thead>\n",
       "    <tr style=\"text-align: right;\">\n",
       "      <th></th>\n",
       "      <th>A</th>\n",
       "      <th>B</th>\n",
       "      <th>C</th>\n",
       "      <th>D</th>\n",
       "    </tr>\n",
       "  </thead>\n",
       "  <tbody>\n",
       "    <tr>\n",
       "      <th>2030-01-31</th>\n",
       "      <td>-0.301059</td>\n",
       "      <td>0.593634</td>\n",
       "      <td>0.330454</td>\n",
       "      <td>1.23927</td>\n",
       "    </tr>\n",
       "  </tbody>\n",
       "</table>\n",
       "</div>"
      ],
      "text/plain": [
       "                   A         B         C        D\n",
       "2030-01-31 -0.301059  0.593634  0.330454  1.23927"
      ]
     },
     "execution_count": 27,
     "metadata": {},
     "output_type": "execute_result"
    }
   ],
   "source": [
    "df.iloc[[0]]"
   ]
  },
  {
   "cell_type": "code",
   "execution_count": 29,
   "id": "46ae16eb-48d4-40c4-9517-2ff0680472aa",
   "metadata": {},
   "outputs": [
    {
     "data": {
      "text/html": [
       "<div>\n",
       "<style scoped>\n",
       "    .dataframe tbody tr th:only-of-type {\n",
       "        vertical-align: middle;\n",
       "    }\n",
       "\n",
       "    .dataframe tbody tr th {\n",
       "        vertical-align: top;\n",
       "    }\n",
       "\n",
       "    .dataframe thead th {\n",
       "        text-align: right;\n",
       "    }\n",
       "</style>\n",
       "<table border=\"1\" class=\"dataframe\">\n",
       "  <thead>\n",
       "    <tr style=\"text-align: right;\">\n",
       "      <th></th>\n",
       "      <th>A</th>\n",
       "      <th>B</th>\n",
       "      <th>C</th>\n",
       "      <th>D</th>\n",
       "    </tr>\n",
       "  </thead>\n",
       "  <tbody>\n",
       "    <tr>\n",
       "      <th>2030-02-28</th>\n",
       "      <td>-0.108308</td>\n",
       "      <td>-1.186546</td>\n",
       "      <td>0.460974</td>\n",
       "      <td>0.868685</td>\n",
       "    </tr>\n",
       "  </tbody>\n",
       "</table>\n",
       "</div>"
      ],
      "text/plain": [
       "                   A         B         C         D\n",
       "2030-02-28 -0.108308 -1.186546  0.460974  0.868685"
      ]
     },
     "execution_count": 29,
     "metadata": {},
     "output_type": "execute_result"
    }
   ],
   "source": [
    "df.iloc[[1]]"
   ]
  },
  {
   "cell_type": "code",
   "execution_count": 31,
   "id": "dd8ed66f-797d-4ae2-aa18-dc3b2193f67c",
   "metadata": {},
   "outputs": [
    {
     "data": {
      "text/plain": [
       "2030-01-31   -0.301059\n",
       "2030-02-28   -0.108308\n",
       "2030-03-31   -1.505741\n",
       "2030-04-30   -0.014489\n",
       "2030-05-31    1.850698\n",
       "2030-06-30   -0.033815\n",
       "Freq: ME, Name: A, dtype: float64"
      ]
     },
     "execution_count": 31,
     "metadata": {},
     "output_type": "execute_result"
    }
   ],
   "source": [
    "df.iloc[:, 0]"
   ]
  },
  {
   "cell_type": "code",
   "execution_count": 32,
   "id": "30445238-8a3e-45d9-ab48-70e4b2f28879",
   "metadata": {},
   "outputs": [
    {
     "data": {
      "text/plain": [
       "2030-01-31    0.593634\n",
       "2030-02-28   -1.186546\n",
       "2030-03-31   -0.058844\n",
       "2030-04-30    0.000146\n",
       "2030-05-31   -0.667196\n",
       "2030-06-30    0.844747\n",
       "Freq: ME, Name: B, dtype: float64"
      ]
     },
     "execution_count": 32,
     "metadata": {},
     "output_type": "execute_result"
    }
   ],
   "source": [
    "df.iloc[:, 1]"
   ]
  },
  {
   "cell_type": "code",
   "execution_count": 34,
   "id": "7d694cd2-025c-4301-b679-186284005041",
   "metadata": {},
   "outputs": [
    {
     "data": {
      "text/plain": [
       "2030-01-31    0.330454\n",
       "2030-02-28    0.460974\n",
       "2030-03-31   -0.377959\n",
       "2030-04-30   -0.485714\n",
       "2030-05-31   -2.427760\n",
       "2030-06-30   -0.093060\n",
       "Freq: ME, Name: C, dtype: float64"
      ]
     },
     "execution_count": 34,
     "metadata": {},
     "output_type": "execute_result"
    }
   ],
   "source": [
    "df.iloc[:, 2]"
   ]
  },
  {
   "cell_type": "code",
   "execution_count": 33,
   "id": "fd091866-49ab-49df-a7a1-ab99944ba21c",
   "metadata": {},
   "outputs": [
    {
     "data": {
      "text/plain": [
       "2030-01-31    1.239270\n",
       "2030-02-28    0.868685\n",
       "2030-03-31   -0.184807\n",
       "2030-04-30   -0.304571\n",
       "2030-05-31    1.565575\n",
       "2030-06-30   -1.321849\n",
       "Freq: ME, Name: D, dtype: float64"
      ]
     },
     "execution_count": 33,
     "metadata": {},
     "output_type": "execute_result"
    }
   ],
   "source": [
    "df.iloc[:, -1]"
   ]
  },
  {
   "cell_type": "code",
   "execution_count": 36,
   "id": "03afeceb-54be-414f-afa6-1958a97c7b1a",
   "metadata": {},
   "outputs": [
    {
     "data": {
      "text/plain": [
       "np.float64(-0.033815476751662084)"
      ]
     },
     "execution_count": 36,
     "metadata": {},
     "output_type": "execute_result"
    }
   ],
   "source": [
    "df.iloc[-1, 0]"
   ]
  },
  {
   "cell_type": "code",
   "execution_count": 39,
   "id": "b350069c-13ae-4627-bb50-171663513951",
   "metadata": {},
   "outputs": [
    {
     "data": {
      "text/plain": [
       "A    1.850698\n",
       "B   -0.667196\n",
       "C   -2.427760\n",
       "D    1.565575\n",
       "Name: 2030-05-31 00:00:00, dtype: float64"
      ]
     },
     "execution_count": 39,
     "metadata": {},
     "output_type": "execute_result"
    }
   ],
   "source": [
    "df.iloc[4, :]"
   ]
  },
  {
   "cell_type": "code",
   "execution_count": 40,
   "id": "273847ff-65cd-4673-978f-65a4d5a93e73",
   "metadata": {},
   "outputs": [
    {
     "data": {
      "text/html": [
       "<div>\n",
       "<style scoped>\n",
       "    .dataframe tbody tr th:only-of-type {\n",
       "        vertical-align: middle;\n",
       "    }\n",
       "\n",
       "    .dataframe tbody tr th {\n",
       "        vertical-align: top;\n",
       "    }\n",
       "\n",
       "    .dataframe thead th {\n",
       "        text-align: right;\n",
       "    }\n",
       "</style>\n",
       "<table border=\"1\" class=\"dataframe\">\n",
       "  <thead>\n",
       "    <tr style=\"text-align: right;\">\n",
       "      <th></th>\n",
       "      <th>A</th>\n",
       "      <th>B</th>\n",
       "      <th>C</th>\n",
       "      <th>D</th>\n",
       "    </tr>\n",
       "  </thead>\n",
       "  <tbody>\n",
       "    <tr>\n",
       "      <th>2030-01-31</th>\n",
       "      <td>-0.301059</td>\n",
       "      <td>0.593634</td>\n",
       "      <td>0.330454</td>\n",
       "      <td>1.239270</td>\n",
       "    </tr>\n",
       "    <tr>\n",
       "      <th>2030-02-28</th>\n",
       "      <td>-0.108308</td>\n",
       "      <td>-1.186546</td>\n",
       "      <td>0.460974</td>\n",
       "      <td>0.868685</td>\n",
       "    </tr>\n",
       "    <tr>\n",
       "      <th>2030-03-31</th>\n",
       "      <td>-1.505741</td>\n",
       "      <td>-0.058844</td>\n",
       "      <td>-0.377959</td>\n",
       "      <td>-0.184807</td>\n",
       "    </tr>\n",
       "  </tbody>\n",
       "</table>\n",
       "</div>"
      ],
      "text/plain": [
       "                   A         B         C         D\n",
       "2030-01-31 -0.301059  0.593634  0.330454  1.239270\n",
       "2030-02-28 -0.108308 -1.186546  0.460974  0.868685\n",
       "2030-03-31 -1.505741 -0.058844 -0.377959 -0.184807"
      ]
     },
     "execution_count": 40,
     "metadata": {},
     "output_type": "execute_result"
    }
   ],
   "source": [
    "### using a slice for row\n",
    "df[0:3]"
   ]
  },
  {
   "cell_type": "code",
   "execution_count": 41,
   "id": "f93a0770-7b86-4994-9e39-297d839281a6",
   "metadata": {},
   "outputs": [
    {
     "data": {
      "text/html": [
       "<div>\n",
       "<style scoped>\n",
       "    .dataframe tbody tr th:only-of-type {\n",
       "        vertical-align: middle;\n",
       "    }\n",
       "\n",
       "    .dataframe tbody tr th {\n",
       "        vertical-align: top;\n",
       "    }\n",
       "\n",
       "    .dataframe thead th {\n",
       "        text-align: right;\n",
       "    }\n",
       "</style>\n",
       "<table border=\"1\" class=\"dataframe\">\n",
       "  <thead>\n",
       "    <tr style=\"text-align: right;\">\n",
       "      <th></th>\n",
       "      <th>A</th>\n",
       "      <th>B</th>\n",
       "    </tr>\n",
       "  </thead>\n",
       "  <tbody>\n",
       "    <tr>\n",
       "      <th>2030-01-31</th>\n",
       "      <td>-0.301059</td>\n",
       "      <td>0.593634</td>\n",
       "    </tr>\n",
       "    <tr>\n",
       "      <th>2030-02-28</th>\n",
       "      <td>-0.108308</td>\n",
       "      <td>-1.186546</td>\n",
       "    </tr>\n",
       "    <tr>\n",
       "      <th>2030-03-31</th>\n",
       "      <td>-1.505741</td>\n",
       "      <td>-0.058844</td>\n",
       "    </tr>\n",
       "    <tr>\n",
       "      <th>2030-04-30</th>\n",
       "      <td>-0.014489</td>\n",
       "      <td>0.000146</td>\n",
       "    </tr>\n",
       "    <tr>\n",
       "      <th>2030-05-31</th>\n",
       "      <td>1.850698</td>\n",
       "      <td>-0.667196</td>\n",
       "    </tr>\n",
       "    <tr>\n",
       "      <th>2030-06-30</th>\n",
       "      <td>-0.033815</td>\n",
       "      <td>0.844747</td>\n",
       "    </tr>\n",
       "  </tbody>\n",
       "</table>\n",
       "</div>"
      ],
      "text/plain": [
       "                   A         B\n",
       "2030-01-31 -0.301059  0.593634\n",
       "2030-02-28 -0.108308 -1.186546\n",
       "2030-03-31 -1.505741 -0.058844\n",
       "2030-04-30 -0.014489  0.000146\n",
       "2030-05-31  1.850698 -0.667196\n",
       "2030-06-30 -0.033815  0.844747"
      ]
     },
     "execution_count": 41,
     "metadata": {},
     "output_type": "execute_result"
    }
   ],
   "source": [
    "## Multi col\n",
    "df.loc[:,['A','B']]"
   ]
  },
  {
   "cell_type": "code",
   "execution_count": 42,
   "id": "bdbf69f3-9146-4a85-967e-3e6912a82688",
   "metadata": {},
   "outputs": [
    {
     "data": {
      "text/html": [
       "<div>\n",
       "<style scoped>\n",
       "    .dataframe tbody tr th:only-of-type {\n",
       "        vertical-align: middle;\n",
       "    }\n",
       "\n",
       "    .dataframe tbody tr th {\n",
       "        vertical-align: top;\n",
       "    }\n",
       "\n",
       "    .dataframe thead th {\n",
       "        text-align: right;\n",
       "    }\n",
       "</style>\n",
       "<table border=\"1\" class=\"dataframe\">\n",
       "  <thead>\n",
       "    <tr style=\"text-align: right;\">\n",
       "      <th></th>\n",
       "      <th>A</th>\n",
       "      <th>D</th>\n",
       "    </tr>\n",
       "  </thead>\n",
       "  <tbody>\n",
       "    <tr>\n",
       "      <th>2030-01-31</th>\n",
       "      <td>-0.301059</td>\n",
       "      <td>1.239270</td>\n",
       "    </tr>\n",
       "    <tr>\n",
       "      <th>2030-02-28</th>\n",
       "      <td>-0.108308</td>\n",
       "      <td>0.868685</td>\n",
       "    </tr>\n",
       "    <tr>\n",
       "      <th>2030-03-31</th>\n",
       "      <td>-1.505741</td>\n",
       "      <td>-0.184807</td>\n",
       "    </tr>\n",
       "    <tr>\n",
       "      <th>2030-04-30</th>\n",
       "      <td>-0.014489</td>\n",
       "      <td>-0.304571</td>\n",
       "    </tr>\n",
       "    <tr>\n",
       "      <th>2030-05-31</th>\n",
       "      <td>1.850698</td>\n",
       "      <td>1.565575</td>\n",
       "    </tr>\n",
       "    <tr>\n",
       "      <th>2030-06-30</th>\n",
       "      <td>-0.033815</td>\n",
       "      <td>-1.321849</td>\n",
       "    </tr>\n",
       "  </tbody>\n",
       "</table>\n",
       "</div>"
      ],
      "text/plain": [
       "                   A         D\n",
       "2030-01-31 -0.301059  1.239270\n",
       "2030-02-28 -0.108308  0.868685\n",
       "2030-03-31 -1.505741 -0.184807\n",
       "2030-04-30 -0.014489 -0.304571\n",
       "2030-05-31  1.850698  1.565575\n",
       "2030-06-30 -0.033815 -1.321849"
      ]
     },
     "execution_count": 42,
     "metadata": {},
     "output_type": "execute_result"
    }
   ],
   "source": [
    "## Multi col\n",
    "df.loc[:,['A','D']]"
   ]
  },
  {
   "cell_type": "code",
   "execution_count": 43,
   "id": "59aacbcb-9f96-4bc4-bcb2-a56cbd5df076",
   "metadata": {},
   "outputs": [
    {
     "data": {
      "text/html": [
       "<div>\n",
       "<style scoped>\n",
       "    .dataframe tbody tr th:only-of-type {\n",
       "        vertical-align: middle;\n",
       "    }\n",
       "\n",
       "    .dataframe tbody tr th {\n",
       "        vertical-align: top;\n",
       "    }\n",
       "\n",
       "    .dataframe thead th {\n",
       "        text-align: right;\n",
       "    }\n",
       "</style>\n",
       "<table border=\"1\" class=\"dataframe\">\n",
       "  <thead>\n",
       "    <tr style=\"text-align: right;\">\n",
       "      <th></th>\n",
       "      <th>A</th>\n",
       "      <th>B</th>\n",
       "    </tr>\n",
       "  </thead>\n",
       "  <tbody>\n",
       "    <tr>\n",
       "      <th>2030-01-31</th>\n",
       "      <td>-0.301059</td>\n",
       "      <td>0.593634</td>\n",
       "    </tr>\n",
       "    <tr>\n",
       "      <th>2030-02-28</th>\n",
       "      <td>-0.108308</td>\n",
       "      <td>-1.186546</td>\n",
       "    </tr>\n",
       "    <tr>\n",
       "      <th>2030-03-31</th>\n",
       "      <td>-1.505741</td>\n",
       "      <td>-0.058844</td>\n",
       "    </tr>\n",
       "    <tr>\n",
       "      <th>2030-04-30</th>\n",
       "      <td>-0.014489</td>\n",
       "      <td>0.000146</td>\n",
       "    </tr>\n",
       "    <tr>\n",
       "      <th>2030-05-31</th>\n",
       "      <td>1.850698</td>\n",
       "      <td>-0.667196</td>\n",
       "    </tr>\n",
       "    <tr>\n",
       "      <th>2030-06-30</th>\n",
       "      <td>-0.033815</td>\n",
       "      <td>0.844747</td>\n",
       "    </tr>\n",
       "  </tbody>\n",
       "</table>\n",
       "</div>"
      ],
      "text/plain": [
       "                   A         B\n",
       "2030-01-31 -0.301059  0.593634\n",
       "2030-02-28 -0.108308 -1.186546\n",
       "2030-03-31 -1.505741 -0.058844\n",
       "2030-04-30 -0.014489  0.000146\n",
       "2030-05-31  1.850698 -0.667196\n",
       "2030-06-30 -0.033815  0.844747"
      ]
     },
     "execution_count": 43,
     "metadata": {},
     "output_type": "execute_result"
    }
   ],
   "source": [
    "df.iloc[:, :2] # 2 cột"
   ]
  },
  {
   "cell_type": "code",
   "execution_count": 44,
   "id": "b79b0fa7-f4c3-490d-bc2a-1f9f9997c73b",
   "metadata": {},
   "outputs": [
    {
     "data": {
      "text/html": [
       "<div>\n",
       "<style scoped>\n",
       "    .dataframe tbody tr th:only-of-type {\n",
       "        vertical-align: middle;\n",
       "    }\n",
       "\n",
       "    .dataframe tbody tr th {\n",
       "        vertical-align: top;\n",
       "    }\n",
       "\n",
       "    .dataframe thead th {\n",
       "        text-align: right;\n",
       "    }\n",
       "</style>\n",
       "<table border=\"1\" class=\"dataframe\">\n",
       "  <thead>\n",
       "    <tr style=\"text-align: right;\">\n",
       "      <th></th>\n",
       "      <th>A</th>\n",
       "      <th>B</th>\n",
       "      <th>C</th>\n",
       "      <th>D</th>\n",
       "    </tr>\n",
       "  </thead>\n",
       "  <tbody>\n",
       "    <tr>\n",
       "      <th>2030-01-31</th>\n",
       "      <td>-0.301059</td>\n",
       "      <td>0.593634</td>\n",
       "      <td>0.330454</td>\n",
       "      <td>1.239270</td>\n",
       "    </tr>\n",
       "    <tr>\n",
       "      <th>2030-02-28</th>\n",
       "      <td>-0.108308</td>\n",
       "      <td>-1.186546</td>\n",
       "      <td>0.460974</td>\n",
       "      <td>0.868685</td>\n",
       "    </tr>\n",
       "  </tbody>\n",
       "</table>\n",
       "</div>"
      ],
      "text/plain": [
       "                   A         B         C         D\n",
       "2030-01-31 -0.301059  0.593634  0.330454  1.239270\n",
       "2030-02-28 -0.108308 -1.186546  0.460974  0.868685"
      ]
     },
     "execution_count": 44,
     "metadata": {},
     "output_type": "execute_result"
    }
   ],
   "source": [
    "df.iloc[:2, :] # 2 hàng"
   ]
  },
  {
   "cell_type": "code",
   "execution_count": 45,
   "id": "d3b1148f-f9a2-4f0f-acc1-f331bb317e26",
   "metadata": {},
   "outputs": [
    {
     "data": {
      "text/html": [
       "<div>\n",
       "<style scoped>\n",
       "    .dataframe tbody tr th:only-of-type {\n",
       "        vertical-align: middle;\n",
       "    }\n",
       "\n",
       "    .dataframe tbody tr th {\n",
       "        vertical-align: top;\n",
       "    }\n",
       "\n",
       "    .dataframe thead th {\n",
       "        text-align: right;\n",
       "    }\n",
       "</style>\n",
       "<table border=\"1\" class=\"dataframe\">\n",
       "  <thead>\n",
       "    <tr style=\"text-align: right;\">\n",
       "      <th></th>\n",
       "      <th>B</th>\n",
       "      <th>D</th>\n",
       "    </tr>\n",
       "  </thead>\n",
       "  <tbody>\n",
       "    <tr>\n",
       "      <th>2030-01-31</th>\n",
       "      <td>0.593634</td>\n",
       "      <td>1.239270</td>\n",
       "    </tr>\n",
       "    <tr>\n",
       "      <th>2030-02-28</th>\n",
       "      <td>-1.186546</td>\n",
       "      <td>0.868685</td>\n",
       "    </tr>\n",
       "    <tr>\n",
       "      <th>2030-03-31</th>\n",
       "      <td>-0.058844</td>\n",
       "      <td>-0.184807</td>\n",
       "    </tr>\n",
       "    <tr>\n",
       "      <th>2030-04-30</th>\n",
       "      <td>0.000146</td>\n",
       "      <td>-0.304571</td>\n",
       "    </tr>\n",
       "    <tr>\n",
       "      <th>2030-05-31</th>\n",
       "      <td>-0.667196</td>\n",
       "      <td>1.565575</td>\n",
       "    </tr>\n",
       "    <tr>\n",
       "      <th>2030-06-30</th>\n",
       "      <td>0.844747</td>\n",
       "      <td>-1.321849</td>\n",
       "    </tr>\n",
       "  </tbody>\n",
       "</table>\n",
       "</div>"
      ],
      "text/plain": [
       "                   B         D\n",
       "2030-01-31  0.593634  1.239270\n",
       "2030-02-28 -1.186546  0.868685\n",
       "2030-03-31 -0.058844 -0.184807\n",
       "2030-04-30  0.000146 -0.304571\n",
       "2030-05-31 -0.667196  1.565575\n",
       "2030-06-30  0.844747 -1.321849"
      ]
     },
     "execution_count": 45,
     "metadata": {},
     "output_type": "execute_result"
    }
   ],
   "source": [
    "df.drop(columns=['A', 'C'])"
   ]
  },
  {
   "cell_type": "markdown",
   "id": "ae82f7e1-02e9-4576-83c8-900410419955",
   "metadata": {},
   "source": [
    "## Concatenation"
   ]
  },
  {
   "cell_type": "code",
   "execution_count": 46,
   "id": "21bebd0d-de08-4c02-ad13-a0a40babaf28",
   "metadata": {},
   "outputs": [],
   "source": [
    "import numpy as np\n",
    "df1 = pd.DataFrame({'name': ['John', 'Smith','Paul'],\n",
    "                     'Age': ['25', '30', '50']},\n",
    "                    index=[0, 1, 2])\n",
    "df2 = pd.DataFrame({'name': ['Adam', 'Smith' ],\n",
    "                     'Age': ['26', '11']},\n",
    "                    index=[3, 4])"
   ]
  },
  {
   "cell_type": "code",
   "execution_count": 47,
   "id": "951dae65-e057-45a6-ab5e-3d1f905cd729",
   "metadata": {},
   "outputs": [
    {
     "data": {
      "text/html": [
       "<div>\n",
       "<style scoped>\n",
       "    .dataframe tbody tr th:only-of-type {\n",
       "        vertical-align: middle;\n",
       "    }\n",
       "\n",
       "    .dataframe tbody tr th {\n",
       "        vertical-align: top;\n",
       "    }\n",
       "\n",
       "    .dataframe thead th {\n",
       "        text-align: right;\n",
       "    }\n",
       "</style>\n",
       "<table border=\"1\" class=\"dataframe\">\n",
       "  <thead>\n",
       "    <tr style=\"text-align: right;\">\n",
       "      <th></th>\n",
       "      <th>name</th>\n",
       "      <th>Age</th>\n",
       "    </tr>\n",
       "  </thead>\n",
       "  <tbody>\n",
       "    <tr>\n",
       "      <th>0</th>\n",
       "      <td>John</td>\n",
       "      <td>25</td>\n",
       "    </tr>\n",
       "    <tr>\n",
       "      <th>1</th>\n",
       "      <td>Smith</td>\n",
       "      <td>30</td>\n",
       "    </tr>\n",
       "    <tr>\n",
       "      <th>2</th>\n",
       "      <td>Paul</td>\n",
       "      <td>50</td>\n",
       "    </tr>\n",
       "  </tbody>\n",
       "</table>\n",
       "</div>"
      ],
      "text/plain": [
       "    name Age\n",
       "0   John  25\n",
       "1  Smith  30\n",
       "2   Paul  50"
      ]
     },
     "execution_count": 47,
     "metadata": {},
     "output_type": "execute_result"
    }
   ],
   "source": [
    "df1"
   ]
  },
  {
   "cell_type": "code",
   "execution_count": 48,
   "id": "05e8209c-d5f3-4525-988a-e48f29053ef2",
   "metadata": {},
   "outputs": [
    {
     "data": {
      "text/html": [
       "<div>\n",
       "<style scoped>\n",
       "    .dataframe tbody tr th:only-of-type {\n",
       "        vertical-align: middle;\n",
       "    }\n",
       "\n",
       "    .dataframe tbody tr th {\n",
       "        vertical-align: top;\n",
       "    }\n",
       "\n",
       "    .dataframe thead th {\n",
       "        text-align: right;\n",
       "    }\n",
       "</style>\n",
       "<table border=\"1\" class=\"dataframe\">\n",
       "  <thead>\n",
       "    <tr style=\"text-align: right;\">\n",
       "      <th></th>\n",
       "      <th>name</th>\n",
       "      <th>Age</th>\n",
       "    </tr>\n",
       "  </thead>\n",
       "  <tbody>\n",
       "    <tr>\n",
       "      <th>3</th>\n",
       "      <td>Adam</td>\n",
       "      <td>26</td>\n",
       "    </tr>\n",
       "    <tr>\n",
       "      <th>4</th>\n",
       "      <td>Smith</td>\n",
       "      <td>11</td>\n",
       "    </tr>\n",
       "  </tbody>\n",
       "</table>\n",
       "</div>"
      ],
      "text/plain": [
       "    name Age\n",
       "3   Adam  26\n",
       "4  Smith  11"
      ]
     },
     "execution_count": 48,
     "metadata": {},
     "output_type": "execute_result"
    }
   ],
   "source": [
    "df2"
   ]
  },
  {
   "cell_type": "code",
   "execution_count": 49,
   "id": "1b247d0c-85e4-46ff-ae8f-d27b53f542b5",
   "metadata": {},
   "outputs": [
    {
     "data": {
      "text/html": [
       "<div>\n",
       "<style scoped>\n",
       "    .dataframe tbody tr th:only-of-type {\n",
       "        vertical-align: middle;\n",
       "    }\n",
       "\n",
       "    .dataframe tbody tr th {\n",
       "        vertical-align: top;\n",
       "    }\n",
       "\n",
       "    .dataframe thead th {\n",
       "        text-align: right;\n",
       "    }\n",
       "</style>\n",
       "<table border=\"1\" class=\"dataframe\">\n",
       "  <thead>\n",
       "    <tr style=\"text-align: right;\">\n",
       "      <th></th>\n",
       "      <th>name</th>\n",
       "      <th>Age</th>\n",
       "    </tr>\n",
       "  </thead>\n",
       "  <tbody>\n",
       "    <tr>\n",
       "      <th>0</th>\n",
       "      <td>John</td>\n",
       "      <td>25</td>\n",
       "    </tr>\n",
       "    <tr>\n",
       "      <th>1</th>\n",
       "      <td>Smith</td>\n",
       "      <td>30</td>\n",
       "    </tr>\n",
       "    <tr>\n",
       "      <th>2</th>\n",
       "      <td>Paul</td>\n",
       "      <td>50</td>\n",
       "    </tr>\n",
       "    <tr>\n",
       "      <th>3</th>\n",
       "      <td>Adam</td>\n",
       "      <td>26</td>\n",
       "    </tr>\n",
       "    <tr>\n",
       "      <th>4</th>\n",
       "      <td>Smith</td>\n",
       "      <td>11</td>\n",
       "    </tr>\n",
       "  </tbody>\n",
       "</table>\n",
       "</div>"
      ],
      "text/plain": [
       "    name Age\n",
       "0   John  25\n",
       "1  Smith  30\n",
       "2   Paul  50\n",
       "3   Adam  26\n",
       "4  Smith  11"
      ]
     },
     "execution_count": 49,
     "metadata": {},
     "output_type": "execute_result"
    }
   ],
   "source": [
    "df_concat = pd.concat([df1,df2])\n",
    "df_concat"
   ]
  },
  {
   "cell_type": "code",
   "execution_count": 50,
   "id": "3b545c2a-863d-42a2-8d69-73453e220c0b",
   "metadata": {},
   "outputs": [
    {
     "data": {
      "text/html": [
       "<div>\n",
       "<style scoped>\n",
       "    .dataframe tbody tr th:only-of-type {\n",
       "        vertical-align: middle;\n",
       "    }\n",
       "\n",
       "    .dataframe tbody tr th {\n",
       "        vertical-align: top;\n",
       "    }\n",
       "\n",
       "    .dataframe thead th {\n",
       "        text-align: right;\n",
       "    }\n",
       "</style>\n",
       "<table border=\"1\" class=\"dataframe\">\n",
       "  <thead>\n",
       "    <tr style=\"text-align: right;\">\n",
       "      <th></th>\n",
       "      <th>name</th>\n",
       "      <th>Age</th>\n",
       "    </tr>\n",
       "  </thead>\n",
       "  <tbody>\n",
       "    <tr>\n",
       "      <th>0</th>\n",
       "      <td>John</td>\n",
       "      <td>25</td>\n",
       "    </tr>\n",
       "    <tr>\n",
       "      <th>1</th>\n",
       "      <td>Smith</td>\n",
       "      <td>30</td>\n",
       "    </tr>\n",
       "    <tr>\n",
       "      <th>2</th>\n",
       "      <td>Paul</td>\n",
       "      <td>50</td>\n",
       "    </tr>\n",
       "    <tr>\n",
       "      <th>3</th>\n",
       "      <td>Adam</td>\n",
       "      <td>26</td>\n",
       "    </tr>\n",
       "  </tbody>\n",
       "</table>\n",
       "</div>"
      ],
      "text/plain": [
       "    name Age\n",
       "0   John  25\n",
       "1  Smith  30\n",
       "2   Paul  50\n",
       "3   Adam  26"
      ]
     },
     "execution_count": 50,
     "metadata": {},
     "output_type": "execute_result"
    }
   ],
   "source": [
    "df_concat.drop_duplicates('name')"
   ]
  },
  {
   "cell_type": "code",
   "execution_count": 51,
   "id": "dbed660a-b6f7-4746-b4ad-9deee5514e71",
   "metadata": {},
   "outputs": [
    {
     "data": {
      "text/html": [
       "<div>\n",
       "<style scoped>\n",
       "    .dataframe tbody tr th:only-of-type {\n",
       "        vertical-align: middle;\n",
       "    }\n",
       "\n",
       "    .dataframe tbody tr th {\n",
       "        vertical-align: top;\n",
       "    }\n",
       "\n",
       "    .dataframe thead th {\n",
       "        text-align: right;\n",
       "    }\n",
       "</style>\n",
       "<table border=\"1\" class=\"dataframe\">\n",
       "  <thead>\n",
       "    <tr style=\"text-align: right;\">\n",
       "      <th></th>\n",
       "      <th>name</th>\n",
       "      <th>Age</th>\n",
       "    </tr>\n",
       "  </thead>\n",
       "  <tbody>\n",
       "    <tr>\n",
       "      <th>4</th>\n",
       "      <td>Smith</td>\n",
       "      <td>11</td>\n",
       "    </tr>\n",
       "    <tr>\n",
       "      <th>0</th>\n",
       "      <td>John</td>\n",
       "      <td>25</td>\n",
       "    </tr>\n",
       "    <tr>\n",
       "      <th>3</th>\n",
       "      <td>Adam</td>\n",
       "      <td>26</td>\n",
       "    </tr>\n",
       "    <tr>\n",
       "      <th>1</th>\n",
       "      <td>Smith</td>\n",
       "      <td>30</td>\n",
       "    </tr>\n",
       "    <tr>\n",
       "      <th>2</th>\n",
       "      <td>Paul</td>\n",
       "      <td>50</td>\n",
       "    </tr>\n",
       "  </tbody>\n",
       "</table>\n",
       "</div>"
      ],
      "text/plain": [
       "    name Age\n",
       "4  Smith  11\n",
       "0   John  25\n",
       "3   Adam  26\n",
       "1  Smith  30\n",
       "2   Paul  50"
      ]
     },
     "execution_count": 51,
     "metadata": {},
     "output_type": "execute_result"
    }
   ],
   "source": [
    "df_concat.sort_values('Age')"
   ]
  },
  {
   "cell_type": "code",
   "execution_count": 52,
   "id": "f2eabb6b-beeb-4b3a-b8dc-22b154510907",
   "metadata": {},
   "outputs": [
    {
     "data": {
      "text/html": [
       "<div>\n",
       "<style scoped>\n",
       "    .dataframe tbody tr th:only-of-type {\n",
       "        vertical-align: middle;\n",
       "    }\n",
       "\n",
       "    .dataframe tbody tr th {\n",
       "        vertical-align: top;\n",
       "    }\n",
       "\n",
       "    .dataframe thead th {\n",
       "        text-align: right;\n",
       "    }\n",
       "</style>\n",
       "<table border=\"1\" class=\"dataframe\">\n",
       "  <thead>\n",
       "    <tr style=\"text-align: right;\">\n",
       "      <th></th>\n",
       "      <th>name</th>\n",
       "      <th>Age</th>\n",
       "    </tr>\n",
       "  </thead>\n",
       "  <tbody>\n",
       "    <tr>\n",
       "      <th>3</th>\n",
       "      <td>Adam</td>\n",
       "      <td>26</td>\n",
       "    </tr>\n",
       "    <tr>\n",
       "      <th>0</th>\n",
       "      <td>John</td>\n",
       "      <td>25</td>\n",
       "    </tr>\n",
       "    <tr>\n",
       "      <th>2</th>\n",
       "      <td>Paul</td>\n",
       "      <td>50</td>\n",
       "    </tr>\n",
       "    <tr>\n",
       "      <th>1</th>\n",
       "      <td>Smith</td>\n",
       "      <td>30</td>\n",
       "    </tr>\n",
       "    <tr>\n",
       "      <th>4</th>\n",
       "      <td>Smith</td>\n",
       "      <td>11</td>\n",
       "    </tr>\n",
       "  </tbody>\n",
       "</table>\n",
       "</div>"
      ],
      "text/plain": [
       "    name Age\n",
       "3   Adam  26\n",
       "0   John  25\n",
       "2   Paul  50\n",
       "1  Smith  30\n",
       "4  Smith  11"
      ]
     },
     "execution_count": 52,
     "metadata": {},
     "output_type": "execute_result"
    }
   ],
   "source": [
    "df_concat.sort_values('name')"
   ]
  },
  {
   "cell_type": "code",
   "execution_count": 53,
   "id": "52d8d65d-5d8c-4bc1-a27c-b0912a651b5c",
   "metadata": {},
   "outputs": [
    {
     "data": {
      "text/html": [
       "<div>\n",
       "<style scoped>\n",
       "    .dataframe tbody tr th:only-of-type {\n",
       "        vertical-align: middle;\n",
       "    }\n",
       "\n",
       "    .dataframe tbody tr th {\n",
       "        vertical-align: top;\n",
       "    }\n",
       "\n",
       "    .dataframe thead th {\n",
       "        text-align: right;\n",
       "    }\n",
       "</style>\n",
       "<table border=\"1\" class=\"dataframe\">\n",
       "  <thead>\n",
       "    <tr style=\"text-align: right;\">\n",
       "      <th></th>\n",
       "      <th>Surname</th>\n",
       "      <th>Age_ppl</th>\n",
       "    </tr>\n",
       "  </thead>\n",
       "  <tbody>\n",
       "    <tr>\n",
       "      <th>0</th>\n",
       "      <td>John</td>\n",
       "      <td>25</td>\n",
       "    </tr>\n",
       "    <tr>\n",
       "      <th>1</th>\n",
       "      <td>Smith</td>\n",
       "      <td>30</td>\n",
       "    </tr>\n",
       "    <tr>\n",
       "      <th>2</th>\n",
       "      <td>Paul</td>\n",
       "      <td>50</td>\n",
       "    </tr>\n",
       "    <tr>\n",
       "      <th>3</th>\n",
       "      <td>Adam</td>\n",
       "      <td>26</td>\n",
       "    </tr>\n",
       "    <tr>\n",
       "      <th>4</th>\n",
       "      <td>Smith</td>\n",
       "      <td>11</td>\n",
       "    </tr>\n",
       "  </tbody>\n",
       "</table>\n",
       "</div>"
      ],
      "text/plain": [
       "  Surname Age_ppl\n",
       "0    John      25\n",
       "1   Smith      30\n",
       "2    Paul      50\n",
       "3    Adam      26\n",
       "4   Smith      11"
      ]
     },
     "execution_count": 53,
     "metadata": {},
     "output_type": "execute_result"
    }
   ],
   "source": [
    "df_concat.rename(columns={\"name\": \"Surname\", \"Age\": \"Age_ppl\"})"
   ]
  },
  {
   "cell_type": "code",
   "execution_count": 54,
   "id": "63826036-ff4e-4141-b9f2-3b3c17d39fcc",
   "metadata": {},
   "outputs": [
    {
     "data": {
      "text/html": [
       "<div>\n",
       "<style scoped>\n",
       "    .dataframe tbody tr th:only-of-type {\n",
       "        vertical-align: middle;\n",
       "    }\n",
       "\n",
       "    .dataframe tbody tr th {\n",
       "        vertical-align: top;\n",
       "    }\n",
       "\n",
       "    .dataframe thead th {\n",
       "        text-align: right;\n",
       "    }\n",
       "</style>\n",
       "<table border=\"1\" class=\"dataframe\">\n",
       "  <thead>\n",
       "    <tr style=\"text-align: right;\">\n",
       "      <th></th>\n",
       "      <th>A</th>\n",
       "      <th>B</th>\n",
       "      <th>C</th>\n",
       "      <th>D</th>\n",
       "    </tr>\n",
       "  </thead>\n",
       "  <tbody>\n",
       "    <tr>\n",
       "      <th>2030-04-30</th>\n",
       "      <td>-0.014489</td>\n",
       "      <td>0.000146</td>\n",
       "      <td>-0.485714</td>\n",
       "      <td>-0.304571</td>\n",
       "    </tr>\n",
       "    <tr>\n",
       "      <th>2030-05-31</th>\n",
       "      <td>1.850698</td>\n",
       "      <td>-0.667196</td>\n",
       "      <td>-2.427760</td>\n",
       "      <td>1.565575</td>\n",
       "    </tr>\n",
       "    <tr>\n",
       "      <th>2030-06-30</th>\n",
       "      <td>-0.033815</td>\n",
       "      <td>0.844747</td>\n",
       "      <td>-0.093060</td>\n",
       "      <td>-1.321849</td>\n",
       "    </tr>\n",
       "  </tbody>\n",
       "</table>\n",
       "</div>"
      ],
      "text/plain": [
       "                   A         B         C         D\n",
       "2030-04-30 -0.014489  0.000146 -0.485714 -0.304571\n",
       "2030-05-31  1.850698 -0.667196 -2.427760  1.565575\n",
       "2030-06-30 -0.033815  0.844747 -0.093060 -1.321849"
      ]
     },
     "execution_count": 54,
     "metadata": {},
     "output_type": "execute_result"
    }
   ],
   "source": [
    "df.tail(3)"
   ]
  },
  {
   "cell_type": "code",
   "execution_count": null,
   "id": "df43c290-5299-4bc6-9d8e-2c185aa356e1",
   "metadata": {},
   "outputs": [],
   "source": []
  }
 ],
 "metadata": {
  "kernelspec": {
   "display_name": "Python 3 (ipykernel)",
   "language": "python",
   "name": "python3"
  },
  "language_info": {
   "codemirror_mode": {
    "name": "ipython",
    "version": 3
   },
   "file_extension": ".py",
   "mimetype": "text/x-python",
   "name": "python",
   "nbconvert_exporter": "python",
   "pygments_lexer": "ipython3",
   "version": "3.12.5"
  }
 },
 "nbformat": 4,
 "nbformat_minor": 5
}
