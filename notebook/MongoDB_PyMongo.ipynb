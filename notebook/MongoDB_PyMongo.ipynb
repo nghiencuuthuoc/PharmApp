{
 "cells": [
  {
   "cell_type": "markdown",
   "id": "89613a20-63c3-4d31-aa18-88b2cf4b6bd3",
   "metadata": {},
   "source": [
    "# This tutorial is intended as an introduction to working with MongoDB and PyMongo.\n",
    "### https://pymongo.readthedocs.io/en/stable/tutorial.html"
   ]
  },
  {
   "cell_type": "markdown",
   "id": "1f8d28f7-1327-4423-aa64-c4776a413b46",
   "metadata": {},
   "source": [
    "### Install MongoDB Community Edition Ubuntu\n",
    "#### https://www.mongodb.com/docs/manual/tutorial/install-mongodb-on-ubuntu/#std-label-install-mdb-community-ubuntu\n",
    "sudo apt-get install gnupg curl\n",
    "\n",
    "curl -fsSL https://www.mongodb.org/static/pgp/server-7.0.asc | \\\n",
    "   sudo gpg -o /usr/share/keyrings/mongodb-server-7.0.gpg \\\n",
    "   --dearmor\n",
    "\n",
    "echo \"deb [ arch=amd64,arm64 signed-by=/usr/share/keyrings/mongodb-server-7.0.gpg ] https://repo.mongodb.org/apt/ubuntu jammy/mongodb-org/7.0 multiverse\" | sudo tee /etc/apt/sources.list.d/mongodb-org-7.0.list\n",
    "\n",
    "sudo apt-get update\n",
    "sudo apt-get install -y mongodb-org\n",
    "\n",
    "ps --no-headers -o comm 1\n",
    "\n",
    "sudo apt-get install -y mongodb-atlas\n",
    "\n",
    "\n",
    "sudo systemctl enable mongod\n",
    "\n",
    "sudo systemctl daemon-reload\n",
    "\n",
    "sudo systemctl start mongod\n",
    "\n",
    "sudo systemctl status mongod\n",
    "\n",
    "sudo systemctl stop mongod\n",
    "\n",
    "sudo systemctl restart mongod\n",
    "\n",
    "sudo gedit /etc/mongod.conf\n",
    "\n",
    "bind_ip = 0.0.0.0"
   ]
  },
  {
   "cell_type": "code",
   "execution_count": 1,
   "id": "e21225d9-0537-4934-8c1e-71682fd84a2c",
   "metadata": {},
   "outputs": [],
   "source": [
    "import pymongo"
   ]
  },
  {
   "cell_type": "code",
   "execution_count": 21,
   "id": "cdb4f800-6f38-4174-9dd6-8f7b5aa8160d",
   "metadata": {},
   "outputs": [],
   "source": [
    "%matplotlib inline\n",
    "import numpy as np\n",
    "#import pandas as pd\n",
    "import matplotlib.pyplot as plt\n",
    "#from pymongo import mongo_\n",
    "from pymongo import MongoClient\n",
    "#from pandas.io.json import json_normalize\n",
    "import json\n",
    "import warnings\n",
    "warnings.filterwarnings('ignore')"
   ]
  },
  {
   "cell_type": "code",
   "execution_count": 22,
   "id": "c8b750fe-64fc-49dc-9efd-acf3f77c398e",
   "metadata": {},
   "outputs": [],
   "source": [
    "host = '192.168.48.131'"
   ]
  },
  {
   "cell_type": "code",
   "execution_count": 23,
   "id": "3df4a55a-c5f0-41d9-b165-bd6e3b0afc56",
   "metadata": {},
   "outputs": [],
   "source": [
    "from pymongo import MongoClient\n",
    "client = MongoClient()"
   ]
  },
  {
   "cell_type": "code",
   "execution_count": 24,
   "id": "f2c53588-d95e-411e-b588-0b34fb3abe4b",
   "metadata": {},
   "outputs": [],
   "source": [
    "client = MongoClient(host, 27017)"
   ]
  },
  {
   "cell_type": "code",
   "execution_count": 25,
   "id": "1c774ff1-a59a-4dfd-ab0e-e0125ac56f1f",
   "metadata": {},
   "outputs": [],
   "source": [
    "db = client.test_database"
   ]
  },
  {
   "cell_type": "code",
   "execution_count": 26,
   "id": "59192603-e99c-4246-90b4-bc88f5f3a2d4",
   "metadata": {},
   "outputs": [
    {
     "data": {
      "text/plain": [
       "['admin', 'config', 'local']"
      ]
     },
     "execution_count": 26,
     "metadata": {},
     "output_type": "execute_result"
    }
   ],
   "source": [
    "client.list_database_names()"
   ]
  },
  {
   "cell_type": "code",
   "execution_count": 27,
   "id": "79a4f0ee-dc1a-4b4e-b0d8-a877296ab45d",
   "metadata": {},
   "outputs": [],
   "source": [
    "db = client[\"test-database\"]"
   ]
  },
  {
   "cell_type": "code",
   "execution_count": 28,
   "id": "17be0b87-d0d5-4cb8-ad59-fbb3f69a813d",
   "metadata": {},
   "outputs": [],
   "source": [
    "collection = db.test_collection"
   ]
  },
  {
   "cell_type": "code",
   "execution_count": 29,
   "id": "7e9aa7d8-5547-4e44-b925-9a8beda763ee",
   "metadata": {},
   "outputs": [],
   "source": [
    "import datetime"
   ]
  },
  {
   "cell_type": "code",
   "execution_count": 30,
   "id": "be75c556-dec8-424a-b2ea-e35927d65ed5",
   "metadata": {},
   "outputs": [],
   "source": [
    "post = {\n",
    "    \"author\": \"Mike\",\n",
    "    \"text\": \"My first blog post!\",\n",
    "    \"tags\": [\"mongodb\", \"python\", \"pymongo\"],\n",
    "    \"date\": datetime.datetime.now(tz=datetime.timezone.utc),\n",
    "}"
   ]
  },
  {
   "cell_type": "code",
   "execution_count": 31,
   "id": "0771d8b8-73f8-4c94-af4f-04afeddcc2fc",
   "metadata": {},
   "outputs": [],
   "source": [
    "posts = db.posts"
   ]
  },
  {
   "cell_type": "code",
   "execution_count": 32,
   "id": "6b71c7b3-d134-4ef7-8cd9-08b9651f60df",
   "metadata": {},
   "outputs": [],
   "source": [
    "post_id = posts.insert_one(post).inserted_id"
   ]
  },
  {
   "cell_type": "code",
   "execution_count": 34,
   "id": "14973c0d-86ff-46dd-b6fc-ea30b6670d44",
   "metadata": {},
   "outputs": [
    {
     "data": {
      "text/plain": [
       "ObjectId('66d50598c550f01a2a4b93a2')"
      ]
     },
     "execution_count": 34,
     "metadata": {},
     "output_type": "execute_result"
    }
   ],
   "source": [
    "post_id"
   ]
  },
  {
   "cell_type": "code",
   "execution_count": 35,
   "id": "485ff6dc-c29d-4196-aeb5-0cd411657fea",
   "metadata": {},
   "outputs": [
    {
     "data": {
      "text/plain": [
       "['posts']"
      ]
     },
     "execution_count": 35,
     "metadata": {},
     "output_type": "execute_result"
    }
   ],
   "source": [
    "db.list_collection_names()"
   ]
  },
  {
   "cell_type": "code",
   "execution_count": 37,
   "id": "48baf703-5033-4068-9d57-2878aa45fc7c",
   "metadata": {},
   "outputs": [
    {
     "name": "stdout",
     "output_type": "stream",
     "text": [
      "{'_id': ObjectId('66d50598c550f01a2a4b93a2'),\n",
      " 'author': 'Mike',\n",
      " 'date': datetime.datetime(2024, 9, 2, 0, 23, 50, 711000),\n",
      " 'tags': ['mongodb', 'python', 'pymongo'],\n",
      " 'text': 'My first blog post!'}\n"
     ]
    }
   ],
   "source": [
    "import pprint\n",
    "pprint.pprint(posts.find_one())"
   ]
  },
  {
   "cell_type": "code",
   "execution_count": 38,
   "id": "3e32a76c-3da3-4897-96b1-cdcbbdcc2f7f",
   "metadata": {},
   "outputs": [
    {
     "name": "stdout",
     "output_type": "stream",
     "text": [
      "{'_id': ObjectId('66d50598c550f01a2a4b93a2'),\n",
      " 'author': 'Mike',\n",
      " 'date': datetime.datetime(2024, 9, 2, 0, 23, 50, 711000),\n",
      " 'tags': ['mongodb', 'python', 'pymongo'],\n",
      " 'text': 'My first blog post!'}\n"
     ]
    }
   ],
   "source": [
    "pprint.pprint(posts.find_one({\"author\": \"Mike\"}))"
   ]
  },
  {
   "cell_type": "code",
   "execution_count": 39,
   "id": "df2ede8d-875f-4f0d-850c-271b0eaf3828",
   "metadata": {},
   "outputs": [],
   "source": [
    "posts.find_one({\"author\": \"Eliot\"})"
   ]
  },
  {
   "cell_type": "code",
   "execution_count": 40,
   "id": "ef1ccf35-f611-41c1-8ea0-4fb373227a6a",
   "metadata": {},
   "outputs": [
    {
     "data": {
      "text/plain": [
       "ObjectId('66d50598c550f01a2a4b93a2')"
      ]
     },
     "execution_count": 40,
     "metadata": {},
     "output_type": "execute_result"
    }
   ],
   "source": [
    "post_id"
   ]
  },
  {
   "cell_type": "code",
   "execution_count": 41,
   "id": "fa6b0c68-0a4f-4679-bb13-5d954667738a",
   "metadata": {},
   "outputs": [
    {
     "name": "stdout",
     "output_type": "stream",
     "text": [
      "{'_id': ObjectId('66d50598c550f01a2a4b93a2'),\n",
      " 'author': 'Mike',\n",
      " 'date': datetime.datetime(2024, 9, 2, 0, 23, 50, 711000),\n",
      " 'tags': ['mongodb', 'python', 'pymongo'],\n",
      " 'text': 'My first blog post!'}\n"
     ]
    }
   ],
   "source": [
    "pprint.pprint(posts.find_one({\"_id\": post_id}))"
   ]
  },
  {
   "cell_type": "code",
   "execution_count": 42,
   "id": "95255a53-5b2e-445b-ba1c-c94b60340ab8",
   "metadata": {},
   "outputs": [],
   "source": [
    "post_id_as_str = str(post_id)\n",
    "posts.find_one({\"_id\": post_id_as_str})  # No result"
   ]
  },
  {
   "cell_type": "code",
   "execution_count": 43,
   "id": "0a253fa2-8edf-4d68-a458-e08661f744b9",
   "metadata": {},
   "outputs": [],
   "source": [
    "from bson.objectid import ObjectId\n",
    "\n",
    "# The web framework gets post_id from the URL and passes it as a string\n",
    "def get(post_id):\n",
    "    # Convert from string to ObjectId:\n",
    "    document = client.db.collection.find_one({'_id': ObjectId(post_id)})"
   ]
  },
  {
   "cell_type": "code",
   "execution_count": 44,
   "id": "e121c6a9-049b-4635-be61-598e0e2b0631",
   "metadata": {},
   "outputs": [],
   "source": [
    "new_posts = [\n",
    "    {\n",
    "        \"author\": \"Mike\",\n",
    "        \"text\": \"Another post!\",\n",
    "        \"tags\": [\"bulk\", \"insert\"],\n",
    "        \"date\": datetime.datetime(2009, 11, 12, 11, 14),\n",
    "    },\n",
    "    {\n",
    "        \"author\": \"Eliot\",\n",
    "        \"title\": \"MongoDB is fun\",\n",
    "        \"text\": \"and pretty easy too!\",\n",
    "        \"date\": datetime.datetime(2009, 11, 10, 10, 45),\n",
    "    },\n",
    "]"
   ]
  },
  {
   "cell_type": "code",
   "execution_count": 45,
   "id": "d7ee727d-fd51-402e-80a9-d10d24c2892f",
   "metadata": {},
   "outputs": [],
   "source": [
    "result = posts.insert_many(new_posts)"
   ]
  },
  {
   "cell_type": "code",
   "execution_count": 46,
   "id": "41816996-4dbc-40e5-bfce-45771978c638",
   "metadata": {},
   "outputs": [
    {
     "data": {
      "text/plain": [
       "[ObjectId('66d506eec550f01a2a4b93a3'), ObjectId('66d506eec550f01a2a4b93a4')]"
      ]
     },
     "execution_count": 46,
     "metadata": {},
     "output_type": "execute_result"
    }
   ],
   "source": [
    "result.inserted_ids"
   ]
  },
  {
   "cell_type": "code",
   "execution_count": 47,
   "id": "d9528b2b-369d-4cbb-9978-cf59cee0c17f",
   "metadata": {},
   "outputs": [
    {
     "name": "stdout",
     "output_type": "stream",
     "text": [
      "{'_id': ObjectId('66d50598c550f01a2a4b93a2'),\n",
      " 'author': 'Mike',\n",
      " 'date': datetime.datetime(2024, 9, 2, 0, 23, 50, 711000),\n",
      " 'tags': ['mongodb', 'python', 'pymongo'],\n",
      " 'text': 'My first blog post!'}\n",
      "{'_id': ObjectId('66d506eec550f01a2a4b93a3'),\n",
      " 'author': 'Mike',\n",
      " 'date': datetime.datetime(2009, 11, 12, 11, 14),\n",
      " 'tags': ['bulk', 'insert'],\n",
      " 'text': 'Another post!'}\n",
      "{'_id': ObjectId('66d506eec550f01a2a4b93a4'),\n",
      " 'author': 'Eliot',\n",
      " 'date': datetime.datetime(2009, 11, 10, 10, 45),\n",
      " 'text': 'and pretty easy too!',\n",
      " 'title': 'MongoDB is fun'}\n"
     ]
    }
   ],
   "source": [
    "for post in posts.find():\n",
    "    pprint.pprint(post)"
   ]
  },
  {
   "cell_type": "code",
   "execution_count": 48,
   "id": "afc639a0-313d-4321-885c-4671e3bd9e8e",
   "metadata": {},
   "outputs": [
    {
     "name": "stdout",
     "output_type": "stream",
     "text": [
      "{'_id': ObjectId('66d50598c550f01a2a4b93a2'),\n",
      " 'author': 'Mike',\n",
      " 'date': datetime.datetime(2024, 9, 2, 0, 23, 50, 711000),\n",
      " 'tags': ['mongodb', 'python', 'pymongo'],\n",
      " 'text': 'My first blog post!'}\n",
      "{'_id': ObjectId('66d506eec550f01a2a4b93a3'),\n",
      " 'author': 'Mike',\n",
      " 'date': datetime.datetime(2009, 11, 12, 11, 14),\n",
      " 'tags': ['bulk', 'insert'],\n",
      " 'text': 'Another post!'}\n"
     ]
    }
   ],
   "source": [
    "for post in posts.find({\"author\": \"Mike\"}):\n",
    "    pprint.pprint(post)"
   ]
  },
  {
   "cell_type": "code",
   "execution_count": 49,
   "id": "fcc4563f-fb84-44e2-af13-bd5ab6dba3da",
   "metadata": {},
   "outputs": [
    {
     "data": {
      "text/plain": [
       "3"
      ]
     },
     "execution_count": 49,
     "metadata": {},
     "output_type": "execute_result"
    }
   ],
   "source": [
    "posts.count_documents({})"
   ]
  },
  {
   "cell_type": "code",
   "execution_count": 52,
   "id": "6a19cb2a-813a-4861-95e2-6a272ffd8c85",
   "metadata": {},
   "outputs": [
    {
     "name": "stdout",
     "output_type": "stream",
     "text": [
      "{'_id': ObjectId('66d506eec550f01a2a4b93a4'),\n",
      " 'author': 'Eliot',\n",
      " 'date': datetime.datetime(2009, 11, 10, 10, 45),\n",
      " 'text': 'and pretty easy too!',\n",
      " 'title': 'MongoDB is fun'}\n",
      "{'_id': ObjectId('66d506eec550f01a2a4b93a3'),\n",
      " 'author': 'Mike',\n",
      " 'date': datetime.datetime(2009, 11, 12, 11, 14),\n",
      " 'tags': ['bulk', 'insert'],\n",
      " 'text': 'Another post!'}\n"
     ]
    }
   ],
   "source": [
    "d = datetime.datetime(2009, 11, 12, 12)\n",
    "for post in posts.find({\"date\": {\"$lt\": d}}).sort(\"author\"):\n",
    "    pprint.pprint(post)"
   ]
  },
  {
   "cell_type": "code",
   "execution_count": 53,
   "id": "18705f4b-562d-4594-9ce7-e975aedf944f",
   "metadata": {},
   "outputs": [
    {
     "data": {
      "text/plain": [
       "['_id_', 'user_id_1']"
      ]
     },
     "execution_count": 53,
     "metadata": {},
     "output_type": "execute_result"
    }
   ],
   "source": [
    "result = db.profiles.create_index([(\"user_id\", pymongo.ASCENDING)], unique=True)\n",
    "sorted(list(db.profiles.index_information()))"
   ]
  },
  {
   "cell_type": "code",
   "execution_count": 54,
   "id": "f63cb847-6f07-49ae-8899-264f65f5be97",
   "metadata": {},
   "outputs": [],
   "source": [
    "user_profiles = [{\"user_id\": 211, \"name\": \"Luke\"}, {\"user_id\": 212, \"name\": \"Ziltoid\"}]\n",
    "result = db.profiles.insert_many(user_profiles)"
   ]
  },
  {
   "cell_type": "code",
   "execution_count": null,
   "id": "e9e10846-f5e6-4fe0-b22e-b3830d14ade5",
   "metadata": {},
   "outputs": [],
   "source": [
    "new_profile = {\"user_id\": 213, \"name\": \"Drew\"}\n",
    "duplicate_profile = {\"user_id\": 212, \"name\": \"Tommy\"}\n",
    "result = db.profiles.insert_one(new_profile)  # This is fine.\n",
    "result = db.profiles.insert_one(duplicate_profile)"
   ]
  },
  {
   "cell_type": "markdown",
   "id": "17889bda-cf88-4115-901d-de2a69acbba9",
   "metadata": {},
   "source": [
    "## Aggregation Examples\n",
    "### https://pymongo.readthedocs.io/en/stable/examples/aggregation.html"
   ]
  },
  {
   "cell_type": "code",
   "execution_count": null,
   "id": "ec8652b2-0c72-43cb-a3da-dc562c2bdde6",
   "metadata": {},
   "outputs": [],
   "source": [
    "client = MongoClient(host, 27017)"
   ]
  },
  {
   "cell_type": "code",
   "execution_count": 57,
   "id": "c005163a-e9e1-4b52-9b84-1944f708d538",
   "metadata": {},
   "outputs": [
    {
     "data": {
      "text/plain": [
       "[ObjectId('66d50bb0c550f01a2a4b93af'),\n",
       " ObjectId('66d50bb0c550f01a2a4b93b0'),\n",
       " ObjectId('66d50bb0c550f01a2a4b93b1'),\n",
       " ObjectId('66d50bb0c550f01a2a4b93b2')]"
      ]
     },
     "execution_count": 57,
     "metadata": {},
     "output_type": "execute_result"
    }
   ],
   "source": [
    "from pymongo import MongoClient\n",
    "db = MongoClient(host, 27017).aggregation_example\n",
    "result = db.things.insert_many(\n",
    "    [\n",
    "        {\"x\": 1, \"tags\": [\"dog\", \"cat\"]},\n",
    "        {\"x\": 2, \"tags\": [\"cat\"]},\n",
    "        {\"x\": 2, \"tags\": [\"mouse\", \"cat\", \"dog\"]},\n",
    "        {\"x\": 3, \"tags\": []},\n",
    "    ]\n",
    ")\n",
    "result.inserted_ids"
   ]
  },
  {
   "cell_type": "code",
   "execution_count": 58,
   "id": "3043a5fc-f1ab-4dec-b79a-d8fffc58d60b",
   "metadata": {},
   "outputs": [
    {
     "name": "stdout",
     "output_type": "stream",
     "text": [
      "[{'_id': 'cat', 'count': 3},\n",
      " {'_id': 'dog', 'count': 2},\n",
      " {'_id': 'mouse', 'count': 1}]\n"
     ]
    }
   ],
   "source": [
    "from bson.son import SON\n",
    "pipeline = [\n",
    "    {\"$unwind\": \"$tags\"},\n",
    "    {\"$group\": {\"_id\": \"$tags\", \"count\": {\"$sum\": 1}}},\n",
    "    {\"$sort\": SON([(\"count\", -1), (\"_id\", -1)])},\n",
    "]\n",
    "import pprint\n",
    "pprint.pprint(list(db.things.aggregate(pipeline)))"
   ]
  },
  {
   "cell_type": "code",
   "execution_count": 60,
   "id": "950c4d50-eb92-471f-a9d9-598babf1004c",
   "metadata": {},
   "outputs": [
    {
     "data": {
      "text/plain": [
       "{'explainVersion': '1',\n",
       " 'stages': [{'$cursor': {'queryPlanner': {'namespace': 'test-database.test_collection',\n",
       "     'indexFilterSet': False,\n",
       "     'parsedQuery': {},\n",
       "     'maxIndexedOrSolutionsReached': False,\n",
       "     'maxIndexedAndSolutionsReached': False,\n",
       "     'maxScansToExplodeReached': False,\n",
       "     'winningPlan': {'stage': 'EOF'},\n",
       "     'rejectedPlans': []}}},\n",
       "  {'$unwind': {'path': '$tags'}},\n",
       "  {'$group': {'_id': '$tags', 'count': {'$sum': {'$const': 1}}}},\n",
       "  {'$sort': {'sortKey': {'count': -1, '_id': -1}}}],\n",
       " 'serverInfo': {'host': 'pharmapp',\n",
       "  'port': 27017,\n",
       "  'version': '7.0.14',\n",
       "  'gitVersion': 'ce59cfc6a3c5e5c067dca0d30697edd68d4f5188'},\n",
       " 'serverParameters': {'internalQueryFacetBufferSizeBytes': 104857600,\n",
       "  'internalQueryFacetMaxOutputDocSizeBytes': 104857600,\n",
       "  'internalLookupStageIntermediateDocumentMaxSizeBytes': 104857600,\n",
       "  'internalDocumentSourceGroupMaxMemoryBytes': 104857600,\n",
       "  'internalQueryMaxBlockingSortMemoryUsageBytes': 104857600,\n",
       "  'internalQueryProhibitBlockingMergeOnMongoS': 0,\n",
       "  'internalQueryMaxAddToSetBytes': 104857600,\n",
       "  'internalDocumentSourceSetWindowFieldsMaxMemoryBytes': 104857600,\n",
       "  'internalQueryFrameworkControl': 'trySbeRestricted'},\n",
       " 'command': {'aggregate': 'test_collection',\n",
       "  'pipeline': [{'$unwind': '$tags'},\n",
       "   {'$group': {'_id': '$tags', 'count': {'$sum': 1}}},\n",
       "   {'$sort': {'count': -1, '_id': -1}}],\n",
       "  'cursor': {},\n",
       "  '$db': 'test-database'},\n",
       " 'ok': 1.0}"
      ]
     },
     "execution_count": 60,
     "metadata": {},
     "output_type": "execute_result"
    }
   ],
   "source": [
    "from pymongoexplain import ExplainableCollection\n",
    "ExplainableCollection(collection).aggregate(pipeline)"
   ]
  },
  {
   "cell_type": "code",
   "execution_count": 61,
   "id": "c7f4a77e-8f3e-4664-9fa3-2759fcdaeae0",
   "metadata": {},
   "outputs": [
    {
     "data": {
      "text/plain": [
       "{'explainVersion': '1',\n",
       " 'stages': [{'$cursor': {'queryPlanner': {'namespace': 'aggregation_example.things',\n",
       "     'indexFilterSet': False,\n",
       "     'parsedQuery': {},\n",
       "     'queryHash': 'B55D7837',\n",
       "     'planCacheKey': 'B55D7837',\n",
       "     'maxIndexedOrSolutionsReached': False,\n",
       "     'maxIndexedAndSolutionsReached': False,\n",
       "     'maxScansToExplodeReached': False,\n",
       "     'winningPlan': {'stage': 'PROJECTION_SIMPLE',\n",
       "      'transformBy': {'tags': 1, '_id': 0},\n",
       "      'inputStage': {'stage': 'COLLSCAN', 'direction': 'forward'}},\n",
       "     'rejectedPlans': []}}},\n",
       "  {'$unwind': {'path': '$tags'}},\n",
       "  {'$group': {'_id': '$tags', 'count': {'$sum': {'$const': 1}}}},\n",
       "  {'$sort': {'sortKey': {'count': -1, '_id': -1}}}],\n",
       " 'serverInfo': {'host': 'pharmapp',\n",
       "  'port': 27017,\n",
       "  'version': '7.0.14',\n",
       "  'gitVersion': 'ce59cfc6a3c5e5c067dca0d30697edd68d4f5188'},\n",
       " 'serverParameters': {'internalQueryFacetBufferSizeBytes': 104857600,\n",
       "  'internalQueryFacetMaxOutputDocSizeBytes': 104857600,\n",
       "  'internalLookupStageIntermediateDocumentMaxSizeBytes': 104857600,\n",
       "  'internalDocumentSourceGroupMaxMemoryBytes': 104857600,\n",
       "  'internalQueryMaxBlockingSortMemoryUsageBytes': 104857600,\n",
       "  'internalQueryProhibitBlockingMergeOnMongoS': 0,\n",
       "  'internalQueryMaxAddToSetBytes': 104857600,\n",
       "  'internalDocumentSourceSetWindowFieldsMaxMemoryBytes': 104857600,\n",
       "  'internalQueryFrameworkControl': 'trySbeRestricted'},\n",
       " 'command': {'aggregate': 'things',\n",
       "  'pipeline': [{'$unwind': '$tags'},\n",
       "   {'$group': {'_id': '$tags', 'count': {'$sum': 1}}},\n",
       "   {'$sort': {'count': -1, '_id': -1}}],\n",
       "  'explain': True,\n",
       "  'lsid': {'id': Binary(b'\\xf4+\\xf5\\xd0\\xd9\\x94B\\xc8\\x92\\x15\\x8bs\\x8dNN@', 4)},\n",
       "  '$db': 'aggregation_example'},\n",
       " 'ok': 1.0}"
      ]
     },
     "execution_count": 61,
     "metadata": {},
     "output_type": "execute_result"
    }
   ],
   "source": [
    "db.command('aggregate', 'things', pipeline=pipeline, explain=True)"
   ]
  },
  {
   "cell_type": "code",
   "execution_count": 64,
   "id": "9f0c9928-737a-4d63-a251-3530edcae092",
   "metadata": {},
   "outputs": [
    {
     "ename": "SyntaxError",
     "evalue": "invalid syntax (489312058.py, line 5)",
     "output_type": "error",
     "traceback": [
      "\u001b[1;36m  Cell \u001b[1;32mIn[64], line 5\u001b[1;36m\u001b[0m\n\u001b[1;33m    $match: { size: \"medium\" }\u001b[0m\n\u001b[1;37m    ^\u001b[0m\n\u001b[1;31mSyntaxError\u001b[0m\u001b[1;31m:\u001b[0m invalid syntax\n"
     ]
    }
   ],
   "source": [
    "db.orders.aggregate( [\n",
    "\n",
    "   # Stage 1: Filter pizza order documents by pizza size\n",
    "   {\n",
    "      $match: { size: \"medium\" }\n",
    "   },\n",
    "\n",
    "   # Stage 2: Group remaining documents by pizza name and calculate total quantity\n",
    "   {\n",
    "      $group: { _id: \"$name\", totalQuantity: { $sum: \"$quantity\" } }\n",
    "   }\n",
    "\n",
    "] )"
   ]
  },
  {
   "cell_type": "code",
   "execution_count": 62,
   "id": "c9f6060a-0f8d-4116-bc22-61498a327602",
   "metadata": {},
   "outputs": [
    {
     "ename": "NameError",
     "evalue": "name '_id' is not defined",
     "output_type": "error",
     "traceback": [
      "\u001b[1;31m---------------------------------------------------------------------------\u001b[0m",
      "\u001b[1;31mNameError\u001b[0m                                 Traceback (most recent call last)",
      "Cell \u001b[1;32mIn[62], line 2\u001b[0m\n\u001b[0;32m      1\u001b[0m db\u001b[38;5;241m.\u001b[39morders\u001b[38;5;241m.\u001b[39minsertMany( [\n\u001b[1;32m----> 2\u001b[0m    { \u001b[43m_id\u001b[49m: \u001b[38;5;241m0\u001b[39m, name: \u001b[38;5;124m\"\u001b[39m\u001b[38;5;124mPepperoni\u001b[39m\u001b[38;5;124m\"\u001b[39m, size: \u001b[38;5;124m\"\u001b[39m\u001b[38;5;124msmall\u001b[39m\u001b[38;5;124m\"\u001b[39m, price: \u001b[38;5;241m19\u001b[39m,\n\u001b[0;32m      3\u001b[0m      quantity: \u001b[38;5;241m10\u001b[39m, date: ISODate( \u001b[38;5;124m\"\u001b[39m\u001b[38;5;124m2021-03-13T08:14:30Z\u001b[39m\u001b[38;5;124m\"\u001b[39m ) },\n\u001b[0;32m      4\u001b[0m    { _id: \u001b[38;5;241m1\u001b[39m, name: \u001b[38;5;124m\"\u001b[39m\u001b[38;5;124mPepperoni\u001b[39m\u001b[38;5;124m\"\u001b[39m, size: \u001b[38;5;124m\"\u001b[39m\u001b[38;5;124mmedium\u001b[39m\u001b[38;5;124m\"\u001b[39m, price: \u001b[38;5;241m20\u001b[39m,\n\u001b[0;32m      5\u001b[0m      quantity: \u001b[38;5;241m20\u001b[39m, date : ISODate( \u001b[38;5;124m\"\u001b[39m\u001b[38;5;124m2021-03-13T09:13:24Z\u001b[39m\u001b[38;5;124m\"\u001b[39m ) },\n\u001b[0;32m      6\u001b[0m    { _id: \u001b[38;5;241m2\u001b[39m, name: \u001b[38;5;124m\"\u001b[39m\u001b[38;5;124mPepperoni\u001b[39m\u001b[38;5;124m\"\u001b[39m, size: \u001b[38;5;124m\"\u001b[39m\u001b[38;5;124mlarge\u001b[39m\u001b[38;5;124m\"\u001b[39m, price: \u001b[38;5;241m21\u001b[39m,\n\u001b[0;32m      7\u001b[0m      quantity: \u001b[38;5;241m30\u001b[39m, date : ISODate( \u001b[38;5;124m\"\u001b[39m\u001b[38;5;124m2021-03-17T09:22:12Z\u001b[39m\u001b[38;5;124m\"\u001b[39m ) },\n\u001b[0;32m      8\u001b[0m    { _id: \u001b[38;5;241m3\u001b[39m, name: \u001b[38;5;124m\"\u001b[39m\u001b[38;5;124mCheese\u001b[39m\u001b[38;5;124m\"\u001b[39m, size: \u001b[38;5;124m\"\u001b[39m\u001b[38;5;124msmall\u001b[39m\u001b[38;5;124m\"\u001b[39m, price: \u001b[38;5;241m12\u001b[39m,\n\u001b[0;32m      9\u001b[0m      quantity: \u001b[38;5;241m15\u001b[39m, date : ISODate( \u001b[38;5;124m\"\u001b[39m\u001b[38;5;124m2021-03-13T11:21:39.736Z\u001b[39m\u001b[38;5;124m\"\u001b[39m ) },\n\u001b[0;32m     10\u001b[0m    { _id: \u001b[38;5;241m4\u001b[39m, name: \u001b[38;5;124m\"\u001b[39m\u001b[38;5;124mCheese\u001b[39m\u001b[38;5;124m\"\u001b[39m, size: \u001b[38;5;124m\"\u001b[39m\u001b[38;5;124mmedium\u001b[39m\u001b[38;5;124m\"\u001b[39m, price: \u001b[38;5;241m13\u001b[39m,\n\u001b[0;32m     11\u001b[0m      quantity:\u001b[38;5;241m50\u001b[39m, date : ISODate( \u001b[38;5;124m\"\u001b[39m\u001b[38;5;124m2022-01-12T21:23:13.331Z\u001b[39m\u001b[38;5;124m\"\u001b[39m ) },\n\u001b[0;32m     12\u001b[0m    { _id: \u001b[38;5;241m5\u001b[39m, name: \u001b[38;5;124m\"\u001b[39m\u001b[38;5;124mCheese\u001b[39m\u001b[38;5;124m\"\u001b[39m, size: \u001b[38;5;124m\"\u001b[39m\u001b[38;5;124mlarge\u001b[39m\u001b[38;5;124m\"\u001b[39m, price: \u001b[38;5;241m14\u001b[39m,\n\u001b[0;32m     13\u001b[0m      quantity: \u001b[38;5;241m10\u001b[39m, date : ISODate( \u001b[38;5;124m\"\u001b[39m\u001b[38;5;124m2022-01-12T05:08:13Z\u001b[39m\u001b[38;5;124m\"\u001b[39m ) },\n\u001b[0;32m     14\u001b[0m    { _id: \u001b[38;5;241m6\u001b[39m, name: \u001b[38;5;124m\"\u001b[39m\u001b[38;5;124mVegan\u001b[39m\u001b[38;5;124m\"\u001b[39m, size: \u001b[38;5;124m\"\u001b[39m\u001b[38;5;124msmall\u001b[39m\u001b[38;5;124m\"\u001b[39m, price: \u001b[38;5;241m17\u001b[39m,\n\u001b[0;32m     15\u001b[0m      quantity: \u001b[38;5;241m10\u001b[39m, date : ISODate( \u001b[38;5;124m\"\u001b[39m\u001b[38;5;124m2021-01-13T05:08:13Z\u001b[39m\u001b[38;5;124m\"\u001b[39m ) },\n\u001b[0;32m     16\u001b[0m    { _id: \u001b[38;5;241m7\u001b[39m, name: \u001b[38;5;124m\"\u001b[39m\u001b[38;5;124mVegan\u001b[39m\u001b[38;5;124m\"\u001b[39m, size: \u001b[38;5;124m\"\u001b[39m\u001b[38;5;124mmedium\u001b[39m\u001b[38;5;124m\"\u001b[39m, price: \u001b[38;5;241m18\u001b[39m,\n\u001b[0;32m     17\u001b[0m      quantity: \u001b[38;5;241m10\u001b[39m, date : ISODate( \u001b[38;5;124m\"\u001b[39m\u001b[38;5;124m2021-01-13T05:10:13Z\u001b[39m\u001b[38;5;124m\"\u001b[39m ) }\n\u001b[0;32m     18\u001b[0m ] )\n",
      "\u001b[1;31mNameError\u001b[0m: name '_id' is not defined"
     ]
    }
   ],
   "source": [
    "db.orders.insertMany( [\n",
    "   { _id: 0, name: \"Pepperoni\", size: \"small\", price: 19,\n",
    "     quantity: 10, date: ISODate( \"2021-03-13T08:14:30Z\" ) },\n",
    "   { _id: 1, name: \"Pepperoni\", size: \"medium\", price: 20,\n",
    "     quantity: 20, date : ISODate( \"2021-03-13T09:13:24Z\" ) },\n",
    "   { _id: 2, name: \"Pepperoni\", size: \"large\", price: 21,\n",
    "     quantity: 30, date : ISODate( \"2021-03-17T09:22:12Z\" ) },\n",
    "   { _id: 3, name: \"Cheese\", size: \"small\", price: 12,\n",
    "     quantity: 15, date : ISODate( \"2021-03-13T11:21:39.736Z\" ) },\n",
    "   { _id: 4, name: \"Cheese\", size: \"medium\", price: 13,\n",
    "     quantity:50, date : ISODate( \"2022-01-12T21:23:13.331Z\" ) },\n",
    "   { _id: 5, name: \"Cheese\", size: \"large\", price: 14,\n",
    "     quantity: 10, date : ISODate( \"2022-01-12T05:08:13Z\" ) },\n",
    "   { _id: 6, name: \"Vegan\", size: \"small\", price: 17,\n",
    "     quantity: 10, date : ISODate( \"2021-01-13T05:08:13Z\" ) },\n",
    "   { _id: 7, name: \"Vegan\", size: \"medium\", price: 18,\n",
    "     quantity: 10, date : ISODate( \"2021-01-13T05:10:13Z\" ) }\n",
    "] )"
   ]
  },
  {
   "cell_type": "code",
   "execution_count": null,
   "id": "48c6956c-9d2e-497b-8ab8-de7ac0c0e836",
   "metadata": {},
   "outputs": [],
   "source": []
  }
 ],
 "metadata": {
  "kernelspec": {
   "display_name": "Python 3 (ipykernel)",
   "language": "python",
   "name": "python3"
  },
  "language_info": {
   "codemirror_mode": {
    "name": "ipython",
    "version": 3
   },
   "file_extension": ".py",
   "mimetype": "text/x-python",
   "name": "python",
   "nbconvert_exporter": "python",
   "pygments_lexer": "ipython3",
   "version": "3.12.5"
  }
 },
 "nbformat": 4,
 "nbformat_minor": 5
}
