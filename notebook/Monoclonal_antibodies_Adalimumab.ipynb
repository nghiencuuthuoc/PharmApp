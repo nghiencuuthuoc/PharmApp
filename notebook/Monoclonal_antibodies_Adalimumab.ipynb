{
 "cells": [
  {
   "cell_type": "code",
   "execution_count": null,
   "id": "5b923d12-0fc3-4272-9971-3ac40f085ae6",
   "metadata": {},
   "outputs": [],
   "source": []
  },
  {
   "cell_type": "markdown",
   "id": "79ef369a-0732-4567-9348-ead85d8ce10e",
   "metadata": {},
   "source": [
    "## how show 3d of adalimumab with python code?"
   ]
  },
  {
   "cell_type": "code",
   "execution_count": 6,
   "id": "d208df6b-88cf-40f3-b5a8-d12b48229e0e",
   "metadata": {},
   "outputs": [
    {
     "ename": "ModuleNotFoundError",
     "evalue": "No module named 'Bio'",
     "output_type": "error",
     "traceback": [
      "\u001b[1;31m---------------------------------------------------------------------------\u001b[0m",
      "\u001b[1;31mModuleNotFoundError\u001b[0m                       Traceback (most recent call last)",
      "Cell \u001b[1;32mIn[6], line 2\u001b[0m\n\u001b[0;32m      1\u001b[0m \u001b[38;5;28;01mimport\u001b[39;00m \u001b[38;5;21;01mos\u001b[39;00m\n\u001b[1;32m----> 2\u001b[0m \u001b[38;5;28;01mimport\u001b[39;00m \u001b[38;5;21;01mBio\u001b[39;00m\u001b[38;5;21;01m.\u001b[39;00m\u001b[38;5;21;01mPDB\u001b[39;00m\n\u001b[0;32m      3\u001b[0m \u001b[38;5;28;01mfrom\u001b[39;00m \u001b[38;5;21;01mBio\u001b[39;00m\u001b[38;5;21;01m.\u001b[39;00m\u001b[38;5;21;01mPDB\u001b[39;00m \u001b[38;5;28;01mimport\u001b[39;00m \u001b[38;5;241m*\u001b[39m\n\u001b[0;32m      4\u001b[0m \u001b[38;5;28;01mimport\u001b[39;00m \u001b[38;5;21;01mpymol\u001b[39;00m\n",
      "\u001b[1;31mModuleNotFoundError\u001b[0m: No module named 'Bio'"
     ]
    }
   ],
   "source": [
    "import os\n",
    "import Bio.PDB\n",
    "from Bio.PDB import *\n",
    "import pymol\n",
    "import requests\n",
    "from pathlib import Path\n",
    "\n",
    "class AdalimumabVisualizer:\n",
    "    def __init__(self, pdb_id=\"6GRL\"):  # 6GRL is one of the PDB IDs for adalimumab\n",
    "        self.pdb_id = pdb_id\n",
    "        self.pdb_file = f\"{pdb_id}.pdb\"\n",
    "        self.parser = Bio.PDB.PDBParser(QUIET=True)\n",
    "        \n",
    "    def download_structure(self):\n",
    "        \"\"\"Download PDB file if not already present\"\"\"\n",
    "        if not os.path.exists(self.pdb_file):\n",
    "            url = f\"https://files.rcsb.org/download/{self.pdb_id}.pdb\"\n",
    "            response = requests.get(url)\n",
    "            if response.status_code == 200:\n",
    "                with open(self.pdb_file, 'wb') as f:\n",
    "                    f.write(response.content)\n",
    "                print(f\"Downloaded PDB file: {self.pdb_file}\")\n",
    "            else:\n",
    "                raise Exception(f\"Failed to download PDB file: {response.status_code}\")\n",
    "                \n",
    "    def analyze_structure(self):\n",
    "        \"\"\"Analyze the protein structure\"\"\"\n",
    "        structure = self.parser.get_structure(self.pdb_id, self.pdb_file)\n",
    "        \n",
    "        # Get basic structure information\n",
    "        chains = list(structure.get_chains())\n",
    "        residues = list(structure.get_residues())\n",
    "        atoms = list(structure.get_atoms())\n",
    "        \n",
    "        print(f\"\\nStructure Analysis of Adalimumab ({self.pdb_id}):\")\n",
    "        print(f\"Number of chains: {len(chains)}\")\n",
    "        print(f\"Number of residues: {len(residues)}\")\n",
    "        print(f\"Number of atoms: {len(atoms)}\")\n",
    "        \n",
    "        return structure\n",
    "    \n",
    "    def visualize_pymol(self):\n",
    "        \"\"\"Create PyMOL visualization\"\"\"\n",
    "        pymol.finish_launching()\n",
    "        cmd = pymol.cmd\n",
    "        \n",
    "        # Load structure\n",
    "        cmd.load(self.pdb_file)\n",
    "        \n",
    "        # Clear previous settings\n",
    "        cmd.delete(\"all\")\n",
    "        cmd.load(self.pdb_file)\n",
    "        \n",
    "        # Basic representation\n",
    "        cmd.hide(\"all\")\n",
    "        cmd.show(\"cartoon\")\n",
    "        cmd.color(\"marine\")\n",
    "        \n",
    "        # Highlight important regions\n",
    "        cmd.select(\"binding_site\", \"resi 91-102\")  # Example binding site residues\n",
    "        cmd.color(\"yellow\", \"binding_site\")\n",
    "        cmd.show(\"sticks\", \"binding_site\")\n",
    "        \n",
    "        # CDR regions (complementarity-determining regions)\n",
    "        cdr_regions = {\n",
    "            \"CDR-H1\": \"resi 31-35\",\n",
    "            \"CDR-H2\": \"resi 50-65\",\n",
    "            \"CDR-H3\": \"resi 95-102\",\n",
    "            \"CDR-L1\": \"resi 24-34\",\n",
    "            \"CDR-L2\": \"resi 50-56\",\n",
    "            \"CDR-L3\": \"resi 89-97\"\n",
    "        }\n",
    "        \n",
    "        colors = [\"red\", \"green\", \"blue\", \"orange\", \"purple\", \"cyan\"]\n",
    "        \n",
    "        for (cdr, selection), color in zip(cdr_regions.items(), colors):\n",
    "            cmd.select(cdr, selection)\n",
    "            cmd.color(color, cdr)\n",
    "            cmd.show(\"sticks\", cdr)\n",
    "        \n",
    "        # Additional visualization settings\n",
    "        cmd.set(\"cartoon_transparency\", 0.5)\n",
    "        cmd.set(\"sphere_transparency\", 0.5)\n",
    "        cmd.set(\"stick_radius\", 0.3)\n",
    "        cmd.set(\"surface_quality\", 1)\n",
    "        \n",
    "        # Set view\n",
    "        cmd.zoom()\n",
    "        cmd.orient()\n",
    "        \n",
    "        # Add surface representation\n",
    "        cmd.show(\"surface\", \"all\")\n",
    "        cmd.set(\"surface_transparency\", 0.3)\n",
    "        \n",
    "        print(\"\\nVisualization controls:\")\n",
    "        print(\"- Left mouse: Rotate\")\n",
    "        print(\"- Middle mouse: Zoom\")\n",
    "        print(\"- Right mouse: Translate\")\n",
    "        print(\"- Ctrl+Left mouse: Clip\")\n",
    "        \n",
    "        # Keep PyMOL session open\n",
    "        pymol.cmd.rock()\n",
    "\n",
    "def main():\n",
    "    # Initialize visualizer\n",
    "    viz = AdalimumabVisualizer()\n",
    "    \n",
    "    try:\n",
    "        # Download structure\n",
    "        viz.download_structure()\n",
    "        \n",
    "        # Analyze structure\n",
    "        structure = viz.analyze_structure()\n",
    "        \n",
    "        # Create visualization\n",
    "        viz.visualize_pymol()\n",
    "        \n",
    "    except Exception as e:\n",
    "        print(f\"Error: {str(e)}\")\n",
    "        \n",
    "if __name__ == \"__main__\":\n",
    "    main()"
   ]
  },
  {
   "cell_type": "code",
   "execution_count": null,
   "id": "01aa7373-1603-4ad7-96b6-8059b549228e",
   "metadata": {},
   "outputs": [],
   "source": [
    "import py3Dmol\n",
    "\n",
    "# Load the PDB file (for example, 1HZH is a known antibody structure)\n",
    "pdb_code = \"1HZH\"  # Replace with your monoclonal antibody's PDB code\n",
    "\n",
    "# Fetch the PDB structure from RCSB PDB\n",
    "url = f\"https://files.rcsb.org/download/{pdb_code}.pdb\"\n",
    "\n",
    "# Create a viewer object\n",
    "viewer = py3Dmol.view(width=800, height=600)\n",
    "\n",
    "# Add the PDB structure to the viewer\n",
    "viewer.addModelFromUrl(url, \"pdb\")\n",
    "\n",
    "# Style the visualization (you can adjust these as needed)\n",
    "viewer.setStyle({'chain': 'A'}, {'stick': {}})\n",
    "viewer.setStyle({'chain': 'B'}, {'cartoon': {'color': 'blue'}})\n",
    "\n",
    "# Zoom in and render the structure\n",
    "viewer.zoomTo()\n",
    "viewer.show()\n"
   ]
  },
  {
   "cell_type": "code",
   "execution_count": 5,
   "id": "0e90adc4-5ead-4e85-8b4d-dea1c101c293",
   "metadata": {},
   "outputs": [
    {
     "ename": "ModuleNotFoundError",
     "evalue": "No module named 'Bio'",
     "output_type": "error",
     "traceback": [
      "\u001b[1;31m---------------------------------------------------------------------------\u001b[0m",
      "\u001b[1;31mModuleNotFoundError\u001b[0m                       Traceback (most recent call last)",
      "Cell \u001b[1;32mIn[5], line 2\u001b[0m\n\u001b[0;32m      1\u001b[0m \u001b[38;5;28;01mimport\u001b[39;00m \u001b[38;5;21;01mnglview\u001b[39;00m \u001b[38;5;28;01mas\u001b[39;00m \u001b[38;5;21;01mnv\u001b[39;00m\n\u001b[1;32m----> 2\u001b[0m \u001b[38;5;28;01mfrom\u001b[39;00m \u001b[38;5;21;01mBio\u001b[39;00m\u001b[38;5;21;01m.\u001b[39;00m\u001b[38;5;21;01mPDB\u001b[39;00m \u001b[38;5;28;01mimport\u001b[39;00m PDBList\n\u001b[0;32m      4\u001b[0m \u001b[38;5;66;03m# Fetch PDB structure (you can replace with your own mAb structure)\u001b[39;00m\n\u001b[0;32m      5\u001b[0m pdb_code \u001b[38;5;241m=\u001b[39m \u001b[38;5;124m'\u001b[39m\u001b[38;5;124m1HZH\u001b[39m\u001b[38;5;124m'\u001b[39m  \u001b[38;5;66;03m# Replace with monoclonal antibody's PDB code\u001b[39;00m\n",
      "\u001b[1;31mModuleNotFoundError\u001b[0m: No module named 'Bio'"
     ]
    }
   ],
   "source": [
    "import nglview as nv\n",
    "from Bio.PDB import PDBList\n",
    "\n",
    "# Fetch PDB structure (you can replace with your own mAb structure)\n",
    "pdb_code = '1HZH'  # Replace with monoclonal antibody's PDB code\n",
    "pdbl = PDBList()\n",
    "pdbl.retrieve_pdb_file(pdb_code, pdir='.', file_format='pdb')\n",
    "\n",
    "# Load and visualize with nglview\n",
    "view = nv.show_pdbid(pdb_code)\n",
    "view"
   ]
  },
  {
   "cell_type": "code",
   "execution_count": 8,
   "id": "0ef15226-4fd6-44b8-ba0b-43465a3a5c30",
   "metadata": {},
   "outputs": [
    {
     "ename": "ModuleNotFoundError",
     "evalue": "No module named 'rdkit'",
     "output_type": "error",
     "traceback": [
      "\u001b[1;31m---------------------------------------------------------------------------\u001b[0m",
      "\u001b[1;31mModuleNotFoundError\u001b[0m                       Traceback (most recent call last)",
      "Cell \u001b[1;32mIn[8], line 1\u001b[0m\n\u001b[1;32m----> 1\u001b[0m \u001b[38;5;28;01mimport\u001b[39;00m \u001b[38;5;21;01mrdkit\u001b[39;00m\n\u001b[0;32m      2\u001b[0m rdkit\u001b[38;5;241m.\u001b[39m__version__\n",
      "\u001b[1;31mModuleNotFoundError\u001b[0m: No module named 'rdkit'"
     ]
    }
   ],
   "source": [
    "import rdkit\n",
    "rdkit.__version__"
   ]
  },
  {
   "cell_type": "markdown",
   "id": "13b288f6-463c-44a7-b48b-eaf4f519d790",
   "metadata": {},
   "source": [
    "## Help me retrieve Physicochemical Properties of adalimumab?"
   ]
  },
  {
   "cell_type": "code",
   "execution_count": null,
   "id": "43992eea-5efe-4916-bd91-f94e5516fbc9",
   "metadata": {},
   "outputs": [],
   "source": [
    "import requests\n",
    "\n",
    "# UniProt API to fetch sequence for adalimumab or a similar protein\n",
    "url = \"https://www.uniprot.org/uniprot/P06813.fasta\"  # Example: Human TNF receptor (could be a similar antibody)\n",
    "\n",
    "response = requests.get(url)\n",
    "sequence = response.text.split(\"\\n\")[1:]  # Skip header and get the sequence\n",
    "\n",
    "# Combine sequence\n",
    "sequence = \"\".join(sequence)\n",
    "\n",
    "# Now use Biopython or other tools to analyze the sequence\n",
    "from Bio.SeqUtils import molecular_weight\n",
    "from Bio.Seq import Seq\n",
    "\n",
    "# Calculate molecular weight (Da)\n",
    "protein_sequence = Seq(sequence)\n",
    "mw = molecular_weight(protein_sequence)\n",
    "\n",
    "print(f\"Molecular weight: {mw} Da\")\n"
   ]
  },
  {
   "cell_type": "code",
   "execution_count": null,
   "id": "c57158f1-5a6a-4915-9a3d-7584b8c65c74",
   "metadata": {},
   "outputs": [],
   "source": []
  }
 ],
 "metadata": {
  "kernelspec": {
   "display_name": "Python 3 (ipykernel)",
   "language": "python",
   "name": "python3"
  },
  "language_info": {
   "codemirror_mode": {
    "name": "ipython",
    "version": 3
   },
   "file_extension": ".py",
   "mimetype": "text/x-python",
   "name": "python",
   "nbconvert_exporter": "python",
   "pygments_lexer": "ipython3",
   "version": "3.12.5"
  }
 },
 "nbformat": 4,
 "nbformat_minor": 5
}
