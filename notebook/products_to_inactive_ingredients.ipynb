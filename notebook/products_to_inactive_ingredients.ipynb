{
 "cells": [
  {
   "cell_type": "markdown",
   "id": "2b3ab943-fac4-48b6-bde7-cf6683cd83c4",
   "metadata": {},
   "source": [
    "<table align=\"center\">\n",
    "  <td>\n",
    "    <a href=\"https://colab.research.google.com/github/nghiencuuthuoc/PharmApp/PharmApp.ipynb\" target=\"_parent\"><img src=\"https://colab.research.google.com/assets/colab-badge.svg\" alt=\"Open In Colab\"/></a>\n",
    "  </td>\n",
    "  <td>\n",
    "    <a target=\"_blank\" href=\"https://kaggle.com/kernels/welcome?src=https://github.com/nghiencuuthuoc/PharmApp/blob/master/PharmApp.ipynb\"><img src=\"https://kaggle.com/static/images/open-in-kaggle.svg\" /></a>\n",
    "  </td>\n",
    "</table>\n",
    "\n",
    "\n",
    "![](https://raw.githubusercontent.com/nghiencuuthuoc/PharmApp/refs/heads/master/images/PharmApp-logo.png)\n",
    "\n",
    "# PharmApp - Drug Discovery and Development\n",
    "Copyright 2024 | Nghiên Cứu Thuốc | RD_Pharma_Plus\n",
    "\n",
    "Email: nghiencuuthuoc@gmail.com | Web: nghiencuuthuoc.com | FB: facebook.com/nghiencuuthuoc | YouTube: youtube.com/@nghiencuuthuoc \n",
    "\n",
    "LinkedIn: linkedin.com/in/nghiencuuthuoc | Zalo: +84888999311 | WhatsApp: +84888999311 | Twitter: x.com/nghiencuuthuoc"
   ]
  },
  {
   "cell_type": "markdown",
   "id": "a5759108-6233-4a30-b7e2-95c90cf7574a",
   "metadata": {},
   "source": [
    "# Extract product_name to excipients"
   ]
  },
  {
   "cell_type": "markdown",
   "id": "0b0f6265-7eea-4a99-97f4-e75dc3c9bf88",
   "metadata": {},
   "source": [
    "## Tìm tá dược cho các thuốc sắp hết patents"
   ]
  },
  {
   "cell_type": "markdown",
   "id": "1401e5b7-bbc5-4e3c-9909-c0d44dedb6b4",
   "metadata": {},
   "source": [
    "## Database: products_to_inactive_ingredients"
   ]
  },
  {
   "cell_type": "code",
   "execution_count": 3,
   "id": "88bb1dd7-3fa4-46a4-b364-e20d39b3a24f",
   "metadata": {},
   "outputs": [
    {
     "data": {
      "text/plain": [
       "'D:\\\\PharmApp\\\\notebook'"
      ]
     },
     "execution_count": 3,
     "metadata": {},
     "output_type": "execute_result"
    }
   ],
   "source": [
    "import sys\n",
    "sys.path.append('..')\n",
    "import os\n",
    "os.getcwd()"
   ]
  },
  {
   "cell_type": "code",
   "execution_count": 4,
   "id": "5bc8bf45-d222-47fa-bd06-9ffeb1f2af1e",
   "metadata": {},
   "outputs": [],
   "source": [
    "import pandas as pd"
   ]
  },
  {
   "cell_type": "markdown",
   "id": "2f53d9f7-59eb-4e0c-b81a-d813712ecc0a",
   "metadata": {},
   "source": [
    "## Dữ liệu về tá dược cập nhật 2024-08"
   ]
  },
  {
   "cell_type": "code",
   "execution_count": 19,
   "id": "afa88878-7f3e-45c8-a9b2-d63671a6c940",
   "metadata": {},
   "outputs": [
    {
     "data": {
      "text/html": [
       "<div>\n",
       "<style scoped>\n",
       "    .dataframe tbody tr th:only-of-type {\n",
       "        vertical-align: middle;\n",
       "    }\n",
       "\n",
       "    .dataframe tbody tr th {\n",
       "        vertical-align: top;\n",
       "    }\n",
       "\n",
       "    .dataframe thead th {\n",
       "        text-align: right;\n",
       "    }\n",
       "</style>\n",
       "<table border=\"1\" class=\"dataframe\">\n",
       "  <thead>\n",
       "    <tr style=\"text-align: right;\">\n",
       "      <th></th>\n",
       "      <th>ndc9</th>\n",
       "      <th>ndc</th>\n",
       "      <th>product_rxcui</th>\n",
       "      <th>product_name</th>\n",
       "      <th>product_tty</th>\n",
       "      <th>inactive_ingredient_unii</th>\n",
       "      <th>inactive_ingredient_rxcui</th>\n",
       "      <th>inactive_ingredient_name</th>\n",
       "      <th>inactive_ingredient_tty</th>\n",
       "      <th>active</th>\n",
       "      <th>prescribable</th>\n",
       "    </tr>\n",
       "  </thead>\n",
       "  <tbody>\n",
       "    <tr>\n",
       "      <th>0</th>\n",
       "      <td>000020152</td>\n",
       "      <td>0002-0152</td>\n",
       "      <td>2679323</td>\n",
       "      <td>tirzepatide 2.5 mg in 0.5 mL SUBCUTANEOUS INJE...</td>\n",
       "      <td>DP</td>\n",
       "      <td>059QF0KO0R</td>\n",
       "      <td>11295</td>\n",
       "      <td>Water</td>\n",
       "      <td>SU</td>\n",
       "      <td>True</td>\n",
       "      <td>True</td>\n",
       "    </tr>\n",
       "    <tr>\n",
       "      <th>1</th>\n",
       "      <td>000020152</td>\n",
       "      <td>0002-0152</td>\n",
       "      <td>2679323</td>\n",
       "      <td>tirzepatide 2.5 mg in 0.5 mL SUBCUTANEOUS INJE...</td>\n",
       "      <td>DP</td>\n",
       "      <td>451W47IQ8X</td>\n",
       "      <td>9863</td>\n",
       "      <td>Sodium Chloride</td>\n",
       "      <td>SU</td>\n",
       "      <td>True</td>\n",
       "      <td>True</td>\n",
       "    </tr>\n",
       "    <tr>\n",
       "      <th>2</th>\n",
       "      <td>000020152</td>\n",
       "      <td>0002-0152</td>\n",
       "      <td>2679323</td>\n",
       "      <td>tirzepatide 2.5 mg in 0.5 mL SUBCUTANEOUS INJE...</td>\n",
       "      <td>DP</td>\n",
       "      <td>55X04QC32I</td>\n",
       "      <td>9880</td>\n",
       "      <td>Sodium Hydroxide</td>\n",
       "      <td>SU</td>\n",
       "      <td>True</td>\n",
       "      <td>True</td>\n",
       "    </tr>\n",
       "    <tr>\n",
       "      <th>3</th>\n",
       "      <td>000020152</td>\n",
       "      <td>0002-0152</td>\n",
       "      <td>2679323</td>\n",
       "      <td>tirzepatide 2.5 mg in 0.5 mL SUBCUTANEOUS INJE...</td>\n",
       "      <td>DP</td>\n",
       "      <td>70WT22SF4B</td>\n",
       "      <td>221090</td>\n",
       "      <td>Sodium Phosphate, Dibasic, Heptahydrate</td>\n",
       "      <td>SU</td>\n",
       "      <td>True</td>\n",
       "      <td>True</td>\n",
       "    </tr>\n",
       "    <tr>\n",
       "      <th>4</th>\n",
       "      <td>000020152</td>\n",
       "      <td>0002-0152</td>\n",
       "      <td>2679323</td>\n",
       "      <td>tirzepatide 2.5 mg in 0.5 mL SUBCUTANEOUS INJE...</td>\n",
       "      <td>DP</td>\n",
       "      <td>QTT17582CB</td>\n",
       "      <td>5486</td>\n",
       "      <td>Hydrochloric Acid</td>\n",
       "      <td>SU</td>\n",
       "      <td>True</td>\n",
       "      <td>True</td>\n",
       "    </tr>\n",
       "    <tr>\n",
       "      <th>...</th>\n",
       "      <td>...</td>\n",
       "      <td>...</td>\n",
       "      <td>...</td>\n",
       "      <td>...</td>\n",
       "      <td>...</td>\n",
       "      <td>...</td>\n",
       "      <td>...</td>\n",
       "      <td>...</td>\n",
       "      <td>...</td>\n",
       "      <td>...</td>\n",
       "      <td>...</td>\n",
       "    </tr>\n",
       "    <tr>\n",
       "      <th>1638662</th>\n",
       "      <td>W2434S139</td>\n",
       "      <td>W2434-S1393</td>\n",
       "      <td>1736002</td>\n",
       "      <td>human cord blood hematopoietic progenitor cell...</td>\n",
       "      <td>DP</td>\n",
       "      <td>K3R6ZDH4DU</td>\n",
       "      <td>3272</td>\n",
       "      <td>Dextran 40</td>\n",
       "      <td>SU</td>\n",
       "      <td>True</td>\n",
       "      <td>False</td>\n",
       "    </tr>\n",
       "    <tr>\n",
       "      <th>1638663</th>\n",
       "      <td>W2434S139</td>\n",
       "      <td>W2434-S1393</td>\n",
       "      <td>1736002</td>\n",
       "      <td>human cord blood hematopoietic progenitor cell...</td>\n",
       "      <td>DP</td>\n",
       "      <td>YOW8V9698H</td>\n",
       "      <td>3455</td>\n",
       "      <td>dimethyl sulfoxide</td>\n",
       "      <td>SU</td>\n",
       "      <td>True</td>\n",
       "      <td>False</td>\n",
       "    </tr>\n",
       "    <tr>\n",
       "      <th>1638664</th>\n",
       "      <td>W4215S139</td>\n",
       "      <td>W4215-S1393</td>\n",
       "      <td>1924453</td>\n",
       "      <td>human cord blood hematopoietic progenitor cell...</td>\n",
       "      <td>DP</td>\n",
       "      <td>1GVO236S58</td>\n",
       "      <td>1363352</td>\n",
       "      <td>HYDROXYETHYL STARCH 130/0.4</td>\n",
       "      <td>SU</td>\n",
       "      <td>True</td>\n",
       "      <td>False</td>\n",
       "    </tr>\n",
       "    <tr>\n",
       "      <th>1638665</th>\n",
       "      <td>W4215S139</td>\n",
       "      <td>W4215-S1393</td>\n",
       "      <td>1924453</td>\n",
       "      <td>human cord blood hematopoietic progenitor cell...</td>\n",
       "      <td>DP</td>\n",
       "      <td>K3R6ZDH4DU</td>\n",
       "      <td>3272</td>\n",
       "      <td>DEXTRAN 40</td>\n",
       "      <td>SU</td>\n",
       "      <td>True</td>\n",
       "      <td>False</td>\n",
       "    </tr>\n",
       "    <tr>\n",
       "      <th>1638666</th>\n",
       "      <td>W4215S139</td>\n",
       "      <td>W4215-S1393</td>\n",
       "      <td>1924453</td>\n",
       "      <td>human cord blood hematopoietic progenitor cell...</td>\n",
       "      <td>DP</td>\n",
       "      <td>YOW8V9698H</td>\n",
       "      <td>3455</td>\n",
       "      <td>DIMETHYL SULFOXIDE</td>\n",
       "      <td>SU</td>\n",
       "      <td>True</td>\n",
       "      <td>False</td>\n",
       "    </tr>\n",
       "  </tbody>\n",
       "</table>\n",
       "<p>1638667 rows × 11 columns</p>\n",
       "</div>"
      ],
      "text/plain": [
       "              ndc9          ndc  product_rxcui  \\\n",
       "0        000020152    0002-0152        2679323   \n",
       "1        000020152    0002-0152        2679323   \n",
       "2        000020152    0002-0152        2679323   \n",
       "3        000020152    0002-0152        2679323   \n",
       "4        000020152    0002-0152        2679323   \n",
       "...            ...          ...            ...   \n",
       "1638662  W2434S139  W2434-S1393        1736002   \n",
       "1638663  W2434S139  W2434-S1393        1736002   \n",
       "1638664  W4215S139  W4215-S1393        1924453   \n",
       "1638665  W4215S139  W4215-S1393        1924453   \n",
       "1638666  W4215S139  W4215-S1393        1924453   \n",
       "\n",
       "                                              product_name product_tty  \\\n",
       "0        tirzepatide 2.5 mg in 0.5 mL SUBCUTANEOUS INJE...          DP   \n",
       "1        tirzepatide 2.5 mg in 0.5 mL SUBCUTANEOUS INJE...          DP   \n",
       "2        tirzepatide 2.5 mg in 0.5 mL SUBCUTANEOUS INJE...          DP   \n",
       "3        tirzepatide 2.5 mg in 0.5 mL SUBCUTANEOUS INJE...          DP   \n",
       "4        tirzepatide 2.5 mg in 0.5 mL SUBCUTANEOUS INJE...          DP   \n",
       "...                                                    ...         ...   \n",
       "1638662  human cord blood hematopoietic progenitor cell...          DP   \n",
       "1638663  human cord blood hematopoietic progenitor cell...          DP   \n",
       "1638664  human cord blood hematopoietic progenitor cell...          DP   \n",
       "1638665  human cord blood hematopoietic progenitor cell...          DP   \n",
       "1638666  human cord blood hematopoietic progenitor cell...          DP   \n",
       "\n",
       "        inactive_ingredient_unii  inactive_ingredient_rxcui  \\\n",
       "0                     059QF0KO0R                      11295   \n",
       "1                     451W47IQ8X                       9863   \n",
       "2                     55X04QC32I                       9880   \n",
       "3                     70WT22SF4B                     221090   \n",
       "4                     QTT17582CB                       5486   \n",
       "...                          ...                        ...   \n",
       "1638662               K3R6ZDH4DU                       3272   \n",
       "1638663               YOW8V9698H                       3455   \n",
       "1638664               1GVO236S58                    1363352   \n",
       "1638665               K3R6ZDH4DU                       3272   \n",
       "1638666               YOW8V9698H                       3455   \n",
       "\n",
       "                        inactive_ingredient_name inactive_ingredient_tty  \\\n",
       "0                                          Water                      SU   \n",
       "1                                Sodium Chloride                      SU   \n",
       "2                               Sodium Hydroxide                      SU   \n",
       "3        Sodium Phosphate, Dibasic, Heptahydrate                      SU   \n",
       "4                              Hydrochloric Acid                      SU   \n",
       "...                                          ...                     ...   \n",
       "1638662                               Dextran 40                      SU   \n",
       "1638663                       dimethyl sulfoxide                      SU   \n",
       "1638664              HYDROXYETHYL STARCH 130/0.4                      SU   \n",
       "1638665                               DEXTRAN 40                      SU   \n",
       "1638666                       DIMETHYL SULFOXIDE                      SU   \n",
       "\n",
       "         active  prescribable  \n",
       "0          True          True  \n",
       "1          True          True  \n",
       "2          True          True  \n",
       "3          True          True  \n",
       "4          True          True  \n",
       "...         ...           ...  \n",
       "1638662    True         False  \n",
       "1638663    True         False  \n",
       "1638664    True         False  \n",
       "1638665    True         False  \n",
       "1638666    True         False  \n",
       "\n",
       "[1638667 rows x 11 columns]"
      ]
     },
     "execution_count": 19,
     "metadata": {},
     "output_type": "execute_result"
    }
   ],
   "source": [
    "products_to_inactive_ingredients = pd.read_csv(\"../sagerxdata/products_to_inactive_ingredients.csv\", low_memory=False)\n",
    "products_to_inactive_ingredients"
   ]
  },
  {
   "cell_type": "markdown",
   "id": "03b7caae-d990-4262-bddb-ba7491602e5f",
   "metadata": {},
   "source": [
    "## Bắt đầu gõ tên thuốc tìm"
   ]
  },
  {
   "cell_type": "markdown",
   "id": "8250ee84-6e4a-4cdb-9cd0-d7c8ea913d8d",
   "metadata": {},
   "source": [
    "## Extract product_name to excipients"
   ]
  },
  {
   "cell_type": "code",
   "execution_count": 7,
   "id": "0550856e-4457-41df-8b6a-02b6c36548ce",
   "metadata": {},
   "outputs": [],
   "source": [
    "import pandas as pd\n",
    "import numpy as np\n",
    "def search(df: pd.DataFrame, substring: str, case: bool = False) -> pd.DataFrame: \n",
    "    mask = np.column_stack([df[col].astype(str).str.contains(substring.lower(), case=case, na=False) for col in df])\n",
    "    return df.loc[mask.any(axis=1)]"
   ]
  },
  {
   "cell_type": "code",
   "execution_count": 5,
   "id": "bec947a9-96b6-40e6-bd58-11a8cd29272c",
   "metadata": {},
   "outputs": [],
   "source": [
    "df = products_to_inactive_ingredients"
   ]
  },
  {
   "cell_type": "code",
   "execution_count": 6,
   "id": "f7dc28f3-fb1b-4e04-9359-dc2e7081a48a",
   "metadata": {},
   "outputs": [
    {
     "name": "stdin",
     "output_type": "stream",
     "text": [
      "Enter drug name:  nexium\n"
     ]
    },
    {
     "name": "stderr",
     "output_type": "stream",
     "text": [
      "PandasGUI INFO — pandasgui.gui — Opening PandasGUI\n"
     ]
    }
   ],
   "source": [
    "drug_name = str(input(\"Enter drug name: \"))\n",
    "dfs = search(df, drug_name)\n",
    "from pandasgui import show\n",
    "import warnings\n",
    "warnings.simplefilter(action='ignore', category=FutureWarning)\n",
    "if dfs is not None:\n",
    "    dfs = {drug_name :dfs}\n",
    "    show(**dfs) # show data with pandasgui"
   ]
  },
  {
   "cell_type": "markdown",
   "id": "88b7de0e-c5c6-47af-bcec-1ace7c513abe",
   "metadata": {},
   "source": [
    "## Lệnh đang chay và hiện ra tá dược thuốc Keytruda"
   ]
  },
  {
   "cell_type": "markdown",
   "id": "5dcfab3b-7fba-4774-9bbd-430e08295768",
   "metadata": {},
   "source": [
    "## 1. Tìm thêm thuốc Eliquis"
   ]
  },
  {
   "cell_type": "code",
   "execution_count": 45,
   "id": "7f2e1c64-a657-4002-84f0-5024a860108d",
   "metadata": {},
   "outputs": [
    {
     "name": "stdin",
     "output_type": "stream",
     "text": [
      "Enter drug name:  Eliquis\n"
     ]
    },
    {
     "name": "stderr",
     "output_type": "stream",
     "text": [
      "PandasGUI INFO — pandasgui.gui — Opening PandasGUI\n"
     ]
    }
   ],
   "source": [
    "drug_name = str(input(\"Enter drug name: \"))\n",
    "dfs = search(df, drug_name)\n",
    "from pandasgui import show\n",
    "import warnings\n",
    "warnings.simplefilter(action='ignore', category=FutureWarning)\n",
    "if dfs is not None:\n",
    "    dfs = {drug_name :dfs}\n",
    "    show(**dfs) # show data with pandasgui"
   ]
  },
  {
   "cell_type": "markdown",
   "id": "972c7e7f-b409-4604-9eb9-e43079e054b4",
   "metadata": {},
   "source": [
    "## Lệnh đang chay và hiện ra tá dược thuốc Eliquis"
   ]
  },
  {
   "cell_type": "markdown",
   "id": "539bb4ee-bc19-485b-970a-c2b8cb6fd6ac",
   "metadata": {},
   "source": [
    "## 2. tìm tiếp thuốc Eylea"
   ]
  },
  {
   "cell_type": "code",
   "execution_count": 46,
   "id": "eaeb7646-375e-4e48-bcc9-96c4cc9ef96d",
   "metadata": {},
   "outputs": [
    {
     "name": "stdin",
     "output_type": "stream",
     "text": [
      "Enter drug name:  Eylea\n"
     ]
    },
    {
     "name": "stderr",
     "output_type": "stream",
     "text": [
      "PandasGUI INFO — pandasgui.gui — Opening PandasGUI\n"
     ]
    }
   ],
   "source": [
    "drug_name = str(input(\"Enter drug name: \"))\n",
    "dfs = search(df, drug_name)\n",
    "from pandasgui import show\n",
    "import warnings\n",
    "warnings.simplefilter(action='ignore', category=FutureWarning)\n",
    "if dfs is not None:\n",
    "    dfs = {drug_name :dfs}\n",
    "    show(**dfs) # show data with pandasgui"
   ]
  },
  {
   "cell_type": "markdown",
   "id": "abe97583-6800-4ada-b928-d3d86dd62f23",
   "metadata": {},
   "source": [
    "## 3. Tìm tiếp thuốc Opdivo"
   ]
  },
  {
   "cell_type": "code",
   "execution_count": 47,
   "id": "720123d3-e1c9-429c-b60f-5357b99f42f2",
   "metadata": {},
   "outputs": [
    {
     "name": "stdin",
     "output_type": "stream",
     "text": [
      "Enter drug name:  Opdivo\n"
     ]
    },
    {
     "name": "stderr",
     "output_type": "stream",
     "text": [
      "PandasGUI INFO — pandasgui.gui — Opening PandasGUI\n"
     ]
    }
   ],
   "source": [
    "drug_name = str(input(\"Enter drug name: \"))\n",
    "dfs = search(df, drug_name)\n",
    "from pandasgui import show\n",
    "import warnings\n",
    "warnings.simplefilter(action='ignore', category=FutureWarning)\n",
    "if dfs is not None:\n",
    "    dfs = {drug_name :dfs}\n",
    "    show(**dfs) # show data with pandasgui"
   ]
  },
  {
   "cell_type": "markdown",
   "id": "33c00192-e35f-44c4-94a8-3d09081bcf52",
   "metadata": {},
   "source": [
    "## 4. Tìm thêm thuốc Ibrance"
   ]
  },
  {
   "cell_type": "code",
   "execution_count": 48,
   "id": "3122c6ad-b625-4454-93ec-12399d3c3a7f",
   "metadata": {},
   "outputs": [
    {
     "name": "stdin",
     "output_type": "stream",
     "text": [
      "Enter drug name:  Ibrance\n"
     ]
    },
    {
     "name": "stderr",
     "output_type": "stream",
     "text": [
      "PandasGUI INFO — pandasgui.gui — Opening PandasGUI\n"
     ]
    }
   ],
   "source": [
    "drug_name = str(input(\"Enter drug name: \"))\n",
    "dfs = search(df, drug_name)\n",
    "from pandasgui import show\n",
    "import warnings\n",
    "warnings.simplefilter(action='ignore', category=FutureWarning)\n",
    "if dfs is not None:\n",
    "    dfs = {drug_name :dfs}\n",
    "    show(**dfs) # show data with pandasgui"
   ]
  },
  {
   "cell_type": "markdown",
   "id": "ef7f4750-7e06-42c9-8577-1243332d0da7",
   "metadata": {},
   "source": [
    "## 5. Tìm tá dược thuốc Xarelto"
   ]
  },
  {
   "cell_type": "code",
   "execution_count": 49,
   "id": "43a8cb00-e262-4c73-a7a4-f52c9290fb3d",
   "metadata": {},
   "outputs": [
    {
     "name": "stdin",
     "output_type": "stream",
     "text": [
      "Enter drug name:  Xarelto\n"
     ]
    },
    {
     "name": "stderr",
     "output_type": "stream",
     "text": [
      "PandasGUI INFO — pandasgui.gui — Opening PandasGUI\n"
     ]
    }
   ],
   "source": [
    "drug_name = str(input(\"Enter drug name: \"))\n",
    "dfs = search(df, drug_name)\n",
    "from pandasgui import show\n",
    "import warnings\n",
    "warnings.simplefilter(action='ignore', category=FutureWarning)\n",
    "if dfs is not None:\n",
    "    dfs = {drug_name :dfs}\n",
    "    show(**dfs) # show data with pandasgui"
   ]
  },
  {
   "cell_type": "markdown",
   "id": "7c1320ba-8241-4b65-86e2-ab2e11c235bb",
   "metadata": {},
   "source": [
    "## 6. Drop Column"
   ]
  },
  {
   "cell_type": "code",
   "execution_count": 17,
   "id": "b90a17c5-e464-430a-8007-5cb1ed06939e",
   "metadata": {},
   "outputs": [],
   "source": [
    "drug_input = 'nexium'"
   ]
  },
  {
   "cell_type": "code",
   "execution_count": 23,
   "id": "d263c366-cd00-4618-bb79-404834423be0",
   "metadata": {},
   "outputs": [
    {
     "name": "stdout",
     "output_type": "stream",
     "text": [
      "<class 'pandas.core.frame.DataFrame'>\n",
      "Index: 278 entries, 34138 to 872874\n",
      "Data columns (total 11 columns):\n",
      " #   Column                     Non-Null Count  Dtype \n",
      "---  ------                     --------------  ----- \n",
      " 0   ndc9                       278 non-null    object\n",
      " 1   ndc                        278 non-null    object\n",
      " 2   product_rxcui              278 non-null    int64 \n",
      " 3   product_name               278 non-null    object\n",
      " 4   product_tty                278 non-null    object\n",
      " 5   inactive_ingredient_unii   278 non-null    object\n",
      " 6   inactive_ingredient_rxcui  278 non-null    int64 \n",
      " 7   inactive_ingredient_name   278 non-null    object\n",
      " 8   inactive_ingredient_tty    278 non-null    object\n",
      " 9   active                     278 non-null    bool  \n",
      " 10  prescribable               278 non-null    bool  \n",
      "dtypes: bool(2), int64(2), object(7)\n",
      "memory usage: 22.3+ KB\n"
     ]
    }
   ],
   "source": [
    "df_iigs = pd.read_csv('../sagerxdata/products_to_inactive_ingredients.csv', on_bad_lines='skip', low_memory=False)\n",
    "df_iigs = search(df_iigs, drug_input)\n",
    "df_iigs.info()"
   ]
  },
  {
   "cell_type": "code",
   "execution_count": 24,
   "id": "726e6c98-ccf3-42c0-9084-a50f9d38eaa4",
   "metadata": {},
   "outputs": [],
   "source": [
    "columns_to_drop = ['ndc9', 'product_rxcui', 'inactive_ingredient_tty', 'product_tty', 'inactive_ingredient_rxcui', 'inactive_ingredient_tty', 'active', 'prescribable']\n",
    "df_iigs = df_iigs.drop(columns=columns_to_drop)\n",
    "df_iigs = search(df_iigs, drug_input)\n",
    "df_iigs = df_iigs.reset_index(drop=True)"
   ]
  },
  {
   "cell_type": "code",
   "execution_count": 64,
   "id": "f412063d-b736-4c73-8f7c-fca992c08cec",
   "metadata": {},
   "outputs": [
    {
     "data": {
      "text/html": [
       "<div>\n",
       "<style scoped>\n",
       "    .dataframe tbody tr th:only-of-type {\n",
       "        vertical-align: middle;\n",
       "    }\n",
       "\n",
       "    .dataframe tbody tr th {\n",
       "        vertical-align: top;\n",
       "    }\n",
       "\n",
       "    .dataframe thead th {\n",
       "        text-align: right;\n",
       "    }\n",
       "</style>\n",
       "<table border=\"1\" class=\"dataframe\">\n",
       "  <thead>\n",
       "    <tr style=\"text-align: right;\">\n",
       "      <th></th>\n",
       "      <th>ndc9</th>\n",
       "      <th>ndc</th>\n",
       "      <th>product_rxcui</th>\n",
       "      <th>product_name</th>\n",
       "      <th>product_tty</th>\n",
       "      <th>inactive_ingredient_unii</th>\n",
       "      <th>inactive_ingredient_rxcui</th>\n",
       "      <th>inactive_ingredient_name</th>\n",
       "      <th>inactive_ingredient_tty</th>\n",
       "      <th>active</th>\n",
       "      <th>prescribable</th>\n",
       "    </tr>\n",
       "  </thead>\n",
       "  <tbody>\n",
       "    <tr>\n",
       "      <th>34138</th>\n",
       "      <td>001864010</td>\n",
       "      <td>0186-4010</td>\n",
       "      <td>861570</td>\n",
       "      <td>ESOMEPRAZOLE MAGNESIUM 10 mg ORAL GRANULE, DEL...</td>\n",
       "      <td>DP</td>\n",
       "      <td>059QF0KO0R</td>\n",
       "      <td>11295</td>\n",
       "      <td>WATER</td>\n",
       "      <td>SU</td>\n",
       "      <td>True</td>\n",
       "      <td>True</td>\n",
       "    </tr>\n",
       "    <tr>\n",
       "      <th>34139</th>\n",
       "      <td>001864010</td>\n",
       "      <td>0186-4010</td>\n",
       "      <td>861570</td>\n",
       "      <td>ESOMEPRAZOLE MAGNESIUM 10 mg ORAL GRANULE, DEL...</td>\n",
       "      <td>DP</td>\n",
       "      <td>1CS02G8656</td>\n",
       "      <td>1424905</td>\n",
       "      <td>METHACRYLIC ACID</td>\n",
       "      <td>SU</td>\n",
       "      <td>True</td>\n",
       "      <td>True</td>\n",
       "    </tr>\n",
       "  </tbody>\n",
       "</table>\n",
       "</div>"
      ],
      "text/plain": [
       "            ndc9        ndc  product_rxcui  \\\n",
       "34138  001864010  0186-4010         861570   \n",
       "34139  001864010  0186-4010         861570   \n",
       "\n",
       "                                            product_name product_tty  \\\n",
       "34138  ESOMEPRAZOLE MAGNESIUM 10 mg ORAL GRANULE, DEL...          DP   \n",
       "34139  ESOMEPRAZOLE MAGNESIUM 10 mg ORAL GRANULE, DEL...          DP   \n",
       "\n",
       "      inactive_ingredient_unii  inactive_ingredient_rxcui  \\\n",
       "34138               059QF0KO0R                      11295   \n",
       "34139               1CS02G8656                    1424905   \n",
       "\n",
       "      inactive_ingredient_name inactive_ingredient_tty  active  prescribable  \n",
       "34138                    WATER                      SU    True          True  \n",
       "34139         METHACRYLIC ACID                      SU    True          True  "
      ]
     },
     "execution_count": 64,
     "metadata": {},
     "output_type": "execute_result"
    }
   ],
   "source": [
    "df_iigs.head(2)"
   ]
  },
  {
   "cell_type": "code",
   "execution_count": 65,
   "id": "4e6b76c8-9052-4fdd-90fd-0fc89091248c",
   "metadata": {},
   "outputs": [],
   "source": [
    "df_iigs = df_iigs.set_index('inactive_ingredient_unii', inplace=True)"
   ]
  },
  {
   "cell_type": "code",
   "execution_count": null,
   "id": "75f34897-ca27-4142-8114-791c9eef686c",
   "metadata": {},
   "outputs": [],
   "source": []
  },
  {
   "cell_type": "markdown",
   "id": "b76a0073-832a-412c-965a-1b40ac85c011",
   "metadata": {},
   "source": [
    "## Get Inactive and UNII"
   ]
  },
  {
   "cell_type": "code",
   "execution_count": 41,
   "id": "83fe963e-a633-48c5-8155-b248016b3d70",
   "metadata": {},
   "outputs": [
    {
     "name": "stdout",
     "output_type": "stream",
     "text": [
      "<class 'pandas.core.frame.DataFrame'>\n",
      "Index: 278 entries, 34138 to 872874\n",
      "Data columns (total 2 columns):\n",
      " #   Column                    Non-Null Count  Dtype \n",
      "---  ------                    --------------  ----- \n",
      " 0   inactive_ingredient_unii  278 non-null    object\n",
      " 1   inactive_ingredient_name  278 non-null    object\n",
      "dtypes: object(2)\n",
      "memory usage: 6.5+ KB\n"
     ]
    }
   ],
   "source": [
    "columns_to_drop = ['ndc9', 'product_rxcui', 'inactive_ingredient_tty', 'product_tty', 'inactive_ingredient_rxcui', 'inactive_ingredient_tty',\n",
    "                   'ndc', 'product_name', 'inactive_ingredient_tty', 'active', 'prescribable']\n",
    "df_inactive_iigs = df_inactive_iigs.drop(columns=columns_to_drop)\n",
    "df_inactive_iigs.drop_duplicates()\n",
    "df_inactive_iigs.info()"
   ]
  },
  {
   "cell_type": "markdown",
   "id": "03588e30-720e-4929-acb4-4e7e691ce187",
   "metadata": {},
   "source": [
    "## Why do remove all duplicates?"
   ]
  },
  {
   "cell_type": "code",
   "execution_count": 42,
   "id": "fdb572a2-dc52-4edf-b130-1bca9b6f4852",
   "metadata": {
    "jupyter": {
     "source_hidden": true
    }
   },
   "outputs": [
    {
     "name": "stdout",
     "output_type": "stream",
     "text": [
      "<class 'pandas.core.frame.DataFrame'>\n",
      "Index: 278 entries, 34138 to 872874\n",
      "Data columns (total 2 columns):\n",
      " #   Column                    Non-Null Count  Dtype \n",
      "---  ------                    --------------  ----- \n",
      " 0   inactive_ingredient_unii  278 non-null    object\n",
      " 1   inactive_ingredient_name  278 non-null    object\n",
      "dtypes: object(2)\n",
      "memory usage: 6.5+ KB\n"
     ]
    }
   ],
   "source": [
    "df_inactive_iigs.drop_duplicates(subset=['inactive_ingredient_unii', 'inactive_ingredient_name'])\n",
    "df_inactive_iigs.info()"
   ]
  },
  {
   "cell_type": "code",
   "execution_count": 43,
   "id": "cc60ecbb-f1d4-4cb4-b2bc-88cc439a4258",
   "metadata": {},
   "outputs": [
    {
     "data": {
      "text/html": [
       "<div>\n",
       "<style scoped>\n",
       "    .dataframe tbody tr th:only-of-type {\n",
       "        vertical-align: middle;\n",
       "    }\n",
       "\n",
       "    .dataframe tbody tr th {\n",
       "        vertical-align: top;\n",
       "    }\n",
       "\n",
       "    .dataframe thead th {\n",
       "        text-align: right;\n",
       "    }\n",
       "</style>\n",
       "<table border=\"1\" class=\"dataframe\">\n",
       "  <thead>\n",
       "    <tr style=\"text-align: right;\">\n",
       "      <th></th>\n",
       "      <th>inactive_ingredient_unii</th>\n",
       "      <th>inactive_ingredient_name</th>\n",
       "    </tr>\n",
       "  </thead>\n",
       "  <tbody>\n",
       "    <tr>\n",
       "      <th>0</th>\n",
       "      <td>059QF0KO0R</td>\n",
       "      <td>WATER</td>\n",
       "    </tr>\n",
       "    <tr>\n",
       "      <th>1</th>\n",
       "      <td>1CS02G8656</td>\n",
       "      <td>METHACRYLIC ACID</td>\n",
       "    </tr>\n",
       "    <tr>\n",
       "      <th>2</th>\n",
       "      <td>1VPU26JZZ4</td>\n",
       "      <td>POTASSIUM SORBATE</td>\n",
       "    </tr>\n",
       "    <tr>\n",
       "      <th>3</th>\n",
       "      <td>230OU9XXE4</td>\n",
       "      <td>GLYCERYL MONOSTEARATE</td>\n",
       "    </tr>\n",
       "    <tr>\n",
       "      <th>4</th>\n",
       "      <td>3K9958V90M</td>\n",
       "      <td>ALCOHOL</td>\n",
       "    </tr>\n",
       "    <tr>\n",
       "      <th>...</th>\n",
       "      <td>...</td>\n",
       "      <td>...</td>\n",
       "    </tr>\n",
       "    <tr>\n",
       "      <th>273</th>\n",
       "      <td>8Z96QXD6UM</td>\n",
       "      <td>TRIETHYL CITRATE</td>\n",
       "    </tr>\n",
       "    <tr>\n",
       "      <th>274</th>\n",
       "      <td>EX438O2MRT</td>\n",
       "      <td>FERRIC OXIDE YELLOW</td>\n",
       "    </tr>\n",
       "    <tr>\n",
       "      <th>275</th>\n",
       "      <td>FZ989GH94E</td>\n",
       "      <td>POVIDONE, UNSPECIFIED</td>\n",
       "    </tr>\n",
       "    <tr>\n",
       "      <th>276</th>\n",
       "      <td>RFW2ET671P</td>\n",
       "      <td>HYDROXYPROPYL CELLULOSE (1600000 WAMW)</td>\n",
       "    </tr>\n",
       "    <tr>\n",
       "      <th>277</th>\n",
       "      <td>XF417D3PSL</td>\n",
       "      <td>ANHYDROUS CITRIC ACID</td>\n",
       "    </tr>\n",
       "  </tbody>\n",
       "</table>\n",
       "<p>278 rows × 2 columns</p>\n",
       "</div>"
      ],
      "text/plain": [
       "    inactive_ingredient_unii                inactive_ingredient_name\n",
       "0                 059QF0KO0R                                   WATER\n",
       "1                 1CS02G8656                        METHACRYLIC ACID\n",
       "2                 1VPU26JZZ4                       POTASSIUM SORBATE\n",
       "3                 230OU9XXE4                   GLYCERYL MONOSTEARATE\n",
       "4                 3K9958V90M                                 ALCOHOL\n",
       "..                       ...                                     ...\n",
       "273               8Z96QXD6UM                        TRIETHYL CITRATE\n",
       "274               EX438O2MRT                     FERRIC OXIDE YELLOW\n",
       "275               FZ989GH94E                   POVIDONE, UNSPECIFIED\n",
       "276               RFW2ET671P  HYDROXYPROPYL CELLULOSE (1600000 WAMW)\n",
       "277               XF417D3PSL                   ANHYDROUS CITRIC ACID\n",
       "\n",
       "[278 rows x 2 columns]"
      ]
     },
     "execution_count": 43,
     "metadata": {},
     "output_type": "execute_result"
    }
   ],
   "source": [
    "df_inactive_iigs = df_inactive_iigs.reset_index(drop=True)\n",
    "df_inactive_iigs"
   ]
  },
  {
   "cell_type": "code",
   "execution_count": null,
   "id": "71818889-937f-4b27-b773-7304c736b04e",
   "metadata": {},
   "outputs": [],
   "source": [
    "from pandasgui import show\n",
    "show(df_inactive_iigs)"
   ]
  },
  {
   "cell_type": "markdown",
   "id": "a9675e2b-95c6-40a6-bb50-18274716502b",
   "metadata": {},
   "source": [
    "## View product_name column"
   ]
  },
  {
   "cell_type": "code",
   "execution_count": 15,
   "id": "ba69c92c-754e-4956-8121-c4f60755dcd3",
   "metadata": {},
   "outputs": [
    {
     "name": "stderr",
     "output_type": "stream",
     "text": [
      "C:\\Users\\NCT\\AppData\\Local\\Temp\\ipykernel_17512\\665041889.py:2: SettingWithCopyWarning: \n",
      "A value is trying to be set on a copy of a slice from a DataFrame\n",
      "\n",
      "See the caveats in the documentation: https://pandas.pydata.org/pandas-docs/stable/user_guide/indexing.html#returning-a-view-versus-a-copy\n",
      "  df_product_name.drop_duplicates(inplace=True)\n"
     ]
    },
    {
     "data": {
      "text/plain": [
       "0    ESOMEPRAZOLE MAGNESIUM 10 mg ORAL GRANULE, DEL...\n",
       "1    ESOMEPRAZOLE MAGNESIUM 20 mg ORAL GRANULE, DEL...\n",
       "2    ESOMEPRAZOLE MAGNESIUM 40 mg ORAL GRANULE, DEL...\n",
       "3    ESOMEPRAZOLE MAGNESIUM 20 mg ORAL CAPSULE, DEL...\n",
       "4    ESOMEPRAZOLE MAGNESIUM 40 mg ORAL CAPSULE, DEL...\n",
       "5    ESOMEPRAZOLE SODIUM 40 mg in 5 mL INTRAVENOUS ...\n",
       "6    ESOMEPRAZOLE MAGNESIUM 20 mg ORAL CAPSULE, DEL...\n",
       "7    ESOMEPRAZOLE MAGNESIUM 20 mg ORAL TABLET [Nexi...\n",
       "8    ESOMEPRAZOLE MAGNESIUM 20 mg ORAL CAPSULE, DEL...\n",
       "Name: product_name, dtype: object"
      ]
     },
     "execution_count": 15,
     "metadata": {},
     "output_type": "execute_result"
    }
   ],
   "source": [
    "df_product_name = df_inactive_iigs['product_name']\n",
    "df_product_name.drop_duplicates(inplace=True)\n",
    "df_product_name.reset_index(drop=True)"
   ]
  },
  {
   "cell_type": "code",
   "execution_count": 16,
   "id": "5d7fb90e-0b2b-4f90-ad99-b1649d4341bc",
   "metadata": {},
   "outputs": [
    {
     "data": {
      "text/plain": [
       "34138    ESOMEPRAZOLE MAGNESIUM 10 mg ORAL GRANULE, DEL...\n",
       "34155    ESOMEPRAZOLE MAGNESIUM 20 mg ORAL GRANULE, DEL...\n",
       "34172    ESOMEPRAZOLE MAGNESIUM 40 mg ORAL GRANULE, DEL...\n",
       "34189    ESOMEPRAZOLE MAGNESIUM 20 mg ORAL CAPSULE, DEL...\n",
       "34214    ESOMEPRAZOLE MAGNESIUM 40 mg ORAL CAPSULE, DEL...\n",
       "34239    ESOMEPRAZOLE SODIUM 40 mg in 5 mL INTRAVENOUS ...\n",
       "86610    ESOMEPRAZOLE MAGNESIUM 20 mg ORAL CAPSULE, DEL...\n",
       "86630    ESOMEPRAZOLE MAGNESIUM 20 mg ORAL TABLET [Nexi...\n",
       "86656    ESOMEPRAZOLE MAGNESIUM 20 mg ORAL CAPSULE, DEL...\n",
       "Name: product_name, dtype: object"
      ]
     },
     "execution_count": 16,
     "metadata": {},
     "output_type": "execute_result"
    }
   ],
   "source": [
    "df_product_name"
   ]
  },
  {
   "cell_type": "markdown",
   "id": "8eb255f8-b1eb-45a0-b788-cfa70bb636c2",
   "metadata": {},
   "source": [
    "## Từ thành phần tá dược xuất ra công thức dùng Quality By Design (QbD) sẽ hướng dẫn tiếp phần sau"
   ]
  },
  {
   "cell_type": "markdown",
   "id": "2e671782-1376-4068-85d1-37dd193c3c0a",
   "metadata": {},
   "source": [
    "## Đã show xong 5 thuốc tiêu biểu cho quí khách tham khảo. Cảm ơn đã xem."
   ]
  },
  {
   "cell_type": "markdown",
   "id": "99eed3a0-6694-44d4-addb-17d423c6180d",
   "metadata": {},
   "source": [
    "## Nếu quan tâm hay có câu hỏi hãy gửi mail hoặc messinger theo ..."
   ]
  },
  {
   "cell_type": "markdown",
   "id": "4b404f46-7fbc-4a93-9f4e-57a0fa117db1",
   "metadata": {},
   "source": [
    "<a href=\"https://github.com/nghiencuuthuoc/PharmApp/PharmApp.ipynb\" target=\"_parent\"><img src=\"https://colab.research.google.com/assets/colab-badge.svg\" alt=\"Open In Colab\"/></a>\n",
    "\n",
    "![](./images/PharmApp-logo.png)\n",
    "# PharmApp - Drug Discovery and Development\n",
    "Copyright 2024 | Nghiên Cứu Thuốc | RD_Pharma_Plus\n",
    "\n",
    "Email: nghiencuuthuoc@gmail.com | http://www.nghiencuuthuoc.com | https://twitter.com/nghiencuuthuoc | https://facebook.com/nghiencuuthuoc"
   ]
  },
  {
   "cell_type": "markdown",
   "id": "6fdf9121-b48c-4bc5-b41d-ad1fe295a094",
   "metadata": {},
   "source": [
    "## Xin trân trọng cảm ơn :D"
   ]
  },
  {
   "cell_type": "code",
   "execution_count": null,
   "id": "43db5946-fe45-41cc-b00e-0752fadf9878",
   "metadata": {},
   "outputs": [],
   "source": []
  }
 ],
 "metadata": {
  "kernelspec": {
   "display_name": "Python 3 (ipykernel)",
   "language": "python",
   "name": "python3"
  },
  "language_info": {
   "codemirror_mode": {
    "name": "ipython",
    "version": 3
   },
   "file_extension": ".py",
   "mimetype": "text/x-python",
   "name": "python",
   "nbconvert_exporter": "python",
   "pygments_lexer": "ipython3",
   "version": "3.12.5"
  }
 },
 "nbformat": 4,
 "nbformat_minor": 5
}
