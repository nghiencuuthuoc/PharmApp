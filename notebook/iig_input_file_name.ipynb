{
 "cells": [
  {
   "cell_type": "markdown",
   "id": "bb9c60c9-2f48-4618-9ad6-649510fa994c",
   "metadata": {},
   "source": [
    "<a href=\"https://github.com/nghiencuuthuoc/PharmApp/PharmApp.ipynb\" target=\"_parent\"><img src=\"https://colab.research.google.com/assets/colab-badge.svg\" alt=\"Open In Colab\"/></a>\n",
    "\n",
    "![](https://raw.githubusercontent.com/nghiencuuthuoc/PharmApp/master/PharmApp-logo.png)\n",
    "# PharmApp - Research and Development Pharmaceuticals\n",
    "Copyright 2024 | Nghiên Cứu Thuốc | RD_Pharma_Plus\n",
    "\n",
    "Email: nghiencuuthuoc@gmail.com | nghiencuuthuoc.com | x.com/nghiencuuthuoc | facebook.com/nghiencuuthuoc"
   ]
  },
  {
   "cell_type": "markdown",
   "id": "3f960cbe-9ff5-46ba-8c0b-e37ac8631c9a",
   "metadata": {},
   "source": [
    "# iig_input_file_name"
   ]
  },
  {
   "cell_type": "code",
   "execution_count": 1,
   "id": "6427cc1b-c5c6-4b23-8f6f-bbd6607f0729",
   "metadata": {},
   "outputs": [],
   "source": [
    "import sys\n",
    "sys.path.append('..')\n",
    "# import lib\n",
    "import os\n",
    "import shutil\n",
    "\n",
    "# input file name\n",
    "# file = str(input(\"Enter file name with extension (csv or txt): \"))\n",
    "# file = 'iig_daily.txt'\n",
    "# file_name_loading = 'drugname/iig_daily.txt'\n",
    "# file_name = 'drugname/' + file\n",
    "\n",
    "# file_name_loading = 'drugname/' + 'loading_' + file\n",
    "\n",
    "# # create file loading\n",
    "# if os.path.exists(file_name_loading):\n",
    "#     os.remove(file_name_loading)\n",
    "#     shutil.copy(file_name, file_name_loading)\n",
    "#     pass\n",
    "# else:\n",
    "#     shutil.copy(file_name, file_name_loading)\n",
    "\n",
    "# file = str(input(\"Enter file name with extension (csv or txt): \"))\n",
    "file = 'rxterms_brandname.txt'\n",
    "file_name = '../drugname/' + file\n",
    "file_name_loading = file_name"
   ]
  },
  {
   "cell_type": "code",
   "execution_count": 2,
   "id": "ff98e17d-61a8-48f5-9278-752b81d27d54",
   "metadata": {},
   "outputs": [],
   "source": [
    "# remove iig exist\n",
    "f = open(file_name_loading,'r')\n",
    "drugs_name_file = f.readlines()\n",
    "for drug_name_file in drugs_name_file:\n",
    "    drug = drug_name_file.replace(' ','+').replace('\\n','').replace('-', '+')\n",
    "    from pathlib import Path\n",
    "    drug_iig_name = drug + '_inactive_ingredient_list.txt'\n",
    "    folder_path = '../iigdata/'\n",
    "    filepath = folder_path + drug_iig_name\n",
    "    if os.path.isfile(filepath):\n",
    "        with open(file_name_loading, \"r+\") as f:\n",
    "            d = f.readlines()\n",
    "            f.seek(0)\n",
    "            for i in d:\n",
    "                if i != drug_name_file:\n",
    "                    f.write(i)\n",
    "            f.truncate()\n",
    "    else:\n",
    "        pass\n"
   ]
  },
  {
   "cell_type": "code",
   "execution_count": 4,
   "id": "ba2a2c78-d3b5-4d77-b9ec-fed5674f17cc",
   "metadata": {},
   "outputs": [],
   "source": [
    "# Remove drug name len < 3 (not key name)\n",
    "f = open(file_name_loading,'r')\n",
    "drugs_name_file = f.readlines()\n",
    "for drug_name_file in drugs_name_file:\n",
    "    drug = drug_name_file.replace(' ','+').replace('\\n','').replace('-', '+')\n",
    "    if len(drug) <3:\n",
    "        with open(file_name_loading, \"r+\") as f:\n",
    "            d = f.readlines()\n",
    "            f.seek(0)\n",
    "            for i in d:\n",
    "                if i != drug_name_file:\n",
    "                    f.write(i)\n",
    "            f.truncate()\n",
    "    else:\n",
    "        pass"
   ]
  },
  {
   "cell_type": "code",
   "execution_count": 5,
   "id": "6edf2cc9-10a1-49e3-a8f0-267916a7a88b",
   "metadata": {},
   "outputs": [],
   "source": [
    "# remove drug name if number\n",
    "f = open(file_name_loading,'r')\n",
    "drugs_name_file = f.readlines()\n",
    "for drug_name_file in drugs_name_file:\n",
    "    drug = drug_name_file.replace(' ','+').replace('\\n','').replace('-', '+')\n",
    "    if drug.isdigit():\n",
    "        with open(file_name_loading, \"r+\") as f:\n",
    "            d = f.readlines()\n",
    "            f.seek(0)\n",
    "            for i in d:\n",
    "                if i != drug_name_file:\n",
    "                    f.write(i)\n",
    "            f.truncate()\n",
    "    else:\n",
    "        pass\n",
    "        \n",
    "        \n",
    "# run ok\n",
    "# get iig and remove line\n"
   ]
  },
  {
   "cell_type": "code",
   "execution_count": null,
   "id": "44756ca3-a355-4594-bb43-92308d49efc2",
   "metadata": {},
   "outputs": [],
   "source": []
  },
  {
   "cell_type": "markdown",
   "id": "19a9605d-67a9-42ce-8095-60687236b753",
   "metadata": {},
   "source": [
    "## repare drug name for run"
   ]
  },
  {
   "cell_type": "code",
   "execution_count": null,
   "id": "c40640ad-8540-4d20-83f8-c52d05a1efc9",
   "metadata": {},
   "outputs": [],
   "source": [
    "f = open(file_name_loading,'r')\n",
    "drugs_name_file = f.readlines()\n",
    "for drug_name_file in drugs_name_file:\n",
    "    drug = drug_name_file.replace(' ','+').replace('\\n','').replace('-', '+')\n",
    "    # get inactive ingredient\n",
    "    # import src.pharmappiig013 as pa\n",
    "    # import src.pharmappiig014dev as pa\n",
    "    import src.pharmappiig017dev as pa\n",
    "    try:\n",
    "        print(f'{drug} loading!')\n",
    "        pa.get_inactive_ingredient(name_drug=drug)\n",
    "        print(f'{drug} done!')\n",
    "        print(\"+---------------------------+---------------------------+\")\n",
    "    except:\n",
    "        print(f'{drug} no found in DailyMed or run error!')\n",
    "        print(\"+---------------------------+---------------------------+\")\n",
    "    with open(file_name_loading, \"r+\") as f:\n",
    "        d = f.readlines()\n",
    "        f.seek(0)\n",
    "        for i in d:\n",
    "            if i != drug_name_file:\n",
    "                f.write(i)\n",
    "        f.truncate()"
   ]
  },
  {
   "cell_type": "code",
   "execution_count": null,
   "id": "05664a19-0d07-42df-ae35-29f8dafa4028",
   "metadata": {},
   "outputs": [],
   "source": []
  }
 ],
 "metadata": {
  "kernelspec": {
   "display_name": "Python 3 (ipykernel)",
   "language": "python",
   "name": "python3"
  },
  "language_info": {
   "codemirror_mode": {
    "name": "ipython",
    "version": 3
   },
   "file_extension": ".py",
   "mimetype": "text/x-python",
   "name": "python",
   "nbconvert_exporter": "python",
   "pygments_lexer": "ipython3",
   "version": "3.12.5"
  }
 },
 "nbformat": 4,
 "nbformat_minor": 5
}
