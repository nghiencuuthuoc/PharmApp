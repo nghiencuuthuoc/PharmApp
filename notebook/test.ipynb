{
 "cells": [
  {
   "cell_type": "markdown",
   "id": "71ba87b2-f256-46d0-948a-acd974f7a55d",
   "metadata": {},
   "source": [
    "<a href=\"https://github.com/nghiencuuthuoc/PharmApp/PharmApp.ipynb\" target=\"_parent\"><img src=\"https://colab.research.google.com/assets/colab-badge.svg\" alt=\"Open In Colab\"/></a>\n",
    "\n",
    "![](./images/PharmApp-logo.png)\n",
    "# PharmApp - Drug Discovery and Development\n",
    "Copyright 2024 | Nghiên Cứu Thuốc | RD_Pharma_Plus\n",
    "\n",
    "Email: nghiencuuthuoc@gmail.com | http://www.nghiencuuthuoc.com | https://twitter.com/nghiencuuthuoc | https://facebook.com/nghiencuuthuoc"
   ]
  },
  {
   "cell_type": "code",
   "execution_count": null,
   "id": "d1cc4ed6-9b77-40d8-b76e-26d2be579bf2",
   "metadata": {},
   "outputs": [],
   "source": [
    "import sys\n",
    "sys.path.append('..')\n",
    "import pandas as pd\n",
    "import os\n",
    "os.getcwd()"
   ]
  },
  {
   "cell_type": "code",
   "execution_count": null,
   "id": "65295feb-8988-4890-914f-11be25cfefa8",
   "metadata": {},
   "outputs": [],
   "source": [
    "products_to_inactive_ingredients = pd.read_csv(SAGERX_FOLDER + \"/products_to_inactive_ingredients.csv\", low_memory=False)\n",
    "products_to_inactive_ingredients.head()"
   ]
  },
  {
   "cell_type": "code",
   "execution_count": null,
   "id": "50dea4b1-1137-4a18-a8d5-e296c933ad74",
   "metadata": {},
   "outputs": [],
   "source": []
  }
 ],
 "metadata": {
  "kernelspec": {
   "display_name": "Python 3 (ipykernel)",
   "language": "python",
   "name": "python3"
  },
  "language_info": {
   "codemirror_mode": {
    "name": "ipython",
    "version": 3
   },
   "file_extension": ".py",
   "mimetype": "text/x-python",
   "name": "python",
   "nbconvert_exporter": "python",
   "pygments_lexer": "ipython3",
   "version": "3.12.5"
  }
 },
 "nbformat": 4,
 "nbformat_minor": 5
}
