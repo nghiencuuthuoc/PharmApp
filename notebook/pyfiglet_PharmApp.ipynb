{
 "cells": [
  {
   "cell_type": "code",
   "execution_count": 1,
   "id": "278fed9e",
   "metadata": {},
   "outputs": [
    {
     "name": "stdout",
     "output_type": "stream",
     "text": [
      "______ _                           ___              \n",
      "| ___ \\ |                         / _ \\             \n",
      "| |_/ / |__   __ _ _ __ _ __ ___ / /_\\ \\_ __  _ __  \n",
      "|  __/| '_ \\ / _` | '__| '_ ` _ \\|  _  | '_ \\| '_ \\ \n",
      "| |   | | | | (_| | |  | | | | | | | | | |_) | |_) |\n",
      "\\_|   |_| |_|\\__,_|_|  |_| |_| |_\\_| |_/ .__/| .__/ \n",
      "                                       | |   | |    \n",
      "                                       |_|   |_|    \n",
      "\n"
     ]
    }
   ],
   "source": [
    "from pyfiglet import figlet_format\n",
    "art = figlet_format('PharmApp',font = 'doom')\n",
    "print(art)"
   ]
  },
  {
   "cell_type": "code",
   "execution_count": null,
   "id": "6a644562",
   "metadata": {},
   "outputs": [],
   "source": [
    "from pyfiglet import figlet_format\n",
    "art = figlet_format('PharmApp',font = 'doh')\n",
    "print(art)"
   ]
  },
  {
   "cell_type": "code",
   "execution_count": 2,
   "id": "f1c955c0",
   "metadata": {},
   "outputs": [
    {
     "name": "stdout",
     "output_type": "stream",
     "text": [
      "______ _                           ___              \n",
      "| ___ \\ |                         / _ \\             \n",
      "| |_/ / |__   __ _ _ __ _ __ ___ / /_\\ \\_ __  _ __  \n",
      "|  __/| '_ \\ / _` | '__| '_ ` _ \\|  _  | '_ \\| '_ \\ \n",
      "| |   | | | | (_| | |  | | | | | | | | | |_) | |_) |\n",
      "\\_|   |_| |_|\\__,_|_|  |_| |_| |_\\_| |_/ .__/| .__/ \n",
      "                                       | |   | |    \n",
      "                                       |_|   |_|    \n",
      "\n"
     ]
    }
   ],
   "source": [
    "from pyfiglet import figlet_format\n",
    "art = figlet_format('PharmApp',font = 'doom')\n",
    "print(art)"
   ]
  },
  {
   "cell_type": "code",
   "execution_count": 5,
   "id": "619b1ce3",
   "metadata": {},
   "outputs": [
    {
     "name": "stdout",
     "output_type": "stream",
     "text": [
      "             _     _                             _   _                      \n",
      "            | |   (_)                           | | | |                     \n",
      " _ __   __ _| |__  _  ___ _ __   ___ _   _ _   _| |_| |__  _   _  ___   ___ \n",
      "| '_ \\ / _` | '_ \\| |/ _ \\ '_ \\ / __| | | | | | | __| '_ \\| | | |/ _ \\ / __|\n",
      "| | | | (_| | | | | |  __/ | | | (__| |_| | |_| | |_| | | | |_| | (_) | (__ \n",
      "|_| |_|\\__, |_| |_|_|\\___|_| |_|\\___|\\__,_|\\__,_|\\__|_| |_|\\__,_|\\___/ \\___|\n",
      "        __/ |                                                               \n",
      "       |___/                                                                \n",
      "\n"
     ]
    }
   ],
   "source": [
    "from pyfiglet import figlet_format\n",
    "art = figlet_format('nghiencuuthuoc',font = 'doom')\n",
    "print(art)"
   ]
  },
  {
   "cell_type": "code",
   "execution_count": null,
   "id": "9cb00d4b",
   "metadata": {},
   "outputs": [],
   "source": []
  }
 ],
 "metadata": {
  "kernelspec": {
   "display_name": "Python 3 (ipykernel)",
   "language": "python",
   "name": "python3"
  },
  "language_info": {
   "codemirror_mode": {
    "name": "ipython",
    "version": 3
   },
   "file_extension": ".py",
   "mimetype": "text/x-python",
   "name": "python",
   "nbconvert_exporter": "python",
   "pygments_lexer": "ipython3",
   "version": "3.9.6"
  }
 },
 "nbformat": 4,
 "nbformat_minor": 5
}
