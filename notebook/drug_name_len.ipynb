{
 "cells": [
  {
   "cell_type": "code",
   "execution_count": 7,
   "id": "92388c3d-a3e5-4ab6-a30e-2e100e631eec",
   "metadata": {},
   "outputs": [],
   "source": [
    "drug_name = 'betamethasone sodium phosphate'"
   ]
  },
  {
   "cell_type": "code",
   "execution_count": 36,
   "id": "6fa1c2eb-718a-407f-a01c-9982bc1fe51a",
   "metadata": {},
   "outputs": [
    {
     "data": {
      "text/plain": [
       "str"
      ]
     },
     "execution_count": 36,
     "metadata": {},
     "output_type": "execute_result"
    }
   ],
   "source": [
    "type(drug_name)"
   ]
  },
  {
   "cell_type": "code",
   "execution_count": 37,
   "id": "7dcbe3cf-663d-48cd-b56e-5a5021585f50",
   "metadata": {},
   "outputs": [
    {
     "data": {
      "text/plain": [
       "'betamethasone+sodium+phosphate'"
      ]
     },
     "execution_count": 37,
     "metadata": {},
     "output_type": "execute_result"
    }
   ],
   "source": [
    "drug_name.replace(\" \", \"+\")"
   ]
  },
  {
   "cell_type": "code",
   "execution_count": null,
   "id": "329dbb8a-dc2e-4419-a427-35b49d690a84",
   "metadata": {},
   "outputs": [],
   "source": [
    "if drug_name.con"
   ]
  },
  {
   "cell_type": "code",
   "execution_count": 8,
   "id": "46e2360d-eaa0-464e-945b-4d647eac8207",
   "metadata": {},
   "outputs": [
    {
     "data": {
      "text/plain": [
       "30"
      ]
     },
     "execution_count": 8,
     "metadata": {},
     "output_type": "execute_result"
    }
   ],
   "source": [
    "len(drug_name)"
   ]
  },
  {
   "cell_type": "code",
   "execution_count": 15,
   "id": "622850c6-d639-4066-b7e2-fe6d9ab88c1e",
   "metadata": {},
   "outputs": [
    {
     "data": {
      "text/plain": [
       "'betamethasone'"
      ]
     },
     "execution_count": 15,
     "metadata": {},
     "output_type": "execute_result"
    }
   ],
   "source": [
    "sdn = drug_name.split()\n",
    "sdn = sdn[0]\n",
    "sdn"
   ]
  },
  {
   "cell_type": "code",
   "execution_count": 3,
   "id": "3f2a6272-8746-47f3-826e-339bf3c4ad78",
   "metadata": {},
   "outputs": [
    {
     "data": {
      "text/plain": [
       "5"
      ]
     },
     "execution_count": 3,
     "metadata": {},
     "output_type": "execute_result"
    }
   ],
   "source": [
    "refix = '_iigf'\n",
    "len(refix)"
   ]
  },
  {
   "cell_type": "code",
   "execution_count": 4,
   "id": "3fbab0d3-9089-4020-b701-158b883dbe90",
   "metadata": {},
   "outputs": [
    {
     "name": "stdout",
     "output_type": "stream",
     "text": [
      "3.61\n"
     ]
    }
   ],
   "source": [
    "SURVEY_RESULTS = [0, 1, 2, 0, 2, 3, 1, 1, 1, 2]\n",
    "def standard_deviation():\n",
    "    if len(SURVEY_RESULTS) < 2:\n",
    "        return None\n",
    "    elif len(SURVEY_RESULTS) > 2:\n",
    "        stdev = sum(SURVEY_RESULTS) ** .5\n",
    "        rounded_stdev = (round(stdev, 2))\n",
    "    print(rounded_stdev)\n",
    "\n",
    "standard_deviation()"
   ]
  },
  {
   "cell_type": "code",
   "execution_count": 33,
   "id": "71e54488-5a76-4499-bfcc-fefb093996b5",
   "metadata": {},
   "outputs": [],
   "source": [
    "# drug_name = 'betamethasone sodium'\n",
    "drug_name = 'betamethasone+sodium+phosphate'"
   ]
  },
  {
   "cell_type": "code",
   "execution_count": 38,
   "id": "d7af3f68-2493-4fd1-b996-9fce78d5f205",
   "metadata": {},
   "outputs": [],
   "source": [
    "drug_name = 'betamethasone sodium phosphate'"
   ]
  },
  {
   "cell_type": "code",
   "execution_count": 39,
   "id": "eeca9c08-95dc-47f8-8be7-7f0da700286d",
   "metadata": {},
   "outputs": [],
   "source": [
    "drug_name_short = []\n",
    "if len(drug_name) >= 25:\n",
    "    drug_name_short = drug_name.split()\n",
    "    drug_name_short = drug_name_short[0]\n",
    "else:\n",
    "    drug_name_short = drug_name"
   ]
  },
  {
   "cell_type": "code",
   "execution_count": 45,
   "id": "36237f91-d520-4536-8956-97eefb34a726",
   "metadata": {},
   "outputs": [],
   "source": [
    "drug_name_short = drug_name.split()"
   ]
  },
  {
   "cell_type": "code",
   "execution_count": 46,
   "id": "338cc952-d606-46e1-a390-9f6ce29ffbc5",
   "metadata": {},
   "outputs": [],
   "source": [
    "dns_1_0 = drug_name_short[1].split()"
   ]
  },
  {
   "cell_type": "code",
   "execution_count": 52,
   "id": "3c094481-a855-41fd-98e1-780c45e1fd2c",
   "metadata": {},
   "outputs": [
    {
     "data": {
      "text/plain": [
       "'s'"
      ]
     },
     "execution_count": 52,
     "metadata": {},
     "output_type": "execute_result"
    }
   ],
   "source": [
    "dns_1_0 = dns_1_0[0]\n",
    "dns_1_0"
   ]
  },
  {
   "cell_type": "code",
   "execution_count": 40,
   "id": "192333c0-7589-4603-a501-9670c61687f0",
   "metadata": {},
   "outputs": [
    {
     "data": {
      "text/plain": [
       "'betamethasone'"
      ]
     },
     "execution_count": 40,
     "metadata": {},
     "output_type": "execute_result"
    }
   ],
   "source": [
    "drug_name_short"
   ]
  },
  {
   "cell_type": "code",
   "execution_count": 43,
   "id": "8452c770-e106-40d1-b09c-fcb65e2df663",
   "metadata": {},
   "outputs": [],
   "source": [
    "dns_1_0 = drug_name_short[1].split()"
   ]
  },
  {
   "cell_type": "code",
   "execution_count": 44,
   "id": "5ffabea1-32e0-45df-9c9e-e224841485cd",
   "metadata": {},
   "outputs": [
    {
     "data": {
      "text/plain": [
       "['e']"
      ]
     },
     "execution_count": 44,
     "metadata": {},
     "output_type": "execute_result"
    }
   ],
   "source": [
    "dns_1_0"
   ]
  },
  {
   "cell_type": "code",
   "execution_count": 42,
   "id": "8a0aabf9-0068-4384-b327-81e6c0ccb292",
   "metadata": {},
   "outputs": [
    {
     "data": {
      "text/plain": [
       "str"
      ]
     },
     "execution_count": 42,
     "metadata": {},
     "output_type": "execute_result"
    }
   ],
   "source": [
    "type(drug_name_short[1])"
   ]
  },
  {
   "cell_type": "code",
   "execution_count": null,
   "id": "a26737ee-8bad-4cb3-858d-70a214527350",
   "metadata": {},
   "outputs": [],
   "source": []
  }
 ],
 "metadata": {
  "kernelspec": {
   "display_name": "Python 3 (ipykernel)",
   "language": "python",
   "name": "python3"
  },
  "language_info": {
   "codemirror_mode": {
    "name": "ipython",
    "version": 3
   },
   "file_extension": ".py",
   "mimetype": "text/x-python",
   "name": "python",
   "nbconvert_exporter": "python",
   "pygments_lexer": "ipython3",
   "version": "3.12.5"
  }
 },
 "nbformat": 4,
 "nbformat_minor": 5
}
