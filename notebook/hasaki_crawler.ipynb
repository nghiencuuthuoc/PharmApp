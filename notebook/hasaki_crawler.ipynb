{
 "cells": [
  {
   "cell_type": "code",
   "execution_count": 4,
   "id": "c14f381b-4635-473a-905b-d48480361aff",
   "metadata": {},
   "outputs": [],
   "source": [
    "import pandas as pd"
   ]
  },
  {
   "cell_type": "code",
   "execution_count": 1,
   "id": "fb123d7c-366d-42db-ad35-1465e24801ae",
   "metadata": {},
   "outputs": [
    {
     "name": "stdin",
     "output_type": "stream",
     "text": [
      "Enter keyword:  Rebirth\n"
     ]
    }
   ],
   "source": [
    "keyword = input('Enter keyword: ')"
   ]
  },
  {
   "cell_type": "code",
   "execution_count": 2,
   "id": "0a7cc9b7-86dc-4225-a7f2-e96ac73ae009",
   "metadata": {},
   "outputs": [],
   "source": [
    "p_start = 1\n",
    "# p_end = 1"
   ]
  },
  {
   "cell_type": "code",
   "execution_count": 3,
   "id": "ab0805c0-dd5f-4f72-8742-69f3d137aaff",
   "metadata": {},
   "outputs": [],
   "source": [
    "url = f'https://hasaki.vn/catalogsearch/result/?q={keyword}&p={p_start}'"
   ]
  },
  {
   "cell_type": "code",
   "execution_count": 5,
   "id": "b3c09ab6-e5e4-4332-90a0-b1b0898240f7",
   "metadata": {},
   "outputs": [],
   "source": [
    "url = 'https://hasaki.vn/san-pham/kem-duong-am-lam-sang-da-mo-nep-nhan-100ml-1805.html'"
   ]
  },
  {
   "cell_type": "code",
   "execution_count": 6,
   "id": "94f8c67f-c4ce-4df0-98fc-cd5f596d547a",
   "metadata": {},
   "outputs": [],
   "source": [
    "html = pd.read_html(url, header = 0)"
   ]
  },
  {
   "cell_type": "code",
   "execution_count": 10,
   "id": "9984df53-a22d-45ea-b1cf-cf0e05620fb6",
   "metadata": {},
   "outputs": [],
   "source": [
    "html = pd.read_html(url)"
   ]
  },
  {
   "cell_type": "code",
   "execution_count": 11,
   "id": "795d2ba2-ff13-4620-a26f-b4d015bd4f49",
   "metadata": {},
   "outputs": [
    {
     "data": {
      "text/plain": [
       "[                     0              1\n",
       " 0              Barcode  9324525010018\n",
       " 1          Thương Hiệu        REBIRTH\n",
       " 2  Xuất xứ thương hiệu             Úc\n",
       " 3         Nơi sản xuất      Australia\n",
       " 4             Đặc tính    Ngày và đêm]"
      ]
     },
     "execution_count": 11,
     "metadata": {},
     "output_type": "execute_result"
    }
   ],
   "source": [
    "html"
   ]
  },
  {
   "cell_type": "code",
   "execution_count": 9,
   "id": "23285724-0371-4eb9-8d14-88d74b8581f8",
   "metadata": {},
   "outputs": [
    {
     "data": {
      "text/plain": [
       "1"
      ]
     },
     "execution_count": 9,
     "metadata": {},
     "output_type": "execute_result"
    }
   ],
   "source": [
    "len(html)"
   ]
  },
  {
   "cell_type": "code",
   "execution_count": 7,
   "id": "d11cb3e8-1a1b-4ae6-8b1b-c8120f19f125",
   "metadata": {},
   "outputs": [],
   "source": [
    "df = html[0]"
   ]
  },
  {
   "cell_type": "code",
   "execution_count": 8,
   "id": "ebdc7684-5d03-4a3c-8314-8e9ae8df4518",
   "metadata": {},
   "outputs": [
    {
     "data": {
      "text/html": [
       "<div>\n",
       "<style scoped>\n",
       "    .dataframe tbody tr th:only-of-type {\n",
       "        vertical-align: middle;\n",
       "    }\n",
       "\n",
       "    .dataframe tbody tr th {\n",
       "        vertical-align: top;\n",
       "    }\n",
       "\n",
       "    .dataframe thead th {\n",
       "        text-align: right;\n",
       "    }\n",
       "</style>\n",
       "<table border=\"1\" class=\"dataframe\">\n",
       "  <thead>\n",
       "    <tr style=\"text-align: right;\">\n",
       "      <th></th>\n",
       "      <th>Barcode</th>\n",
       "      <th>9324525010018</th>\n",
       "    </tr>\n",
       "  </thead>\n",
       "  <tbody>\n",
       "    <tr>\n",
       "      <th>0</th>\n",
       "      <td>Thương Hiệu</td>\n",
       "      <td>REBIRTH</td>\n",
       "    </tr>\n",
       "    <tr>\n",
       "      <th>1</th>\n",
       "      <td>Xuất xứ thương hiệu</td>\n",
       "      <td>Úc</td>\n",
       "    </tr>\n",
       "    <tr>\n",
       "      <th>2</th>\n",
       "      <td>Nơi sản xuất</td>\n",
       "      <td>Australia</td>\n",
       "    </tr>\n",
       "    <tr>\n",
       "      <th>3</th>\n",
       "      <td>Đặc tính</td>\n",
       "      <td>Ngày và đêm</td>\n",
       "    </tr>\n",
       "  </tbody>\n",
       "</table>\n",
       "</div>"
      ],
      "text/plain": [
       "               Barcode 9324525010018\n",
       "0          Thương Hiệu       REBIRTH\n",
       "1  Xuất xứ thương hiệu            Úc\n",
       "2         Nơi sản xuất     Australia\n",
       "3             Đặc tính   Ngày và đêm"
      ]
     },
     "execution_count": 8,
     "metadata": {},
     "output_type": "execute_result"
    }
   ],
   "source": [
    "df"
   ]
  },
  {
   "cell_type": "code",
   "execution_count": null,
   "id": "c69ca1ad-7a93-4cfc-843b-3ca9062923cf",
   "metadata": {},
   "outputs": [],
   "source": []
  }
 ],
 "metadata": {
  "kernelspec": {
   "display_name": "Python 3 (ipykernel)",
   "language": "python",
   "name": "python3"
  },
  "language_info": {
   "codemirror_mode": {
    "name": "ipython",
    "version": 3
   },
   "file_extension": ".py",
   "mimetype": "text/x-python",
   "name": "python",
   "nbconvert_exporter": "python",
   "pygments_lexer": "ipython3",
   "version": "3.12.5"
  }
 },
 "nbformat": 4,
 "nbformat_minor": 5
}
