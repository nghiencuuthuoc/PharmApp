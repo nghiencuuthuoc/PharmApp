{
 "cells": [
  {
   "cell_type": "markdown",
   "id": "7a563af9",
   "metadata": {},
   "source": [
    "<a href=\"https://github.com/nghiencuuthuoc/PharmApp/PharmApp.ipynb\" target=\"_parent\"><img src=\"https://colab.research.google.com/assets/colab-badge.svg\" alt=\"Open In Colab\"/></a>\n",
    "\n",
    "![](https://raw.githubusercontent.com/nghiencuuthuoc/PharmApp/master/PharmApp-logo.png)\n",
    "# PharmApp - Drug Discovery and Development\n",
    "Copyright 2022 | Nghiên Cứu Thuốc | RD Pharma Plus\n",
    "\n",
    "Email: nghiencuuthuoc@gmail.com | info@nghiencuuthuoc.com\n",
    "\n",
    "Web: http://www.nghiencuuthuoc.com\n",
    "\n",
    "See more: https://twitter.com/nghiencuuthuoc | https://facebook.com/nghiencuuthuoc | https://github.com/nghiencuuthuoc/PharmApp"
   ]
  },
  {
   "cell_type": "markdown",
   "id": "71e35689",
   "metadata": {},
   "source": [
    "# PharmAppIIG"
   ]
  },
  {
   "cell_type": "markdown",
   "id": "a285f9ca",
   "metadata": {},
   "source": [
    "## Get inactive ingredient one name"
   ]
  },
  {
   "cell_type": "code",
   "execution_count": null,
   "id": "a1ed6ffc",
   "metadata": {},
   "outputs": [],
   "source": [
    "%%time\n",
    "# input name\n",
    "drug_raw_temp = str(input(\"Enter name: \"))\n",
    "drug_name = drug_raw_temp.lower().replace(' ', '')\n",
    "# Save file inactive_ingredient_list.txt\n",
    "try:\n",
    "    drug = drug_name\n",
    "    import src.pharmappiig012 as pa\n",
    "    print(drug)\n",
    "    pa.get_inactive_ingredient(name_drug=drug)\n",
    "except:\n",
    "    pass\n",
    "# view data\n",
    "import os\n",
    "drug_name_csv = drug_name + \"_inactive_ingredient_list.txt\"\n",
    "drug_name_csv_path = os.path.join('iigdata', drug_name_csv)\n",
    "if os.path.isfile(drug_name_csv_path):\n",
    "    import pandas as pd\n",
    "    pd.set_option(\"display.max_rows\", None, \"display.max_columns\", None)\n",
    "    df_iig = pd.read_csv(drug_name_csv_path)\n",
    "else:\n",
    "    print(f'{drug_name} is not on Dailymed!')\n",
    "df_iig"
   ]
  },
  {
   "cell_type": "markdown",
   "id": "131cbcf0",
   "metadata": {},
   "source": [
    "## Extract NDC to Urls, Open webbrowser"
   ]
  },
  {
   "cell_type": "code",
   "execution_count": null,
   "id": "c43d02af",
   "metadata": {},
   "outputs": [],
   "source": [
    "import numpy as np\n",
    "import webbrowser  \n",
    "ndc_arr = pd.DataFrame(df_iig,columns=['NDC']).to_numpy()\n",
    "unique_ndc_arr = np.unique(ndc_arr)\n",
    "ndcs = unique_ndc_arr.tolist()\n",
    "for ndc in ndcs:\n",
    "    url = \"https://ndclist.com/ndc/\" + ndc\n",
    "    print(url)\n",
    "    webbrowser.open_new_tab(url)"
   ]
  },
  {
   "cell_type": "code",
   "execution_count": null,
   "id": "e8e87552",
   "metadata": {},
   "outputs": [],
   "source": [
    "# Enter 1 NDC Code Ex. 68511-993\n",
    "import webbrowser\n",
    "ndc = str(input(\"Enter NDC Code: \"))\n",
    "url = \"https://ndclist.com/ndc/\" + ndc\n",
    "print(url)\n",
    "webbrowser.open_new_tab(url)"
   ]
  },
  {
   "cell_type": "markdown",
   "id": "32065a56",
   "metadata": {},
   "source": [
    "## View data - Dev"
   ]
  },
  {
   "cell_type": "code",
   "execution_count": null,
   "id": "8253f7ab",
   "metadata": {},
   "outputs": [],
   "source": [
    "df_iig"
   ]
  },
  {
   "cell_type": "code",
   "execution_count": null,
   "id": "d897a9be",
   "metadata": {},
   "outputs": [],
   "source": [
    "from pivottablejs import pivot_ui\n",
    "\n",
    "pivot_ui(df_iig)"
   ]
  },
  {
   "cell_type": "code",
   "execution_count": null,
   "id": "51d20a29",
   "metadata": {},
   "outputs": [],
   "source": [
    "!pip install pandasgui"
   ]
  },
  {
   "cell_type": "code",
   "execution_count": null,
   "id": "3d501ee5",
   "metadata": {},
   "outputs": [],
   "source": [
    "from pandasgui import show\n",
    "\n",
    "show(df_iig)"
   ]
  },
  {
   "cell_type": "code",
   "execution_count": null,
   "id": "92f3c115",
   "metadata": {},
   "outputs": [],
   "source": [
    "import tabloo\n",
    "\n",
    "tabloo.show(df_iig)"
   ]
  },
  {
   "cell_type": "markdown",
   "id": "56d3bcc5",
   "metadata": {},
   "source": [
    "## Get iig for multi name"
   ]
  },
  {
   "cell_type": "code",
   "execution_count": null,
   "id": "52ecff5a",
   "metadata": {},
   "outputs": [],
   "source": [
    "# Input multi names with (\" \")\n",
    "drugs_raw_temp = str(input(\"Enter name: \"))\n",
    "\n",
    "# Save file inactive_ingredient_list.txt\n",
    "try:\n",
    "    # drug name\n",
    "    drugs_raw = drugs_raw_temp\n",
    "    drugs = drugs_raw.split(\" \")\n",
    "    # get inactive ingredient\n",
    "    import src.pharmappiig012 as pa\n",
    "    for drug in drugs:\n",
    "        print(drug)\n",
    "        pa.get_inactive_ingredient(name_drug=drug)\n",
    "        print(f'{drug} done!')\n",
    "        print(\"+---------------------------+---------------------------+\")\n",
    "        continue\n",
    "except:\n",
    "    \n",
    "#     continue\n",
    "    pass\n",
    "# finally:\n",
    "#     continue"
   ]
  },
  {
   "cell_type": "markdown",
   "id": "1cc09051",
   "metadata": {},
   "source": [
    "## get iig from excel file"
   ]
  },
  {
   "cell_type": "code",
   "execution_count": 36,
   "id": "99e4055c",
   "metadata": {},
   "outputs": [],
   "source": [
    "# load drugname\n",
    "import pandas as pd\n",
    "xl = pd.ExcelFile(\"drugname/200_drugs.xlsx\")\n",
    "# xl.sheet_names\n",
    "df = xl.parse(\"Sheet1\")\n",
    "# df['Drug Name'].headad()\n",
    "drugs = df['Drug Name']\n",
    "# drugs.to_csv('drugname/200_drugs.txt', index=False, header=False)\n",
    "# drugs.to_csv('drugname/200_drugs_loading.txt', index=False, header=False)"
   ]
  },
  {
   "cell_type": "code",
   "execution_count": 37,
   "id": "89595b62",
   "metadata": {},
   "outputs": [
    {
     "name": "stdout",
     "output_type": "stream",
     "text": [
      "Atorvastatin\n",
      "Output file done!\n",
      "Linklist file done!\n",
      "Output1 file done!\n",
      "Find 16 pages of atorvastatin on DailyMed\n"
     ]
    }
   ],
   "source": [
    "# Save file inactive_ingredient_list.txt\n",
    "try:\n",
    "    # get inactive ingredient\n",
    "    import src.pharmappiig012 as pa\n",
    "    for drug in drugs:\n",
    "        print(drug)\n",
    "        pa.get_inactive_ingredient(name_drug=drug)\n",
    "        print(f'{drug} done!')\n",
    "        print(\"+---------------------------+---------------------------+\")\n",
    "#         with open(drug_name_file, \"r+\") as f:\n",
    "#             drugs = f.readlines()\n",
    "#             f.seek(0)\n",
    "#             for i in drugs:\n",
    "#                 if i != drug:\n",
    "#                     f.write(i)\n",
    "#             f.truncate()\n",
    "        continue\n",
    "except:\n",
    "    \n",
    "#     continue\n",
    "    pass\n",
    "# finally:\n",
    "#     continue"
   ]
  },
  {
   "cell_type": "markdown",
   "id": "6b56f7e4",
   "metadata": {},
   "source": [
    "## Get iig and view data for multi name"
   ]
  },
  {
   "cell_type": "code",
   "execution_count": null,
   "id": "e11a6e0e",
   "metadata": {},
   "outputs": [],
   "source": [
    "# Input name\n",
    "drugs_raw_temp = str(input(\"Enter name: \"))\n",
    "\n",
    "# Save file inactive_ingredient_list.txt\n",
    "# drug name\n",
    "drugs_raw = drugs_raw_temp\n",
    "drugs = drugs_raw.split(\" \")\n",
    "# get inactive ingredient\n",
    "import src.pharmappiig012 as pa\n",
    "for drug in drugs:\n",
    "    try:\n",
    "        print(drug)\n",
    "        pa.get_inactive_ingredient(name_drug=drug)\n",
    "        print(f'{drug} done!')\n",
    "        print(\"+---------------------------+---------------------------+\")\n",
    "    except:\n",
    "        print(f'{drug} no found in DailyMed or run error!')\n",
    "        print(\"+---------------------------+---------------------------+\")\n",
    "# # view multi drugs\n",
    "# for drug in drugs:\n",
    "#     drug_raw_csv = drug + \"_inactive_ingredient_list.txt\"\n",
    "#     # view data\n",
    "#     import pandas as pd\n",
    "#     pd.set_option(\"display.max_rows\", None, \"display.max_columns\", None)\n",
    "#     df_iig = pd.read_csv(drug_raw_csv)\n",
    "#     print(df_iig)\n",
    "    \n",
    "# view data\n",
    "for drug_name in drugs:\n",
    "    import os\n",
    "    drug_name_csv = drug_name + \"_inactive_ingredient_list.txt\"\n",
    "    drug_name_csv_path = os.path.join('iigdata', drug_name_csv)\n",
    "    if os.path.isfile(drug_name_csv_path):\n",
    "        import pandas as pd\n",
    "        pd.set_option(\"display.max_rows\", None, \"display.max_columns\", None)\n",
    "        df_iig = pd.read_csv(drug_name_csv_path)\n",
    "    else:\n",
    "        print(f'{drug_name_temp} is not on Dailymed!')\n",
    "    print(df_iig)"
   ]
  },
  {
   "cell_type": "markdown",
   "id": "1341d6db",
   "metadata": {},
   "source": [
    "## Extract NDC to Urls, Open webbrowser"
   ]
  },
  {
   "cell_type": "code",
   "execution_count": 43,
   "id": "97934a9f",
   "metadata": {},
   "outputs": [
    {
     "name": "stdout",
     "output_type": "stream",
     "text": [
      "https://ndclist.com/ndc/0029-6080\n",
      "https://ndclist.com/ndc/0029-6086\n",
      "https://ndclist.com/ndc/43598-003\n",
      "https://ndclist.com/ndc/43598-004\n",
      "https://ndclist.com/ndc/43598-006\n",
      "https://ndclist.com/ndc/43598-012\n",
      "https://ndclist.com/ndc/43598-018\n",
      "https://ndclist.com/ndc/43598-021\n",
      "https://ndclist.com/ndc/54868-0387\n",
      "https://ndclist.com/ndc/54868-4735\n",
      "https://ndclist.com/ndc/61919-391\n"
     ]
    }
   ],
   "source": [
    "import numpy as np\n",
    "import webbrowser  \n",
    "ndc_arr = pd.DataFrame(df_iig,columns=['NDC']).to_numpy()\n",
    "unique_ndc_arr = np.unique(ndc_arr)\n",
    "ndcs = unique_ndc_arr.tolist()\n",
    "for ndc in ndcs:\n",
    "    url = \"https://ndclist.com/ndc/\" + ndc\n",
    "    print(url)\n",
    "    import webbrowser\n",
    "    webbrowser.open_new_tab(url)"
   ]
  },
  {
   "cell_type": "markdown",
   "id": "c5daab23",
   "metadata": {},
   "source": [
    "## Extract Inactive and Analysis  - Dev"
   ]
  },
  {
   "cell_type": "code",
   "execution_count": 17,
   "id": "3c0535a5",
   "metadata": {
    "scrolled": false
   },
   "outputs": [],
   "source": [
    "import numpy as np\n",
    "inactive_arr = pd.DataFrame(df_iig,columns=['Inactive']).to_numpy()\n",
    "unique_inactive_arr = np.unique(inactive_arr)\n",
    "inactives = unique_inactive_arr.tolist()\n",
    "# inactives"
   ]
  },
  {
   "cell_type": "code",
   "execution_count": 19,
   "id": "8e46723d",
   "metadata": {},
   "outputs": [
    {
     "data": {
      "text/plain": [
       "875"
      ]
     },
     "execution_count": 19,
     "metadata": {},
     "output_type": "execute_result"
    }
   ],
   "source": [
    "len(inactive_arr)"
   ]
  },
  {
   "cell_type": "code",
   "execution_count": 21,
   "id": "de992fe4",
   "metadata": {},
   "outputs": [
    {
     "data": {
      "text/plain": [
       "numpy.ndarray"
      ]
     },
     "execution_count": 21,
     "metadata": {},
     "output_type": "execute_result"
    }
   ],
   "source": [
    "type(inactive_arr)"
   ]
  },
  {
   "cell_type": "code",
   "execution_count": 22,
   "id": "02e34a1e",
   "metadata": {},
   "outputs": [
    {
     "data": {
      "text/plain": [
       "103"
      ]
     },
     "execution_count": 22,
     "metadata": {},
     "output_type": "execute_result"
    }
   ],
   "source": [
    "len(unique_inactive_arr)"
   ]
  },
  {
   "cell_type": "code",
   "execution_count": 23,
   "id": "8adca54b",
   "metadata": {},
   "outputs": [
    {
     "data": {
      "text/plain": [
       "numpy.ndarray"
      ]
     },
     "execution_count": 23,
     "metadata": {},
     "output_type": "execute_result"
    }
   ],
   "source": [
    "type(unique_inactive_arr)"
   ]
  },
  {
   "cell_type": "code",
   "execution_count": 20,
   "id": "966a17c7",
   "metadata": {},
   "outputs": [
    {
     "data": {
      "text/plain": [
       "103"
      ]
     },
     "execution_count": 20,
     "metadata": {},
     "output_type": "execute_result"
    }
   ],
   "source": [
    "len(inactives)"
   ]
  },
  {
   "cell_type": "code",
   "execution_count": 18,
   "id": "6751cfa8",
   "metadata": {
    "scrolled": true
   },
   "outputs": [
    {
     "data": {
      "text/plain": [
       "list"
      ]
     },
     "execution_count": 18,
     "metadata": {},
     "output_type": "execute_result"
    }
   ],
   "source": [
    "type(inactives)"
   ]
  },
  {
   "cell_type": "markdown",
   "id": "9277f529",
   "metadata": {},
   "source": [
    "## View data with the name"
   ]
  },
  {
   "cell_type": "code",
   "execution_count": null,
   "id": "8965f173",
   "metadata": {},
   "outputs": [],
   "source": [
    "# input name ex. albuterol\n",
    "name_raw_temp = str(input(\"Enter name: \"))\n",
    "drug_name = name_raw_temp.lower().replace(' ', '')\n",
    "\n",
    "# view data\n",
    "import os\n",
    "drug_name_csv = drug_name + \"_inactive_ingredient_list.txt\"\n",
    "drug_name_csv_path = os.path.join('iigdata', drug_name_csv)\n",
    "if os.path.isfile(drug_name_csv_path):\n",
    "    import pandas as pd\n",
    "    pd.set_option(\"display.max_rows\", None, \"display.max_columns\", None)\n",
    "    df_iig = pd.read_csv(drug_name_csv_path)\n",
    "else:\n",
    "    print(f'{drug_name_temp} is not on Dailymed!')\n",
    "df_iig"
   ]
  },
  {
   "cell_type": "markdown",
   "id": "83fbe6d3",
   "metadata": {},
   "source": [
    "## View Pivot - Dev"
   ]
  },
  {
   "cell_type": "code",
   "execution_count": null,
   "id": "596233f9",
   "metadata": {},
   "outputs": [],
   "source": [
    "df_iig.pivot_table(values='MainDrug', index='NDC', columns='Inactive', aggfunc=pd.Series.nunique)"
   ]
  },
  {
   "cell_type": "code",
   "execution_count": null,
   "id": "334ea061",
   "metadata": {},
   "outputs": [],
   "source": [
    "df_iig.pivot_table(values='Inactive', index='NDC', columns='MainDrug', aggfunc=pd.Series.nunique)"
   ]
  },
  {
   "cell_type": "code",
   "execution_count": null,
   "id": "115549a4",
   "metadata": {},
   "outputs": [],
   "source": [
    "df_iig.pivot_table(values='Inactive', index='MainDrug', columns='Formulation', aggfunc=pd.Series.nunique)"
   ]
  },
  {
   "cell_type": "markdown",
   "id": "395ee8aa",
   "metadata": {},
   "source": [
    "## Wordcloud -Dev"
   ]
  },
  {
   "cell_type": "code",
   "execution_count": null,
   "id": "b59323e3",
   "metadata": {},
   "outputs": [],
   "source": [
    "!pip install wordcloud"
   ]
  },
  {
   "cell_type": "code",
   "execution_count": null,
   "id": "9276f69c",
   "metadata": {},
   "outputs": [],
   "source": [
    "!git clone https://github.com/amueller/word_cloud.git"
   ]
  },
  {
   "cell_type": "code",
   "execution_count": null,
   "id": "3df7b68b",
   "metadata": {},
   "outputs": [],
   "source": [
    "!cd word_cloud\n",
    "!pip install ."
   ]
  },
  {
   "cell_type": "code",
   "execution_count": null,
   "id": "3d004632",
   "metadata": {},
   "outputs": [],
   "source": [
    "import matplotlib.pyplot as plt\n",
    "from wordcloud import WordCloud, STOPWORDS\n",
    "\n",
    "text = df_iig['Inactive'].values \n",
    "\n",
    "wordcloud = WordCloud().generate(str(text))\n",
    "\n",
    "plt.imshow(wordcloud)\n",
    "plt.axis(\"off\")\n",
    "plt.show()"
   ]
  },
  {
   "cell_type": "markdown",
   "id": "2725456e",
   "metadata": {},
   "source": [
    "## Pubmed Data"
   ]
  },
  {
   "cell_type": "code",
   "execution_count": 56,
   "id": "1183a3cf",
   "metadata": {
    "scrolled": false
   },
   "outputs": [
    {
     "name": "stdout",
     "output_type": "stream",
     "text": [
      "Data from PubChem for Drug Name: dexamethasone \n",
      "CID: 5743\n",
      "Isomeric Simles: C[C@@H]1C[C@H]2[C@@H]3CCC4=CC(=O)C=C[C@@]4([C@]3([C@H](C[C@@]2([C@]1(C(=O)CO)O)C)O)F)C\n",
      "IUPAC Name: (8S,9R,10S,11S,13S,14S,16R,17R)-9-fluoro-11,17-dihydroxy-17-(2-hydroxyacetyl)-10,13,16-trimethyl-6,7,8,11,12,14,15,16-octahydrocyclopenta[a]phenanthren-3-one\n",
      "Molecular formula: C22H29FO5\n",
      "Molecular weight: 392.5\n",
      "logP: 1.9\n"
     ]
    }
   ],
   "source": [
    "pa.get_pubmed_data()"
   ]
  },
  {
   "cell_type": "markdown",
   "id": "1bc1a716",
   "metadata": {},
   "source": [
    "## Open linklist - Dev"
   ]
  },
  {
   "cell_type": "code",
   "execution_count": null,
   "id": "5128c3be",
   "metadata": {},
   "outputs": [],
   "source": [
    "import pharmapp as pa\n",
    "pa.open_linklist()"
   ]
  },
  {
   "cell_type": "code",
   "execution_count": null,
   "id": "c1505aaf",
   "metadata": {},
   "outputs": [],
   "source": []
  },
  {
   "cell_type": "markdown",
   "id": "62831f04",
   "metadata": {},
   "source": [
    "## Join all data iig"
   ]
  },
  {
   "cell_type": "code",
   "execution_count": 28,
   "id": "260fd444",
   "metadata": {},
   "outputs": [],
   "source": [
    "import os\n",
    "import pandas as pd\n",
    "from glob import glob\n",
    "all_files = glob(os.path.join('iigdata', \"*_inactive_ingredient_list.txt\"))\n",
    "ind_df = (pd.read_csv(f, sep=',') for f in all_files)\n",
    "df = pd.concat(ind_df, ignore_index=True)"
   ]
  },
  {
   "cell_type": "code",
   "execution_count": 31,
   "id": "7cd43b15",
   "metadata": {},
   "outputs": [
    {
     "name": "stdout",
     "output_type": "stream",
     "text": [
      "<class 'pandas.core.frame.DataFrame'>\n",
      "RangeIndex: 142674 entries, 0 to 142673\n",
      "Data columns (total 5 columns):\n",
      " #   Column       Non-Null Count   Dtype \n",
      "---  ------       --------------   ----- \n",
      " 0   MainDrug     142674 non-null  object\n",
      " 1   NDC          142674 non-null  object\n",
      " 2   Strength     142674 non-null  object\n",
      " 3   Formulation  142674 non-null  object\n",
      " 4   Inactive     142674 non-null  object\n",
      "dtypes: object(5)\n",
      "memory usage: 5.4+ MB\n"
     ]
    }
   ],
   "source": [
    "df.info()"
   ]
  },
  {
   "cell_type": "markdown",
   "id": "4c56dcdb",
   "metadata": {},
   "source": [
    "## view exist data iig"
   ]
  },
  {
   "cell_type": "code",
   "execution_count": 33,
   "id": "3a3ac51e",
   "metadata": {},
   "outputs": [],
   "source": [
    "import os\n",
    "import pandas as pd\n",
    "from glob import glob\n",
    "all_files = glob(os.path.join('iigdata', \"*_inactive_ingredient_list.txt\"))"
   ]
  },
  {
   "cell_type": "markdown",
   "id": "22ee6526",
   "metadata": {},
   "source": [
    "## zip iig data - dev"
   ]
  },
  {
   "cell_type": "code",
   "execution_count": null,
   "id": "2ff5738e",
   "metadata": {},
   "outputs": [],
   "source": []
  }
 ],
 "metadata": {
  "kernelspec": {
   "display_name": "Python 3 (ipykernel)",
   "language": "python",
   "name": "python3"
  },
  "language_info": {
   "codemirror_mode": {
    "name": "ipython",
    "version": 3
   },
   "file_extension": ".py",
   "mimetype": "text/x-python",
   "name": "python",
   "nbconvert_exporter": "python",
   "pygments_lexer": "ipython3",
   "version": "3.9.6"
  }
 },
 "nbformat": 4,
 "nbformat_minor": 5
}
