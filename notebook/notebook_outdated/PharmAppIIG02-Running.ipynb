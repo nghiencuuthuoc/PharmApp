{
 "cells": [
  {
   "cell_type": "markdown",
   "id": "71e35689",
   "metadata": {},
   "source": [
    "# PharmAppIIG"
   ]
  },
  {
   "cell_type": "markdown",
   "id": "a285f9ca",
   "metadata": {},
   "source": [
    "## Get inactive ingredient one name"
   ]
  },
  {
   "cell_type": "code",
   "execution_count": null,
   "id": "52e3fd7d",
   "metadata": {},
   "outputs": [],
   "source": [
    "%%time\n",
    "# input name\n",
    "drug_raw_temp = str(input(\"Enter name: \"))\n",
    "drug_name = drug_raw_temp.lower().replace(' ', '')\n",
    "# Save file inactive_ingredient_list.txt\n",
    "try:\n",
    "    drug = drug_name\n",
    "    import src.pharmappiig012 as pa\n",
    "    print(drug)\n",
    "    pa.get_inactive_ingredient(name_drug=drug)\n",
    "except:\n",
    "    pass\n",
    "# view data\n",
    "import os\n",
    "drug_name_csv = drug_name + \"_inactive_ingredient_list.txt\"\n",
    "drug_name_csv_path = os.path.join('iigdata', drug_name_csv)\n",
    "if os.path.isfile(drug_name_csv_path):\n",
    "    import pandas as pd\n",
    "    pd.set_option(\"display.max_rows\", None, \"display.max_columns\", None)\n",
    "    df_iig = pd.read_csv(drug_name_csv_path)\n",
    "else:\n",
    "    print(f'{drug_name} is not on Dailymed!')\n",
    "df_iig"
   ]
  },
  {
   "cell_type": "markdown",
   "id": "131cbcf0",
   "metadata": {},
   "source": [
    "## Extract NDC to Urls, Open webbrowser"
   ]
  },
  {
   "cell_type": "code",
   "execution_count": null,
   "id": "d09cfeaf",
   "metadata": {},
   "outputs": [],
   "source": [
    "import numpy as np\n",
    "import webbrowser  \n",
    "ndc_arr = pd.DataFrame(df_iig,columns=['NDC']).to_numpy()\n",
    "unique_ndc_arr = np.unique(ndc_arr)\n",
    "ndcs = unique_ndc_arr.tolist()\n",
    "for ndc in ndcs:\n",
    "    url = \"https://ndclist.com/ndc/\" + ndc\n",
    "    print(url)\n",
    "    webbrowser.open_new_tab(url)"
   ]
  },
  {
   "cell_type": "code",
   "execution_count": 24,
   "id": "c90a308d",
   "metadata": {},
   "outputs": [
    {
     "name": "stdout",
     "output_type": "stream",
     "text": [
      "Enter NDC Code: 72689-0042\t\n",
      "https://ndclist.com/ndc/72689-0042\t\n"
     ]
    },
    {
     "data": {
      "text/plain": [
       "True"
      ]
     },
     "execution_count": 24,
     "metadata": {},
     "output_type": "execute_result"
    }
   ],
   "source": [
    "# Enter 1 NDC Code Ex. 68511-993\n",
    "import webbrowser\n",
    "ndc = str(input(\"Enter NDC Code: \"))\n",
    "url = \"https://ndclist.com/ndc/\" + ndc\n",
    "print(url)\n",
    "webbrowser.open_new_tab(url)"
   ]
  },
  {
   "cell_type": "markdown",
   "id": "32065a56",
   "metadata": {},
   "source": [
    "## View data - Dev"
   ]
  },
  {
   "cell_type": "code",
   "execution_count": null,
   "id": "8253f7ab",
   "metadata": {},
   "outputs": [],
   "source": [
    "df_iig"
   ]
  },
  {
   "cell_type": "code",
   "execution_count": null,
   "id": "d897a9be",
   "metadata": {},
   "outputs": [],
   "source": [
    "from pivottablejs import pivot_ui\n",
    "\n",
    "pivot_ui(df_iig)"
   ]
  },
  {
   "cell_type": "code",
   "execution_count": null,
   "id": "51d20a29",
   "metadata": {},
   "outputs": [],
   "source": [
    "!pip install pandasgui"
   ]
  },
  {
   "cell_type": "code",
   "execution_count": null,
   "id": "3d501ee5",
   "metadata": {},
   "outputs": [],
   "source": [
    "from pandasgui import show\n",
    "\n",
    "show(df_iig)"
   ]
  },
  {
   "cell_type": "code",
   "execution_count": null,
   "id": "92f3c115",
   "metadata": {},
   "outputs": [],
   "source": [
    "import tabloo\n",
    "\n",
    "tabloo.show(df_iig)"
   ]
  },
  {
   "cell_type": "markdown",
   "id": "56d3bcc5",
   "metadata": {},
   "source": [
    "## Get iig for multi name"
   ]
  },
  {
   "cell_type": "code",
   "execution_count": null,
   "id": "52ecff5a",
   "metadata": {},
   "outputs": [],
   "source": [
    "# Input multi names with (\" \")\n",
    "drugs_raw_temp = str(input(\"Enter name: \"))\n",
    "\n",
    "# Save file inactive_ingredient_list.txt\n",
    "try:\n",
    "    # drug name\n",
    "    drugs_raw = drugs_raw_temp\n",
    "    drugs = drugs_raw.split(\" \")\n",
    "    # get inactive ingredient\n",
    "    import src.pharmappiig012 as pa\n",
    "    for drug in drugs:\n",
    "        print(drug)\n",
    "        pa.get_inactive_ingredient(name_drug=drug)\n",
    "        print(f'{drug} done!')\n",
    "        print(\"+---------------------------+---------------------------+\")\n",
    "        continue\n",
    "except:\n",
    "    \n",
    "#     continue\n",
    "    pass\n",
    "# finally:\n",
    "#     continue"
   ]
  },
  {
   "cell_type": "markdown",
   "id": "1cc09051",
   "metadata": {},
   "source": [
    "## get iig from excel file"
   ]
  },
  {
   "cell_type": "code",
   "execution_count": 19,
   "id": "99e4055c",
   "metadata": {},
   "outputs": [],
   "source": [
    "# load drugname\n",
    "import pandas as pd\n",
    "xl = pd.ExcelFile(\"drugname/200_drugs_02.xlsx\")\n",
    "# xl.sheet_names\n",
    "df = xl.parse(\"Sheet6\")\n",
    "# df['Drug Name'].headad()\n",
    "# drugs = df['Drug Name']\n",
    "# drugs.to_csv('drugname/200_drugs.txt', index=False, header=False)\n",
    "# drugs.to_csv('drugname/200_drugs_loading.txt', index=False, header=False)\n",
    "drugs = df"
   ]
  },
  {
   "cell_type": "code",
   "execution_count": null,
   "id": "f9cf05ed",
   "metadata": {},
   "outputs": [],
   "source": [
    "drugs = drugs_raw."
   ]
  },
  {
   "cell_type": "code",
   "execution_count": null,
   "id": "efcf4992",
   "metadata": {},
   "outputs": [],
   "source": [
    "# drugs = df.to_list()\n",
    "# drugs = df.drop_duplicates().to_list()\n",
    "drugs = df.tolist()\n",
    "drugs"
   ]
  },
  {
   "cell_type": "code",
   "execution_count": null,
   "id": "6fecb3a9",
   "metadata": {},
   "outputs": [],
   "source": [
    "drugs[1:197]"
   ]
  },
  {
   "cell_type": "code",
   "execution_count": 27,
   "id": "6970e906",
   "metadata": {},
   "outputs": [],
   "source": [
    "# drug_name_file = 'drugname/200_drugs_loading.txt'\n",
    "# f = open(drug_name_file,'r')\n",
    "# drugs = f.readlines()\n",
    "# for drug in drugs:\n",
    "#     print(type(drug))"
   ]
  },
  {
   "cell_type": "code",
   "execution_count": 28,
   "id": "4f40b30c",
   "metadata": {},
   "outputs": [],
   "source": [
    "# df = pd.read_csv('drugname/200_drugs_loading.txt')\n",
    "# drugs = df.values"
   ]
  },
  {
   "cell_type": "markdown",
   "id": "9c2fec8a",
   "metadata": {},
   "source": [
    "### check file exist"
   ]
  },
  {
   "cell_type": "code",
   "execution_count": null,
   "id": "fb773f45",
   "metadata": {},
   "outputs": [],
   "source": [
    "import os\n",
    "for drug in drugs:\n",
    "    print(drug)\n",
    "    drug_name_csv = drug + \"_inactive_ingredient_list.txt\"\n",
    "    drug_name_csv_path = os.path.join('iigdata', drug_name_csv)\n",
    "    if os.path.isfile(drug_name_csv_path) == True:\n",
    "        print(f'{drug} exist')"
   ]
  },
  {
   "cell_type": "code",
   "execution_count": 15,
   "id": "af40c3ad",
   "metadata": {},
   "outputs": [
    {
     "name": "stdout",
     "output_type": "stream",
     "text": [
      "Lisinopril\n",
      "Lisinopril exist\n"
     ]
    }
   ],
   "source": [
    "import os\n",
    "for drug in drugs:\n",
    "    print(drug)\n",
    "    drug_name_csv = drug + \"_inactive_ingredient_list.txt\"\n",
    "    drug_name_csv_path = os.path.join('iigdata', drug_name_csv)\n",
    "    if os.path.isfile(drug_name_csv_path) == True:\n",
    "        print(f'{drug} exist')\n",
    "        continue\n",
    "    else:\n",
    "        import src.pharmappiig012 as pa\n",
    "        print(drug)\n",
    "        pa.get_inactive_ingredient(name_drug=drug)\n",
    "        print(f'{drug} done!')\n",
    "        print(\"+---------------------------+---------------------------+\")\n",
    "        pass"
   ]
  },
  {
   "cell_type": "code",
   "execution_count": 16,
   "id": "e994a767",
   "metadata": {},
   "outputs": [],
   "source": [
    "def get_iig_multi_drug(drug):\n",
    "    # Save file inactive_ingredient_list.txt\n",
    "    try:\n",
    "        # get inactive ingredient\n",
    "        import src.pharmappiig012 as pa\n",
    "        for drug in drugs:\n",
    "            print(drug)\n",
    "            pa.get_inactive_ingredient(name_drug=drug)\n",
    "            print(f'{drug} done!')\n",
    "            print(\"+---------------------------+---------------------------+\")\n",
    "            continue\n",
    "    except:\n",
    "\n",
    "    #     continue\n",
    "        pass\n",
    "    # finally:\n",
    "    #     continue"
   ]
  },
  {
   "cell_type": "code",
   "execution_count": 21,
   "id": "29d1ddbc",
   "metadata": {},
   "outputs": [
    {
     "name": "stdout",
     "output_type": "stream",
     "text": [
      "Lisinopril\n",
      "Lisinopril exist\n"
     ]
    }
   ],
   "source": [
    "import os\n",
    "for drug in drugs:\n",
    "    print(drug)\n",
    "    drug_name_csv = drug + \"_inactive_ingredient_list.txt\"\n",
    "    drug_name_csv_path = os.path.join('iigdata', drug_name_csv)\n",
    "    if os.path.isfile(drug_name_csv_path) == True:\n",
    "        print(f'{drug} exist')\n",
    "    else:\n",
    "        get_iig_multi_drug(drug)\n",
    "\n",
    "\n",
    "# if os.path.isfile(drug_name_csv_path):\n",
    "#     import pandas as pd\n",
    "#     pd.set_option(\"display.max_rows\", None, \"display.max_columns\", None)\n",
    "#     df_iig = pd.read_csv(drug_name_csv_path)\n",
    "# else:\n",
    "#     print(f'{drug_name_temp} is not on Dailymed!')\n",
    "# df_iig\n",
    "\n",
    "# os.path.isfile"
   ]
  },
  {
   "cell_type": "code",
   "execution_count": null,
   "id": "138f02ab",
   "metadata": {},
   "outputs": [],
   "source": [
    "# Save file inactive_ingredient_list.txt\n",
    "try:\n",
    "    # get inactive ingredient\n",
    "    import src.pharmappiig012 as pa\n",
    "    for drug in drugs:\n",
    "        print(drug)\n",
    "        pa.get_inactive_ingredient(name_drug=drug)\n",
    "        print(f'{drug} done!')\n",
    "        print(\"+---------------------------+---------------------------+\")\n",
    "        continue\n",
    "except:\n",
    "    \n",
    "#     continue\n",
    "    pass\n",
    "# finally:\n",
    "#     continue"
   ]
  },
  {
   "cell_type": "markdown",
   "id": "6b56f7e4",
   "metadata": {},
   "source": [
    "## Get iig multi name"
   ]
  },
  {
   "cell_type": "code",
   "execution_count": 2,
   "id": "244d3b59",
   "metadata": {
    "scrolled": false
   },
   "outputs": [
    {
     "name": "stdout",
     "output_type": "stream",
     "text": [
      "Venlafaxine\n",
      "Linklist file done!\n",
      "Output1 file done!\n",
      "Find 13 pages of venlafaxine on DailyMed\n",
      "Save link DailyMed of venlafaxine on file linklistdata\\venlafaxine_linklist.txt in folder E:\\DD\\PharmApp\\PharmAppIIG\n",
      "Saved file linklist done!\n",
      "Save link DailyMed of venlafaxine on file linklistdata\\venlafaxine_linklist.txt in folder E:\\DD\\PharmApp\\PharmAppIIG\n",
      "Saved file linklist done!\n",
      "Save link DailyMed of venlafaxine on file linklistdata\\venlafaxine_linklist.txt in folder E:\\DD\\PharmApp\\PharmAppIIG\n",
      "Saved file linklist done!\n",
      "Save link DailyMed of venlafaxine on file linklistdata\\venlafaxine_linklist.txt in folder E:\\DD\\PharmApp\\PharmAppIIG\n",
      "Saved file linklist done!\n",
      "Save link DailyMed of venlafaxine on file linklistdata\\venlafaxine_linklist.txt in folder E:\\DD\\PharmApp\\PharmAppIIG\n",
      "Saved file linklist done!\n",
      "Save link DailyMed of venlafaxine on file linklistdata\\venlafaxine_linklist.txt in folder E:\\DD\\PharmApp\\PharmAppIIG\n",
      "Saved file linklist done!\n",
      "Save link DailyMed of venlafaxine on file linklistdata\\venlafaxine_linklist.txt in folder E:\\DD\\PharmApp\\PharmAppIIG\n",
      "Saved file linklist done!\n",
      "Save link DailyMed of venlafaxine on file linklistdata\\venlafaxine_linklist.txt in folder E:\\DD\\PharmApp\\PharmAppIIG\n",
      "Saved file linklist done!\n",
      "Save link DailyMed of venlafaxine on file linklistdata\\venlafaxine_linklist.txt in folder E:\\DD\\PharmApp\\PharmAppIIG\n",
      "Saved file linklist done!\n",
      "Save link DailyMed of venlafaxine on file linklistdata\\venlafaxine_linklist.txt in folder E:\\DD\\PharmApp\\PharmAppIIG\n",
      "Saved file linklist done!\n",
      "Save link DailyMed of venlafaxine on file linklistdata\\venlafaxine_linklist.txt in folder E:\\DD\\PharmApp\\PharmAppIIG\n",
      "Saved file linklist done!\n",
      "Save link DailyMed of venlafaxine on file linklistdata\\venlafaxine_linklist.txt in folder E:\\DD\\PharmApp\\PharmAppIIG\n",
      "Saved file linklist done!\n",
      "Save link DailyMed of venlafaxine on file linklistdata\\venlafaxine_linklist.txt in folder E:\\DD\\PharmApp\\PharmAppIIG\n",
      "Saved file linklist done!\n",
      "Save inactive ingredient of venlafaxine on file iigdata\\venlafaxine_inactive_ingredient_list.txt infolder E:\\DD\\PharmApp\\PharmAppIIG\n",
      "Venlafaxine done!\n",
      "+---------------------------+---------------------------+\n",
      "Vigabatrin\n",
      "Linklist file done!\n",
      "Output1 file done!\n",
      "Find 2 pages of vigabatrin on DailyMed\n",
      "Save link DailyMed of vigabatrin on file linklistdata\\vigabatrin_linklist.txt in folder E:\\DD\\PharmApp\\PharmAppIIG\n",
      "Saved file linklist done!\n",
      "Save link DailyMed of vigabatrin on file linklistdata\\vigabatrin_linklist.txt in folder E:\\DD\\PharmApp\\PharmAppIIG\n",
      "Saved file linklist done!\n",
      "Save inactive ingredient of vigabatrin on file iigdata\\vigabatrin_inactive_ingredient_list.txt infolder E:\\DD\\PharmApp\\PharmAppIIG\n",
      "Vigabatrin done!\n",
      "+---------------------------+---------------------------+\n",
      "Vilazodone\n",
      "Linklist file done!\n",
      "Output1 file done!\n",
      "Find 1 pages of vilazodone on DailyMed\n",
      "Save link DailyMed of vilazodone on file linklistdata\\vilazodone_linklist.txt in folder E:\\DD\\PharmApp\\PharmAppIIG\n",
      "Saved file linklist done!\n",
      "Save inactive ingredient of vilazodone on file iigdata\\vilazodone_inactive_ingredient_list.txt infolder E:\\DD\\PharmApp\\PharmAppIIG\n",
      "Vilazodone done!\n",
      "+---------------------------+---------------------------+\n",
      "Zaleplon\n",
      "Linklist file done!\n",
      "Output1 file done!\n",
      "Find 2 pages of zaleplon on DailyMed\n",
      "Save link DailyMed of zaleplon on file linklistdata\\zaleplon_linklist.txt in folder E:\\DD\\PharmApp\\PharmAppIIG\n",
      "Saved file linklist done!\n",
      "Save link DailyMed of zaleplon on file linklistdata\\zaleplon_linklist.txt in folder E:\\DD\\PharmApp\\PharmAppIIG\n",
      "Saved file linklist done!\n",
      "Save inactive ingredient of zaleplon on file iigdata\\zaleplon_inactive_ingredient_list.txt infolder E:\\DD\\PharmApp\\PharmAppIIG\n",
      "Zaleplon done!\n",
      "+---------------------------+---------------------------+\n",
      "Ziprasidone\n",
      "Linklist file done!\n",
      "Output1 file done!\n",
      "Find 5 pages of ziprasidone on DailyMed\n",
      "Save link DailyMed of ziprasidone on file linklistdata\\ziprasidone_linklist.txt in folder E:\\DD\\PharmApp\\PharmAppIIG\n",
      "Saved file linklist done!\n",
      "Save link DailyMed of ziprasidone on file linklistdata\\ziprasidone_linklist.txt in folder E:\\DD\\PharmApp\\PharmAppIIG\n",
      "Saved file linklist done!\n",
      "Save link DailyMed of ziprasidone on file linklistdata\\ziprasidone_linklist.txt in folder E:\\DD\\PharmApp\\PharmAppIIG\n",
      "Saved file linklist done!\n",
      "Save link DailyMed of ziprasidone on file linklistdata\\ziprasidone_linklist.txt in folder E:\\DD\\PharmApp\\PharmAppIIG\n",
      "Saved file linklist done!\n",
      "Save link DailyMed of ziprasidone on file linklistdata\\ziprasidone_linklist.txt in folder E:\\DD\\PharmApp\\PharmAppIIG\n",
      "Saved file linklist done!\n",
      "Save inactive ingredient of ziprasidone on file iigdata\\ziprasidone_inactive_ingredient_list.txt infolder E:\\DD\\PharmApp\\PharmAppIIG\n",
      "Ziprasidone done!\n",
      "+---------------------------+---------------------------+\n",
      "Zolmitriptan\n",
      "Linklist file done!\n",
      "Output1 file done!\n",
      "Find 2 pages of zolmitriptan on DailyMed\n",
      "Save link DailyMed of zolmitriptan on file linklistdata\\zolmitriptan_linklist.txt in folder E:\\DD\\PharmApp\\PharmAppIIG\n",
      "Saved file linklist done!\n",
      "Save link DailyMed of zolmitriptan on file linklistdata\\zolmitriptan_linklist.txt in folder E:\\DD\\PharmApp\\PharmAppIIG\n",
      "Saved file linklist done!\n",
      "Save inactive ingredient of zolmitriptan on file iigdata\\zolmitriptan_inactive_ingredient_list.txt infolder E:\\DD\\PharmApp\\PharmAppIIG\n",
      "Zolmitriptan done!\n",
      "+---------------------------+---------------------------+\n",
      "Zolpidem\n",
      "Linklist file done!\n",
      "Output1 file done!\n",
      "Find 9 pages of zolpidem on DailyMed\n",
      "Save link DailyMed of zolpidem on file linklistdata\\zolpidem_linklist.txt in folder E:\\DD\\PharmApp\\PharmAppIIG\n",
      "Saved file linklist done!\n",
      "Save link DailyMed of zolpidem on file linklistdata\\zolpidem_linklist.txt in folder E:\\DD\\PharmApp\\PharmAppIIG\n",
      "Saved file linklist done!\n",
      "Save link DailyMed of zolpidem on file linklistdata\\zolpidem_linklist.txt in folder E:\\DD\\PharmApp\\PharmAppIIG\n",
      "Saved file linklist done!\n",
      "Save link DailyMed of zolpidem on file linklistdata\\zolpidem_linklist.txt in folder E:\\DD\\PharmApp\\PharmAppIIG\n",
      "Saved file linklist done!\n",
      "Save link DailyMed of zolpidem on file linklistdata\\zolpidem_linklist.txt in folder E:\\DD\\PharmApp\\PharmAppIIG\n",
      "Saved file linklist done!\n",
      "Save link DailyMed of zolpidem on file linklistdata\\zolpidem_linklist.txt in folder E:\\DD\\PharmApp\\PharmAppIIG\n",
      "Saved file linklist done!\n",
      "Save link DailyMed of zolpidem on file linklistdata\\zolpidem_linklist.txt in folder E:\\DD\\PharmApp\\PharmAppIIG\n",
      "Saved file linklist done!\n",
      "Save link DailyMed of zolpidem on file linklistdata\\zolpidem_linklist.txt in folder E:\\DD\\PharmApp\\PharmAppIIG\n",
      "Saved file linklist done!\n",
      "Save link DailyMed of zolpidem on file linklistdata\\zolpidem_linklist.txt in folder E:\\DD\\PharmApp\\PharmAppIIG\n",
      "Saved file linklist done!\n",
      "Save inactive ingredient of zolpidem on file iigdata\\zolpidem_inactive_ingredient_list.txt infolder E:\\DD\\PharmApp\\PharmAppIIG\n",
      "Zolpidem done!\n",
      "+---------------------------+---------------------------+\n",
      "Zonisamide\n",
      "Linklist file done!\n",
      "Output1 file done!\n",
      "Find 3 pages of zonisamide on DailyMed\n",
      "Save link DailyMed of zonisamide on file linklistdata\\zonisamide_linklist.txt in folder E:\\DD\\PharmApp\\PharmAppIIG\n",
      "Saved file linklist done!\n",
      "Save link DailyMed of zonisamide on file linklistdata\\zonisamide_linklist.txt in folder E:\\DD\\PharmApp\\PharmAppIIG\n",
      "Saved file linklist done!\n",
      "Save link DailyMed of zonisamide on file linklistdata\\zonisamide_linklist.txt in folder E:\\DD\\PharmApp\\PharmAppIIG\n",
      "Saved file linklist done!\n",
      "Save inactive ingredient of zonisamide on file iigdata\\zonisamide_inactive_ingredient_list.txt infolder E:\\DD\\PharmApp\\PharmAppIIG\n",
      "Zonisamide done!\n",
      "+---------------------------+---------------------------+\n"
     ]
    }
   ],
   "source": [
    "# Input name\n",
    "drugs_raw_temp = 'Venlafaxine Vigabatrin '\n",
    "\n",
    "# Save file inactive_ingredient_list.txt\n",
    "# drug name\n",
    "drugs_raw = drugs_raw_temp\n",
    "drugs = drugs_raw.split(\" \")\n",
    "# get inactive ingredient\n",
    "import src.pharmappiig012 as pa\n",
    "for drug in drugs:\n",
    "    try:\n",
    "        print(drug)\n",
    "        pa.get_inactive_ingredient(name_drug=drug)\n",
    "        print(f'{drug} done!')\n",
    "        print(\"+---------------------------+---------------------------+\")\n",
    "    except:\n",
    "        print(f'{drug} no found in DailyMed or run error!')\n",
    "        print(\"+---------------------------+---------------------------+\")"
   ]
  },
  {
   "cell_type": "code",
   "execution_count": null,
   "id": "d692e3c2",
   "metadata": {},
   "outputs": [],
   "source": [
    "# Input name\n",
    "drugs_raw_temp = str(input(\"Enter name: \"))\n",
    "\n",
    "# Save file inactive_ingredient_list.txt\n",
    "# drug name\n",
    "drugs_raw = drugs_raw_temp\n",
    "drugs = drugs_raw.split(\" \")\n",
    "# get inactive ingredient\n",
    "import src.pharmappiig012 as pa\n",
    "for drug in drugs:\n",
    "    try:\n",
    "        print(drug)\n",
    "        pa.get_inactive_ingredient(name_drug=drug)\n",
    "        print(f'{drug} done!')\n",
    "        print(\"+---------------------------+---------------------------+\")\n",
    "    except:\n",
    "        print(f'{drug} no found in DailyMed or run error!')\n",
    "        print(\"+---------------------------+---------------------------+\")"
   ]
  },
  {
   "cell_type": "markdown",
   "id": "cb541965",
   "metadata": {},
   "source": [
    "## Get iig and view data for multi name"
   ]
  },
  {
   "cell_type": "code",
   "execution_count": null,
   "id": "e11a6e0e",
   "metadata": {},
   "outputs": [],
   "source": [
    "# Input name\n",
    "drugs_raw_temp = str(input(\"Enter name: \"))\n",
    "\n",
    "# Save file inactive_ingredient_list.txt\n",
    "# drug name\n",
    "drugs_raw = drugs_raw_temp\n",
    "drugs = drugs_raw.split(\" \")\n",
    "# get inactive ingredient\n",
    "import src.pharmappiig012 as pa\n",
    "for drug in drugs:\n",
    "    try:\n",
    "        print(drug)\n",
    "        pa.get_inactive_ingredient(name_drug=drug)\n",
    "        print(f'{drug} done!')\n",
    "        print(\"+---------------------------+---------------------------+\")\n",
    "    except:\n",
    "        print(f'{drug} no found in DailyMed or run error!')\n",
    "        print(\"+---------------------------+---------------------------+\")\n",
    "# # view multi drugs\n",
    "# for drug in drugs:\n",
    "#     drug_raw_csv = drug + \"_inactive_ingredient_list.txt\"\n",
    "#     # view data\n",
    "#     import pandas as pd\n",
    "#     pd.set_option(\"display.max_rows\", None, \"display.max_columns\", None)\n",
    "#     df_iig = pd.read_csv(drug_raw_csv)\n",
    "#     print(df_iig)\n",
    "    \n",
    "# view data\n",
    "for drug_name in drugs:\n",
    "    import os\n",
    "    drug_name_csv = drug_name + \"_inactive_ingredient_list.txt\"\n",
    "    drug_name_csv_path = os.path.join('iigdata', drug_name_csv)\n",
    "    if os.path.isfile(drug_name_csv_path):\n",
    "        import pandas as pd\n",
    "        pd.set_option(\"display.max_rows\", None, \"display.max_columns\", None)\n",
    "        df_iig = pd.read_csv(drug_name_csv_path)\n",
    "    else:\n",
    "        print(f'{drug_name_temp} is not on Dailymed!')\n",
    "    print(df_iig)"
   ]
  },
  {
   "cell_type": "markdown",
   "id": "1341d6db",
   "metadata": {},
   "source": [
    "## Extract NDC to Urls, Open webbrowser"
   ]
  },
  {
   "cell_type": "code",
   "execution_count": 43,
   "id": "97934a9f",
   "metadata": {},
   "outputs": [
    {
     "name": "stdout",
     "output_type": "stream",
     "text": [
      "https://ndclist.com/ndc/0029-6080\n",
      "https://ndclist.com/ndc/0029-6086\n",
      "https://ndclist.com/ndc/43598-003\n",
      "https://ndclist.com/ndc/43598-004\n",
      "https://ndclist.com/ndc/43598-006\n",
      "https://ndclist.com/ndc/43598-012\n",
      "https://ndclist.com/ndc/43598-018\n",
      "https://ndclist.com/ndc/43598-021\n",
      "https://ndclist.com/ndc/54868-0387\n",
      "https://ndclist.com/ndc/54868-4735\n",
      "https://ndclist.com/ndc/61919-391\n"
     ]
    }
   ],
   "source": [
    "import numpy as np\n",
    "import webbrowser  \n",
    "ndc_arr = pd.DataFrame(df_iig,columns=['NDC']).to_numpy()\n",
    "unique_ndc_arr = np.unique(ndc_arr)\n",
    "ndcs = unique_ndc_arr.tolist()\n",
    "for ndc in ndcs:\n",
    "    url = \"https://ndclist.com/ndc/\" + ndc\n",
    "    print(url)\n",
    "    import webbrowser\n",
    "    webbrowser.open_new_tab(url)"
   ]
  },
  {
   "cell_type": "markdown",
   "id": "c5daab23",
   "metadata": {},
   "source": [
    "## Extract Inactive and Analysis  - Dev"
   ]
  },
  {
   "cell_type": "code",
   "execution_count": 17,
   "id": "3c0535a5",
   "metadata": {
    "scrolled": false
   },
   "outputs": [],
   "source": [
    "import numpy as np\n",
    "inactive_arr = pd.DataFrame(df_iig,columns=['Inactive']).to_numpy()\n",
    "unique_inactive_arr = np.unique(inactive_arr)\n",
    "inactives = unique_inactive_arr.tolist()\n",
    "# inactives"
   ]
  },
  {
   "cell_type": "code",
   "execution_count": 19,
   "id": "8e46723d",
   "metadata": {},
   "outputs": [
    {
     "data": {
      "text/plain": [
       "875"
      ]
     },
     "execution_count": 19,
     "metadata": {},
     "output_type": "execute_result"
    }
   ],
   "source": [
    "len(inactive_arr)"
   ]
  },
  {
   "cell_type": "code",
   "execution_count": 21,
   "id": "de992fe4",
   "metadata": {},
   "outputs": [
    {
     "data": {
      "text/plain": [
       "numpy.ndarray"
      ]
     },
     "execution_count": 21,
     "metadata": {},
     "output_type": "execute_result"
    }
   ],
   "source": [
    "type(inactive_arr)"
   ]
  },
  {
   "cell_type": "code",
   "execution_count": 22,
   "id": "02e34a1e",
   "metadata": {},
   "outputs": [
    {
     "data": {
      "text/plain": [
       "103"
      ]
     },
     "execution_count": 22,
     "metadata": {},
     "output_type": "execute_result"
    }
   ],
   "source": [
    "len(unique_inactive_arr)"
   ]
  },
  {
   "cell_type": "code",
   "execution_count": 23,
   "id": "8adca54b",
   "metadata": {},
   "outputs": [
    {
     "data": {
      "text/plain": [
       "numpy.ndarray"
      ]
     },
     "execution_count": 23,
     "metadata": {},
     "output_type": "execute_result"
    }
   ],
   "source": [
    "type(unique_inactive_arr)"
   ]
  },
  {
   "cell_type": "code",
   "execution_count": 20,
   "id": "966a17c7",
   "metadata": {},
   "outputs": [
    {
     "data": {
      "text/plain": [
       "103"
      ]
     },
     "execution_count": 20,
     "metadata": {},
     "output_type": "execute_result"
    }
   ],
   "source": [
    "len(inactives)"
   ]
  },
  {
   "cell_type": "code",
   "execution_count": 18,
   "id": "6751cfa8",
   "metadata": {
    "scrolled": true
   },
   "outputs": [
    {
     "data": {
      "text/plain": [
       "list"
      ]
     },
     "execution_count": 18,
     "metadata": {},
     "output_type": "execute_result"
    }
   ],
   "source": [
    "type(inactives)"
   ]
  },
  {
   "cell_type": "markdown",
   "id": "9277f529",
   "metadata": {},
   "source": [
    "## View data with the name"
   ]
  },
  {
   "cell_type": "code",
   "execution_count": null,
   "id": "8965f173",
   "metadata": {},
   "outputs": [],
   "source": [
    "# input name ex. albuterol\n",
    "name_raw_temp = str(input(\"Enter name: \"))\n",
    "drug_name = name_raw_temp.lower().replace(' ', '')\n",
    "\n",
    "# view data\n",
    "import os\n",
    "drug_name_csv = drug_name + \"_inactive_ingredient_list.txt\"\n",
    "drug_name_csv_path = os.path.join('iigdata', drug_name_csv)\n",
    "if os.path.isfile(drug_name_csv_path):\n",
    "    import pandas as pd\n",
    "    pd.set_option(\"display.max_rows\", None, \"display.max_columns\", None)\n",
    "    df_iig = pd.read_csv(drug_name_csv_path)\n",
    "else:\n",
    "    print(f'{drug_name_temp} is not on Dailymed!')\n",
    "df_iig"
   ]
  },
  {
   "cell_type": "markdown",
   "id": "83fbe6d3",
   "metadata": {},
   "source": [
    "## View Pivot - Dev"
   ]
  },
  {
   "cell_type": "code",
   "execution_count": null,
   "id": "596233f9",
   "metadata": {},
   "outputs": [],
   "source": [
    "df_iig.pivot_table(values='MainDrug', index='NDC', columns='Inactive', aggfunc=pd.Series.nunique)"
   ]
  },
  {
   "cell_type": "code",
   "execution_count": null,
   "id": "334ea061",
   "metadata": {},
   "outputs": [],
   "source": [
    "df_iig.pivot_table(values='Inactive', index='NDC', columns='MainDrug', aggfunc=pd.Series.nunique)"
   ]
  },
  {
   "cell_type": "code",
   "execution_count": null,
   "id": "115549a4",
   "metadata": {},
   "outputs": [],
   "source": [
    "df_iig.pivot_table(values='Inactive', index='MainDrug', columns='Formulation', aggfunc=pd.Series.nunique)"
   ]
  },
  {
   "cell_type": "markdown",
   "id": "395ee8aa",
   "metadata": {},
   "source": [
    "## Wordcloud -Dev"
   ]
  },
  {
   "cell_type": "code",
   "execution_count": null,
   "id": "b59323e3",
   "metadata": {},
   "outputs": [],
   "source": [
    "!pip install wordcloud"
   ]
  },
  {
   "cell_type": "code",
   "execution_count": null,
   "id": "9276f69c",
   "metadata": {},
   "outputs": [],
   "source": [
    "!git clone https://github.com/amueller/word_cloud.git"
   ]
  },
  {
   "cell_type": "code",
   "execution_count": null,
   "id": "3df7b68b",
   "metadata": {},
   "outputs": [],
   "source": [
    "!cd word_cloud\n",
    "!pip install ."
   ]
  },
  {
   "cell_type": "code",
   "execution_count": null,
   "id": "3d004632",
   "metadata": {},
   "outputs": [],
   "source": [
    "import matplotlib.pyplot as plt\n",
    "from wordcloud import WordCloud, STOPWORDS\n",
    "\n",
    "text = df_iig['Inactive'].values \n",
    "\n",
    "wordcloud = WordCloud().generate(str(text))\n",
    "\n",
    "plt.imshow(wordcloud)\n",
    "plt.axis(\"off\")\n",
    "plt.show()"
   ]
  },
  {
   "cell_type": "markdown",
   "id": "2725456e",
   "metadata": {},
   "source": [
    "## Pubmed Data"
   ]
  },
  {
   "cell_type": "code",
   "execution_count": 56,
   "id": "1183a3cf",
   "metadata": {
    "scrolled": false
   },
   "outputs": [
    {
     "name": "stdout",
     "output_type": "stream",
     "text": [
      "Data from PubChem for Drug Name: dexamethasone \n",
      "CID: 5743\n",
      "Isomeric Simles: C[C@@H]1C[C@H]2[C@@H]3CCC4=CC(=O)C=C[C@@]4([C@]3([C@H](C[C@@]2([C@]1(C(=O)CO)O)C)O)F)C\n",
      "IUPAC Name: (8S,9R,10S,11S,13S,14S,16R,17R)-9-fluoro-11,17-dihydroxy-17-(2-hydroxyacetyl)-10,13,16-trimethyl-6,7,8,11,12,14,15,16-octahydrocyclopenta[a]phenanthren-3-one\n",
      "Molecular formula: C22H29FO5\n",
      "Molecular weight: 392.5\n",
      "logP: 1.9\n"
     ]
    }
   ],
   "source": [
    "pa.get_pubmed_data()"
   ]
  },
  {
   "cell_type": "markdown",
   "id": "1bc1a716",
   "metadata": {},
   "source": [
    "## Open linklist - Dev"
   ]
  },
  {
   "cell_type": "code",
   "execution_count": null,
   "id": "5128c3be",
   "metadata": {},
   "outputs": [],
   "source": [
    "import pharmapp as pa\n",
    "pa.open_linklist()"
   ]
  },
  {
   "cell_type": "code",
   "execution_count": null,
   "id": "c1505aaf",
   "metadata": {},
   "outputs": [],
   "source": []
  },
  {
   "cell_type": "markdown",
   "id": "62831f04",
   "metadata": {},
   "source": [
    "## Join all data iig"
   ]
  },
  {
   "cell_type": "code",
   "execution_count": 28,
   "id": "260fd444",
   "metadata": {},
   "outputs": [],
   "source": [
    "import os\n",
    "import pandas as pd\n",
    "from glob import glob\n",
    "all_files = glob(os.path.join('iigdata', \"*_inactive_ingredient_list.txt\"))\n",
    "ind_df = (pd.read_csv(f, sep=',') for f in all_files)\n",
    "df = pd.concat(ind_df, ignore_index=True)"
   ]
  },
  {
   "cell_type": "code",
   "execution_count": 31,
   "id": "7cd43b15",
   "metadata": {},
   "outputs": [
    {
     "name": "stdout",
     "output_type": "stream",
     "text": [
      "<class 'pandas.core.frame.DataFrame'>\n",
      "RangeIndex: 142674 entries, 0 to 142673\n",
      "Data columns (total 5 columns):\n",
      " #   Column       Non-Null Count   Dtype \n",
      "---  ------       --------------   ----- \n",
      " 0   MainDrug     142674 non-null  object\n",
      " 1   NDC          142674 non-null  object\n",
      " 2   Strength     142674 non-null  object\n",
      " 3   Formulation  142674 non-null  object\n",
      " 4   Inactive     142674 non-null  object\n",
      "dtypes: object(5)\n",
      "memory usage: 5.4+ MB\n"
     ]
    }
   ],
   "source": [
    "df.info()"
   ]
  },
  {
   "cell_type": "markdown",
   "id": "ec971902",
   "metadata": {},
   "source": [
    "## view exist data iig"
   ]
  },
  {
   "cell_type": "code",
   "execution_count": 33,
   "id": "238884e4",
   "metadata": {},
   "outputs": [],
   "source": [
    "import os\n",
    "import pandas as pd\n",
    "from glob import glob\n",
    "all_files = glob(os.path.join('iigdata', \"*_inactive_ingredient_list.txt\"))"
   ]
  },
  {
   "cell_type": "markdown",
   "id": "22ee6526",
   "metadata": {},
   "source": [
    "## zip iig data - dev"
   ]
  },
  {
   "cell_type": "code",
   "execution_count": null,
   "id": "2ff5738e",
   "metadata": {},
   "outputs": [],
   "source": []
  },
  {
   "cell_type": "markdown",
   "id": "3a7dd16d",
   "metadata": {},
   "source": [
    "## dataset drug"
   ]
  },
  {
   "cell_type": "code",
   "execution_count": 55,
   "id": "34bfca24",
   "metadata": {},
   "outputs": [],
   "source": [
    "import pandas as pd\n",
    "bnf_drug_classifications = pd.read_csv('E:/DD-2022/emc-scrapping/COVIDENCE-survey/data/bnf_drug_classifications.csv')\n",
    "df = pd.read_csv('E:/DD/biostack/discover/2019-nCov/CGVAE/250k_rndm_zinc_drugs_clean_3.csv')"
   ]
  },
  {
   "cell_type": "code",
   "execution_count": 56,
   "id": "26d0dd80",
   "metadata": {},
   "outputs": [
    {
     "data": {
      "text/html": [
       "<div>\n",
       "<style scoped>\n",
       "    .dataframe tbody tr th:only-of-type {\n",
       "        vertical-align: middle;\n",
       "    }\n",
       "\n",
       "    .dataframe tbody tr th {\n",
       "        vertical-align: top;\n",
       "    }\n",
       "\n",
       "    .dataframe thead th {\n",
       "        text-align: right;\n",
       "    }\n",
       "</style>\n",
       "<table border=\"1\" class=\"dataframe\">\n",
       "  <thead>\n",
       "    <tr style=\"text-align: right;\">\n",
       "      <th></th>\n",
       "      <th>smiles</th>\n",
       "      <th>logP</th>\n",
       "      <th>qed</th>\n",
       "      <th>SAS</th>\n",
       "    </tr>\n",
       "  </thead>\n",
       "  <tbody>\n",
       "    <tr>\n",
       "      <th>0</th>\n",
       "      <td>CC(C)(C)c1ccc2occ(CC(=O)Nc3ccccc3F)c2c1\\r\\n</td>\n",
       "      <td>5.05060</td>\n",
       "      <td>0.702012</td>\n",
       "      <td>2.084095</td>\n",
       "    </tr>\n",
       "    <tr>\n",
       "      <th>1</th>\n",
       "      <td>C[C@@H]1CC(Nc2cncc(-c3nncn3C)c2)C[C@@H](C)C1\\r\\n</td>\n",
       "      <td>3.11370</td>\n",
       "      <td>0.928975</td>\n",
       "      <td>3.432004</td>\n",
       "    </tr>\n",
       "    <tr>\n",
       "      <th>2</th>\n",
       "      <td>N#Cc1ccc(-c2ccc(O[C@@H](C(=O)N3CCCC3)c3ccccc3)...</td>\n",
       "      <td>4.96778</td>\n",
       "      <td>0.599682</td>\n",
       "      <td>2.470633</td>\n",
       "    </tr>\n",
       "    <tr>\n",
       "      <th>3</th>\n",
       "      <td>CCOC(=O)[C@@H]1CCCN(C(=O)c2nc(-c3ccc(C)cc3)n3c...</td>\n",
       "      <td>4.00022</td>\n",
       "      <td>0.690944</td>\n",
       "      <td>2.822753</td>\n",
       "    </tr>\n",
       "    <tr>\n",
       "      <th>4</th>\n",
       "      <td>N#CC1=C(SCC(=O)Nc2cccc(Cl)c2)N=C([O-])[C@H](C#...</td>\n",
       "      <td>3.60956</td>\n",
       "      <td>0.789027</td>\n",
       "      <td>4.035182</td>\n",
       "    </tr>\n",
       "    <tr>\n",
       "      <th>...</th>\n",
       "      <td>...</td>\n",
       "      <td>...</td>\n",
       "      <td>...</td>\n",
       "      <td>...</td>\n",
       "    </tr>\n",
       "    <tr>\n",
       "      <th>249450</th>\n",
       "      <td>CC1(C)CC[C@H](CNC(=O)Cn2ncc3ccccc3c2=O)c2ccccc...</td>\n",
       "      <td>3.36790</td>\n",
       "      <td>0.745901</td>\n",
       "      <td>2.900726</td>\n",
       "    </tr>\n",
       "    <tr>\n",
       "      <th>249451</th>\n",
       "      <td>Cn1ccnc1C(=O)c1ccc(NC(=O)C2CCN(C(=O)C(C)(C)C)C...</td>\n",
       "      <td>2.87430</td>\n",
       "      <td>0.799426</td>\n",
       "      <td>2.326627</td>\n",
       "    </tr>\n",
       "    <tr>\n",
       "      <th>249452</th>\n",
       "      <td>Cc1ccc(NC(=O)C(=O)N(C)Cc2ccccc2)c(C)c1\\r\\n</td>\n",
       "      <td>2.90054</td>\n",
       "      <td>0.878086</td>\n",
       "      <td>1.840642</td>\n",
       "    </tr>\n",
       "    <tr>\n",
       "      <th>249453</th>\n",
       "      <td>Cc1cc(C(=O)Nc2ccc(OCC(N)=O)cc2)c(C)n1C1CC1\\r\\n</td>\n",
       "      <td>2.55624</td>\n",
       "      <td>0.852917</td>\n",
       "      <td>2.024638</td>\n",
       "    </tr>\n",
       "    <tr>\n",
       "      <th>249454</th>\n",
       "      <td>O=C(CC(c1ccccc1)c1ccccc1)N1CCN(S(=O)(=O)c2cccc...</td>\n",
       "      <td>3.64990</td>\n",
       "      <td>0.370287</td>\n",
       "      <td>2.214249</td>\n",
       "    </tr>\n",
       "  </tbody>\n",
       "</table>\n",
       "<p>249455 rows × 4 columns</p>\n",
       "</div>"
      ],
      "text/plain": [
       "                                                   smiles     logP       qed  \\\n",
       "0             CC(C)(C)c1ccc2occ(CC(=O)Nc3ccccc3F)c2c1\\r\\n  5.05060  0.702012   \n",
       "1        C[C@@H]1CC(Nc2cncc(-c3nncn3C)c2)C[C@@H](C)C1\\r\\n  3.11370  0.928975   \n",
       "2       N#Cc1ccc(-c2ccc(O[C@@H](C(=O)N3CCCC3)c3ccccc3)...  4.96778  0.599682   \n",
       "3       CCOC(=O)[C@@H]1CCCN(C(=O)c2nc(-c3ccc(C)cc3)n3c...  4.00022  0.690944   \n",
       "4       N#CC1=C(SCC(=O)Nc2cccc(Cl)c2)N=C([O-])[C@H](C#...  3.60956  0.789027   \n",
       "...                                                   ...      ...       ...   \n",
       "249450  CC1(C)CC[C@H](CNC(=O)Cn2ncc3ccccc3c2=O)c2ccccc...  3.36790  0.745901   \n",
       "249451  Cn1ccnc1C(=O)c1ccc(NC(=O)C2CCN(C(=O)C(C)(C)C)C...  2.87430  0.799426   \n",
       "249452         Cc1ccc(NC(=O)C(=O)N(C)Cc2ccccc2)c(C)c1\\r\\n  2.90054  0.878086   \n",
       "249453     Cc1cc(C(=O)Nc2ccc(OCC(N)=O)cc2)c(C)n1C1CC1\\r\\n  2.55624  0.852917   \n",
       "249454  O=C(CC(c1ccccc1)c1ccccc1)N1CCN(S(=O)(=O)c2cccc...  3.64990  0.370287   \n",
       "\n",
       "             SAS  \n",
       "0       2.084095  \n",
       "1       3.432004  \n",
       "2       2.470633  \n",
       "3       2.822753  \n",
       "4       4.035182  \n",
       "...          ...  \n",
       "249450  2.900726  \n",
       "249451  2.326627  \n",
       "249452  1.840642  \n",
       "249453  2.024638  \n",
       "249454  2.214249  \n",
       "\n",
       "[249455 rows x 4 columns]"
      ]
     },
     "execution_count": 56,
     "metadata": {},
     "output_type": "execute_result"
    }
   ],
   "source": [
    "df"
   ]
  },
  {
   "cell_type": "markdown",
   "id": "d7fc918c",
   "metadata": {},
   "source": [
    "## Extract word from text file"
   ]
  },
  {
   "cell_type": "code",
   "execution_count": 60,
   "id": "9501503c",
   "metadata": {},
   "outputs": [],
   "source": [
    "import re\n",
    "with open('drugname/injection_drug.txt') as f, open('drugname/injection_drug_word_list.txt', 'a') as f1:\n",
    "   f1.write('\\n'.join(set(re.findall(\"[a-zA-Z\\-\\.'/]+\", f.read()))))"
   ]
  },
  {
   "cell_type": "code",
   "execution_count": 61,
   "id": "4da35019",
   "metadata": {},
   "outputs": [],
   "source": [
    "import re\n",
    "with open('drugname/injection_drug.txt') as f, open('drugname/injection_drug_word_list.txt', 'a') as f1:\n",
    "   f1.write('\\n'.join(set(re.findall(\"(?<!\\S)@?(?=[A-Za-z\\d]{10,14}\\b)[A-Za-z]*\\d[A-Za-z\\d]*\", f.read()))))"
   ]
  },
  {
   "cell_type": "markdown",
   "id": "2a714179",
   "metadata": {},
   "source": [
    "## Convert column to row"
   ]
  },
  {
   "cell_type": "code",
   "execution_count": null,
   "id": "d6a05f89",
   "metadata": {},
   "outputs": [],
   "source": [
    "import pandas as pd\n",
    "\n",
    "df = pd.DataFrame({\n",
    "    'labels': ['a', 'a', 'a', 'b', 'b'],\n",
    "    'pathes' : [1, 2, 3, 4, 5]\n",
    "})\n",
    "\n",
    "labels = df['labels'].unique()\n",
    "new_cols = []\n",
    "for label in labels:\n",
    "    new_cols.append(df['pathes'].where(df['labels'] == label).dropna().reset_index(drop=True))\n",
    "df_final = pd.concat(new_cols, axis=1)\n",
    "\n",
    "print(df_final)"
   ]
  },
  {
   "cell_type": "markdown",
   "id": "c9176aa1",
   "metadata": {},
   "source": [
    "## join csv"
   ]
  },
  {
   "cell_type": "code",
   "execution_count": null,
   "id": "38b79590",
   "metadata": {},
   "outputs": [],
   "source": [
    "# importing pandas\n",
    "import pandas as pd\n",
    "\n",
    "# merging two csv files\n",
    "df = pd.concat(\n",
    "    map(pd.read_csv, ['chunk1_selected.csv', 'chunk2_selected.csv','chunk3_selected.csv','chunk4_selected.csv',\n",
    "                      'chunk5_selected.csv','chunk6_selected.csv']), ignore_index=True)\n",
    "\n",
    "df.to_csv('final_dataset_drugs.csv')"
   ]
  },
  {
   "cell_type": "code",
   "execution_count": null,
   "id": "0f37d113",
   "metadata": {},
   "outputs": [],
   "source": []
  },
  {
   "cell_type": "code",
   "execution_count": null,
   "id": "3799e517",
   "metadata": {},
   "outputs": [],
   "source": [
    "import os\n",
    "os.sys.path.append('..')"
   ]
  },
  {
   "cell_type": "markdown",
   "id": "bdac494d",
   "metadata": {},
   "source": [
    "## google-image-finder"
   ]
  },
  {
   "cell_type": "code",
   "execution_count": null,
   "id": "90c8a697",
   "metadata": {},
   "outputs": [],
   "source": [
    "import src.google_image_finder as gif"
   ]
  },
  {
   "cell_type": "code",
   "execution_count": 3,
   "id": "e6ee70db",
   "metadata": {},
   "outputs": [
    {
     "name": "stdout",
     "output_type": "stream",
     "text": [
      "Search query: nexium\n",
      "Number of images: 10\n"
     ]
    }
   ],
   "source": [
    "from bs4 import BeautifulSoup\n",
    "from urllib.request import urlopen\n",
    "import requests\n",
    "import os\n",
    "\n",
    "query = input(\"Search query: \")\n",
    "imgs = int(input(\"Number of images: \"))\n",
    "url = f\"https://www.google.com/search?q={query}&tbm=isch&tbs=isz:l\"\n",
    "\n",
    "if os.path.exists(f\"images_{query}\"):\n",
    "    for filename in os.listdir(f\"images_{query}\"):\n",
    "        os.remove(os.path.join(f\"images_{query}\", filename))\n",
    "    os.rmdir(f\"images_{query}\")\n",
    "os.mkdir(f\"images_{query}\")\n",
    "\n",
    "res = BeautifulSoup(requests.get(url).text)\n",
    "\n",
    "i = 0\n",
    "for img in res.find_all(\"img\"):\n",
    "    if i == imgs:\n",
    "        break\n",
    "    src = img.get(\"src\")\n",
    "    ext = \"jpg\"\n",
    "    filename = os.path.join(f\"images_{query}\",\n",
    "    f\"{'0'*(2-len(str(i)))}{str(i)}\"+\".\"+ext)\n",
    "    try:\n",
    "        data = urlopen(src).read()\n",
    "        open(filename, mode='x').close()\n",
    "        with open(filename, mode='wb') as fl:\n",
    "            fl.write(data)\n",
    "    except Exception as e:\n",
    "        i -= 1\n",
    "    i += 1"
   ]
  },
  {
   "cell_type": "markdown",
   "id": "304a9196",
   "metadata": {},
   "source": [
    "## url2pdf"
   ]
  },
  {
   "cell_type": "code",
   "execution_count": null,
   "id": "5a9b19a8",
   "metadata": {},
   "outputs": [],
   "source": [
    "from pathlib import Path\n",
    "import os\n",
    "\n",
    "fileloc = Path(__file__).parent\n",
    "\n",
    "def get(url, dir=os.path.join(fileloc, \"fromURL\"),\n",
    "        filename=\"target\", ext=\"pdf\"):\n",
    "    from urllib.request import urlopen\n",
    "    data = urlopen(url).read()\n",
    "\n",
    "    if not os.path.exists(dir):\n",
    "        raise OSError(\"Target directory does not exist\")\n",
    "\n",
    "    file = f\"{filename}.{ext}\"\n",
    "    file = os.path.join(dir, file)\n",
    "\n",
    "    if not os.path.exists(file):\n",
    "        open(file, mode='x').close()\n",
    "    with open(file, mode=\"wb\") as fl:\n",
    "        fl.write(data)\n",
    "\n",
    "if __name__ == \"__main__\":\n",
    "    ext = input(\"File extension: \")\n",
    "    link = input(\"URL: \")\n",
    "    filename = input(\"Filename: \")\n",
    "    get(link, filename=filename, ext=ext)"
   ]
  }
 ],
 "metadata": {
  "kernelspec": {
   "display_name": "Python 3 (ipykernel)",
   "language": "python",
   "name": "python3"
  },
  "language_info": {
   "codemirror_mode": {
    "name": "ipython",
    "version": 3
   },
   "file_extension": ".py",
   "mimetype": "text/x-python",
   "name": "python",
   "nbconvert_exporter": "python",
   "pygments_lexer": "ipython3",
   "version": "3.9.6"
  }
 },
 "nbformat": 4,
 "nbformat_minor": 5
}
