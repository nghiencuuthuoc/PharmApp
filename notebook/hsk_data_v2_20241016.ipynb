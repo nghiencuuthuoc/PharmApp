{
 "cells": [
  {
   "cell_type": "markdown",
   "id": "fbb769f4-8b10-421a-96b3-a89dd69d360f",
   "metadata": {},
   "source": [
    "<a href=\"https://github.com/nghiencuuthuoc/PharmApp/PharmApp.ipynb\" target=\"_parent\"><img src=\"https://colab.research.google.com/assets/colab-badge.svg\" alt=\"Open In Colab\"/></a>\n",
    "\n",
    "![](./images/PharmApp-logo.png)\n",
    "# PharmApp - Drug Discovery and Development\n",
    "Copyright 2024 | Nghiên Cứu Thuốc | RD_Pharma_Plus\n",
    "\n",
    "Email: nghiencuuthuoc@gmail.com | Web: nghiencuuthuoc.com | FB: facebook.com/nghiencuuthuoc | YouTube: youtube.com/@nghiencuuthuoc \n",
    "\n",
    "LinkedIN: linkedin.com/in/nghiencuuthuoc | Zalo: +84888999311 | WhatsAapp: +84888999311 | Twitter: x.com/nghiencuuthuoc "
   ]
  },
  {
   "cell_type": "markdown",
   "id": "cc54a6cd-7c0e-4940-81a8-73eb4ac038f5",
   "metadata": {},
   "source": [
    "# Cosmeceutical Data Analysis  "
   ]
  },
  {
   "cell_type": "markdown",
   "id": "87a471b6-3579-414d-b4ef-d73f2e88c095",
   "metadata": {},
   "source": [
    "## Tìm các hoạt chất đang trending trong mỹ phẩm với công cụ tìm kiếm phân tích dữ liệu mỹ phẩm"
   ]
  },
  {
   "cell_type": "code",
   "execution_count": 8,
   "id": "0b8b4cc1-681d-4129-b05f-cae65b6b06d2",
   "metadata": {},
   "outputs": [],
   "source": [
    "import sys\n",
    "sys.path.append('..')\n",
    "import os\n",
    "os.getcwd()\n",
    "import warnings\n",
    "warnings.simplefilter(action='ignore', category=FutureWarning)"
   ]
  },
  {
   "cell_type": "code",
   "execution_count": 9,
   "id": "8ba60d75-80d3-4eda-a892-1d229c517afc",
   "metadata": {},
   "outputs": [],
   "source": [
    "import pandas as pd\n",
    "import numpy as np\n",
    "# pd.set_option(\"display.max_rows\", None, \"display.max_columns\", None)"
   ]
  },
  {
   "cell_type": "code",
   "execution_count": 22,
   "id": "21b8cae3-8911-451e-9942-aa9f03d8eef5",
   "metadata": {},
   "outputs": [],
   "source": [
    "def search(df: pd.DataFrame, substring: str, case: bool = False) -> pd.DataFrame: \n",
    "    mask = np.column_stack([df[col].astype(str).str.contains(substring.lower(), case=case, na=False) for col in df])\n",
    "    return df.loc[mask.any(axis=1)]"
   ]
  },
  {
   "cell_type": "code",
   "execution_count": 10,
   "id": "a70a7e58-1933-4b14-9e40-de4912d1a48f",
   "metadata": {},
   "outputs": [],
   "source": [
    " HASAKI = '../hasaki_data'"
   ]
  },
  {
   "cell_type": "code",
   "execution_count": 18,
   "id": "a59d901f-a702-4bff-a690-e25ca8861d73",
   "metadata": {},
   "outputs": [
    {
     "name": "stdout",
     "output_type": "stream",
     "text": [
      "<class 'pandas.core.frame.DataFrame'>\n",
      "RangeIndex: 6432 entries, 0 to 6431\n",
      "Data columns (total 8 columns):\n",
      " #   Column      Non-Null Count  Dtype \n",
      "---  ------      --------------  ----- \n",
      " 0   Unnamed: 0  6432 non-null   object\n",
      " 1   Thông tin   6252 non-null   object\n",
      " 2   Thông số    6321 non-null   object\n",
      " 3   Thành phần  6321 non-null   object\n",
      " 4   Cách dùng   6321 non-null   object\n",
      " 5   Đánh giá    6431 non-null   object\n",
      " 6   Hỏi đáp     5931 non-null   object\n",
      " 7   URL         6431 non-null   object\n",
      "dtypes: object(8)\n",
      "memory usage: 402.1+ KB\n"
     ]
    }
   ],
   "source": [
    "df_hsk_v1 = pd.read_csv( HASAKI + \"/hsk_data_v1.csv\", on_bad_lines='skip', low_memory=False)\n",
    "df_hsk.info()"
   ]
  },
  {
   "cell_type": "code",
   "execution_count": 27,
   "id": "5219b08f-a9d1-46f7-af62-ad2641891734",
   "metadata": {},
   "outputs": [
    {
     "name": "stdout",
     "output_type": "stream",
     "text": [
      "<class 'pandas.core.frame.DataFrame'>\n",
      "RangeIndex: 80 entries, 0 to 79\n",
      "Data columns (total 12 columns):\n",
      " #   Column                  Non-Null Count  Dtype \n",
      "---  ------                  --------------  ----- \n",
      " 0   Unnamed: 0              80 non-null     int64 \n",
      " 1   Mã sản phẩm             80 non-null     int64 \n",
      " 2   Tên sản phẩm            80 non-null     object\n",
      " 3   Giá                     80 non-null     int64 \n",
      " 4   Số công bố với Bộ Y Tế  10 non-null     object\n",
      " 5   Thông tin               80 non-null     object\n",
      " 6   Thông số                80 non-null     object\n",
      " 7   Thành phần              80 non-null     object\n",
      " 8   Cách dùng               80 non-null     object\n",
      " 9   Đánh giá                80 non-null     object\n",
      " 10  Hỏi đáp                 80 non-null     object\n",
      " 11  URL                     80 non-null     object\n",
      "dtypes: int64(3), object(9)\n",
      "memory usage: 7.6+ KB\n"
     ]
    }
   ],
   "source": [
    "df_hsk_80sp = pd.read_csv( HASAKI + \"/thong_tin_san_pham_3-2_80.csv\", on_bad_lines='skip', low_memory=False)\n",
    "df_hsk_80sp.info()"
   ]
  },
  {
   "cell_type": "code",
   "execution_count": 28,
   "id": "26b6f51c-3719-40c4-89c7-fd48fcc4cb30",
   "metadata": {},
   "outputs": [
    {
     "name": "stderr",
     "output_type": "stream",
     "text": [
      "PandasGUI INFO — pandasgui.gui — Opening PandasGUI\n"
     ]
    },
    {
     "data": {
      "text/plain": [
       "<pandasgui.gui.PandasGui at 0x16fa43c7ec0>"
      ]
     },
     "execution_count": 28,
     "metadata": {},
     "output_type": "execute_result"
    }
   ],
   "source": [
    "df_hsk_80sp = df_hsk_80sp.drop([\"Unnamed: 0\"], axis=1)\n",
    "# df_hsk_80sp\n",
    "from pandasgui import show\n",
    "show(df_hsk_80sp)"
   ]
  },
  {
   "cell_type": "code",
   "execution_count": null,
   "id": "ffcce4ac-d6f1-4c7f-a4c7-4ce46d30a5f6",
   "metadata": {},
   "outputs": [],
   "source": [
    "ingredient = str(input(\"Enter drug name: \"))\n",
    "df_ingredient = search(df_hsk_80sp, ingredient)\n",
    "df_ingredient.head()"
   ]
  },
  {
   "cell_type": "code",
   "execution_count": 29,
   "id": "5163f6bb-9167-4ea3-a18d-31edb3a8038a",
   "metadata": {},
   "outputs": [
    {
     "name": "stdout",
     "output_type": "stream",
     "text": [
      "<class 'pandas.core.frame.DataFrame'>\n",
      "RangeIndex: 10019 entries, 0 to 10018\n",
      "Data columns (total 12 columns):\n",
      " #   Column                  Non-Null Count  Dtype \n",
      "---  ------                  --------------  ----- \n",
      " 0   Unnamed: 0              10019 non-null  object\n",
      " 1   Mã sản phẩm             10018 non-null  object\n",
      " 2   Tên sản phẩm            10018 non-null  object\n",
      " 3   Giá                     10018 non-null  object\n",
      " 4   Số công bố với Bộ Y Tế  2181 non-null   object\n",
      " 5   Thông tin               10018 non-null  object\n",
      " 6   Thông số                9984 non-null   object\n",
      " 7   Thành phần              9984 non-null   object\n",
      " 8   Cách dùng               9984 non-null   object\n",
      " 9   Đánh giá                10018 non-null  object\n",
      " 10  Hỏi đáp                 9974 non-null   object\n",
      " 11  URL                     10018 non-null  object\n",
      "dtypes: object(12)\n",
      "memory usage: 939.4+ KB\n"
     ]
    }
   ],
   "source": [
    "df_hsk = pd.read_csv( HASAKI + \"/hsk_data_v2_20241016.csv\", on_bad_lines='skip', low_memory=False)\n",
    "df_hsk.info()"
   ]
  },
  {
   "cell_type": "code",
   "execution_count": 30,
   "id": "ad8de4ea-247f-4c16-9036-e222858ed013",
   "metadata": {},
   "outputs": [],
   "source": [
    "df_hsk = df_hsk.drop([\"Unnamed: 0\"], axis=1)"
   ]
  },
  {
   "cell_type": "code",
   "execution_count": 31,
   "id": "3b5e5218-e2db-459a-8419-6f0ed00f4476",
   "metadata": {},
   "outputs": [
    {
     "name": "stderr",
     "output_type": "stream",
     "text": [
      "PandasGUI INFO — pandasgui.gui — Opening PandasGUI\n"
     ]
    },
    {
     "data": {
      "text/plain": [
       "<pandasgui.gui.PandasGui at 0x16fc5c83650>"
      ]
     },
     "execution_count": 31,
     "metadata": {},
     "output_type": "execute_result"
    }
   ],
   "source": [
    "from pandasgui import show\n",
    "show(df_hsk)"
   ]
  },
  {
   "cell_type": "code",
   "execution_count": 13,
   "id": "420ffe59-968c-4e18-aece-05cacd0d5467",
   "metadata": {},
   "outputs": [],
   "source": []
  },
  {
   "cell_type": "raw",
   "id": "0c3efb7c-d707-4d85-a80e-84bbaa13bc1e",
   "metadata": {},
   "source": [
    "ingredient = str(input(\"Enter drug name: \"))\n",
    "# ingredient = 'Hexanediol'"
   ]
  },
  {
   "cell_type": "raw",
   "id": "e21b7b6f-9818-4d3a-ba1e-52e7ebd7e576",
   "metadata": {},
   "source": [
    "df_ingredient = search(df_hsk, ingredient)"
   ]
  },
  {
   "cell_type": "raw",
   "id": "b38bab71-59d5-4cca-9b0f-6347d86e6f25",
   "metadata": {},
   "source": [
    "from pandasgui import show\n",
    "show(df_ingredient)"
   ]
  },
  {
   "cell_type": "code",
   "execution_count": 18,
   "id": "f1604f04-bc8c-42ce-b768-99d1ca90bcd4",
   "metadata": {
    "scrolled": true
   },
   "outputs": [],
   "source": [
    "# df_ingredient.info()"
   ]
  },
  {
   "cell_type": "code",
   "execution_count": 16,
   "id": "ce44876c-6469-4814-b232-5f709ea77aad",
   "metadata": {},
   "outputs": [
    {
     "name": "stdin",
     "output_type": "stream",
     "text": [
      "Enter drug name:  RejuveNAD\n"
     ]
    },
    {
     "data": {
      "text/html": [
       "<div>\n",
       "<style scoped>\n",
       "    .dataframe tbody tr th:only-of-type {\n",
       "        vertical-align: middle;\n",
       "    }\n",
       "\n",
       "    .dataframe tbody tr th {\n",
       "        vertical-align: top;\n",
       "    }\n",
       "\n",
       "    .dataframe thead th {\n",
       "        text-align: right;\n",
       "    }\n",
       "</style>\n",
       "<table border=\"1\" class=\"dataframe\">\n",
       "  <thead>\n",
       "    <tr style=\"text-align: right;\">\n",
       "      <th></th>\n",
       "      <th>Mã sản phẩm</th>\n",
       "      <th>Tên sản phẩm</th>\n",
       "      <th>Giá</th>\n",
       "      <th>Số công bố với Bộ Y Tế</th>\n",
       "      <th>Thông tin</th>\n",
       "      <th>Thông số</th>\n",
       "      <th>Thành phần</th>\n",
       "      <th>Cách dùng</th>\n",
       "      <th>Đánh giá</th>\n",
       "      <th>Hỏi đáp</th>\n",
       "      <th>URL</th>\n",
       "    </tr>\n",
       "  </thead>\n",
       "  <tbody>\n",
       "  </tbody>\n",
       "</table>\n",
       "</div>"
      ],
      "text/plain": [
       "Empty DataFrame\n",
       "Columns: [Mã sản phẩm, Tên sản phẩm, Giá, Số công bố với Bộ Y Tế, Thông tin, Thông số, Thành phần, Cách dùng, Đánh giá, Hỏi đáp, URL]\n",
       "Index: []"
      ]
     },
     "execution_count": 16,
     "metadata": {},
     "output_type": "execute_result"
    }
   ],
   "source": [
    "ingredient = str(input(\"Enter drug name: \"))\n",
    "df_ingredient = search(df_hsk, ingredient)\n",
    "df_ingredient.head()"
   ]
  },
  {
   "cell_type": "code",
   "execution_count": null,
   "id": "0a47dab2-9a4c-4050-a3d8-e11524f0e990",
   "metadata": {},
   "outputs": [],
   "source": [
    "show(df_ingredient)"
   ]
  },
  {
   "cell_type": "markdown",
   "id": "5c040074-be06-4554-be38-140799183799",
   "metadata": {},
   "source": [
    "## Thank you"
   ]
  },
  {
   "cell_type": "code",
   "execution_count": null,
   "id": "4e7d12d6-e5c5-44b3-85b1-25a73ef403b7",
   "metadata": {},
   "outputs": [],
   "source": []
  }
 ],
 "metadata": {
  "kernelspec": {
   "display_name": "Python 3 (ipykernel)",
   "language": "python",
   "name": "python3"
  },
  "language_info": {
   "codemirror_mode": {
    "name": "ipython",
    "version": 3
   },
   "file_extension": ".py",
   "mimetype": "text/x-python",
   "name": "python",
   "nbconvert_exporter": "python",
   "pygments_lexer": "ipython3",
   "version": "3.12.5"
  }
 },
 "nbformat": 4,
 "nbformat_minor": 5
}
