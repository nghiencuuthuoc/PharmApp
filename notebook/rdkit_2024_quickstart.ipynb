{
 "cells": [
  {
   "cell_type": "code",
   "execution_count": 1,
   "id": "9cf1fcb3-d353-4deb-b870-b25f1fe3ce27",
   "metadata": {},
   "outputs": [
    {
     "data": {
      "text/plain": [
       "'2024.03.6'"
      ]
     },
     "execution_count": 1,
     "metadata": {},
     "output_type": "execute_result"
    }
   ],
   "source": [
    "import rdkit\n",
    "rdkit.__version__"
   ]
  },
  {
   "cell_type": "code",
   "execution_count": null,
   "id": "a4d10659-85ae-48e4-b891-4b2a5c62fd25",
   "metadata": {},
   "outputs": [],
   "source": [
    "from rdkit.Chem import PandasTools # some error here"
   ]
  },
  {
   "cell_type": "code",
   "execution_count": null,
   "id": "9c414de7-4619-4c02-855d-4c09a24c6a0c",
   "metadata": {},
   "outputs": [],
   "source": []
  }
 ],
 "metadata": {
  "kernelspec": {
   "display_name": "Python 3 (ipykernel)",
   "language": "python",
   "name": "python3"
  },
  "language_info": {
   "codemirror_mode": {
    "name": "ipython",
    "version": 3
   },
   "file_extension": ".py",
   "mimetype": "text/x-python",
   "name": "python",
   "nbconvert_exporter": "python",
   "pygments_lexer": "ipython3",
   "version": "3.12.5"
  }
 },
 "nbformat": 4,
 "nbformat_minor": 5
}
