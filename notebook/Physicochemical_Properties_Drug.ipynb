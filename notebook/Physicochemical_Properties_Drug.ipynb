{
 "cells": [
  {
   "cell_type": "markdown",
   "id": "0b1196aa-16bd-4cd9-98bd-4255a54e669d",
   "metadata": {},
   "source": [
    "<table align=\"center\">\n",
    "  <td>\n",
    "    <a href=\"https://colab.research.google.com/github/nghiencuuthuoc/PharmApp/PharmApp.ipynb\" target=\"_parent\"><img src=\"https://colab.research.google.com/assets/colab-badge.svg\" alt=\"Open In Colab\"/></a>\n",
    "  </td>\n",
    "  <td>\n",
    "    <a target=\"_blank\" href=\"https://kaggle.com/kernels/welcome?src=https://github.com/nghiencuuthuoc/PharmApp/blob/master/PharmApp.ipynb\"><img src=\"https://kaggle.com/static/images/open-in-kaggle.svg\" /></a>\n",
    "  </td>\n",
    "</table>\n",
    "\n",
    "\n",
    "![](https://raw.githubusercontent.com/nghiencuuthuoc/PharmApp/refs/heads/master/images/PharmApp-logo.png)\n",
    "\n",
    "# PharmApp - Drug Discovery and Development\n",
    "Copyright 2024 | Nghiên Cứu Thuốc | RD_Pharma_Plus\n",
    "\n",
    "Email: nghiencuuthuoc@gmail.com | Web: nghiencuuthuoc.com | FB: facebook.com/nghiencuuthuoc | YouTube: youtube.com/@nghiencuuthuoc \n",
    "\n",
    "LinkedIn: linkedin.com/in/nghiencuuthuoc | Zalo: +84888999311 | WhatsApp: +84888999311 | Twitter: x.com/nghiencuuthuoc "
   ]
  },
  {
   "cell_type": "code",
   "execution_count": 1,
   "id": "b5875d7f-c391-4cc7-8627-88d571b4ee3d",
   "metadata": {},
   "outputs": [
    {
     "data": {
      "text/html": [
       "<style>:root { --jp-notebook-max-width: 100% !important; }</style>"
      ],
      "text/plain": [
       "<IPython.core.display.HTML object>"
      ]
     },
     "metadata": {},
     "output_type": "display_data"
    }
   ],
   "source": [
    "from IPython.display import display, HTML\n",
    "display(HTML(\"<style>:root { --jp-notebook-max-width: 100% !important; }</style>\"))"
   ]
  },
  {
   "cell_type": "code",
   "execution_count": 3,
   "id": "d70683fb-5d1a-4191-a454-49619d3ff0eb",
   "metadata": {},
   "outputs": [],
   "source": [
    "import sys\n",
    "sys.path.append('..')\n",
    "import os\n",
    "os.getcwd()\n",
    "import warnings\n",
    "warnings.simplefilter(action='ignore', category=FutureWarning)"
   ]
  },
  {
   "cell_type": "code",
   "execution_count": 4,
   "id": "6120878e-d6a8-475f-8c4a-d4ceeed9b3a3",
   "metadata": {},
   "outputs": [],
   "source": [
    "import pandas as pd\n",
    "import numpy as np\n",
    "# pd.set_option(\"display.max_rows\", None, \"display.max_columns\", None)"
   ]
  },
  {
   "cell_type": "code",
   "execution_count": 17,
   "id": "f983fb7d-8b49-4f6b-b1d3-e7eebb607882",
   "metadata": {},
   "outputs": [],
   "source": [
    " phys_folder = '../physicochemical/'"
   ]
  },
  {
   "cell_type": "code",
   "execution_count": 18,
   "id": "31988190-0390-4afc-bb4e-8f14f6f6e84f",
   "metadata": {},
   "outputs": [
    {
     "data": {
      "text/html": [
       "<div>\n",
       "<style scoped>\n",
       "    .dataframe tbody tr th:only-of-type {\n",
       "        vertical-align: middle;\n",
       "    }\n",
       "\n",
       "    .dataframe tbody tr th {\n",
       "        vertical-align: top;\n",
       "    }\n",
       "\n",
       "    .dataframe thead th {\n",
       "        text-align: right;\n",
       "    }\n",
       "</style>\n",
       "<table border=\"1\" class=\"dataframe\">\n",
       "  <thead>\n",
       "    <tr style=\"text-align: right;\">\n",
       "      <th></th>\n",
       "      <th>Name</th>\n",
       "      <th>Year</th>\n",
       "      <th>SMILES</th>\n",
       "      <th>MW</th>\n",
       "      <th>Fraction Csp3</th>\n",
       "      <th>#Rotatable bonds</th>\n",
       "      <th>#H-bond acceptors</th>\n",
       "      <th>#H-bond donors</th>\n",
       "      <th>TPSA</th>\n",
       "      <th>XLOGP3</th>\n",
       "    </tr>\n",
       "  </thead>\n",
       "  <tbody>\n",
       "    <tr>\n",
       "      <th>0</th>\n",
       "      <td>ACRISORCIN</td>\n",
       "      <td>0.0</td>\n",
       "      <td>CCCCCCc(ccc(O)c1)c1O</td>\n",
       "      <td>194.27</td>\n",
       "      <td>0.5</td>\n",
       "      <td>5</td>\n",
       "      <td>2</td>\n",
       "      <td>2</td>\n",
       "      <td>40.46</td>\n",
       "      <td>3.45</td>\n",
       "    </tr>\n",
       "    <tr>\n",
       "      <th>1</th>\n",
       "      <td>AMDINOCILLIN</td>\n",
       "      <td>1984.0</td>\n",
       "      <td>CC(C)([C@H]1C([O-])=O)S[C@@H]([C@H]2/N=C/N3CCC...</td>\n",
       "      <td>324.42</td>\n",
       "      <td>0.8</td>\n",
       "      <td>3</td>\n",
       "      <td>4</td>\n",
       "      <td>0</td>\n",
       "      <td>101.34</td>\n",
       "      <td>2.14</td>\n",
       "    </tr>\n",
       "    <tr>\n",
       "      <th>2</th>\n",
       "      <td>BETAZOLE</td>\n",
       "      <td>0.0</td>\n",
       "      <td>NCCc1ccn[nH]1</td>\n",
       "      <td>111.15</td>\n",
       "      <td>0.4</td>\n",
       "      <td>2</td>\n",
       "      <td>2</td>\n",
       "      <td>2</td>\n",
       "      <td>54.7</td>\n",
       "      <td>-0.43</td>\n",
       "    </tr>\n",
       "    <tr>\n",
       "      <th>3</th>\n",
       "      <td>CANDICIDIN</td>\n",
       "      <td>0.0</td>\n",
       "      <td>C[C@@H](C[C@@H](C)[C@H]([C@@H](C)/C=C\\C=C/C=C\\...</td>\n",
       "      <td>1109.30</td>\n",
       "      <td>###</td>\n",
       "      <td>###</td>\n",
       "      <td>###</td>\n",
       "      <td>###</td>\n",
       "      <td>###</td>\n",
       "      <td>###</td>\n",
       "    </tr>\n",
       "    <tr>\n",
       "      <th>4</th>\n",
       "      <td>CERULETIDE</td>\n",
       "      <td>0.0</td>\n",
       "      <td>C[C@H]([C@@H](C(NCC(N[C@@H](Cc1c[nH]c2c1cccc2)...</td>\n",
       "      <td>1350.39</td>\n",
       "      <td>0.41</td>\n",
       "      <td>47</td>\n",
       "      <td>21</td>\n",
       "      <td>15</td>\n",
       "      <td>590.74</td>\n",
       "      <td>-3.03</td>\n",
       "    </tr>\n",
       "    <tr>\n",
       "      <th>...</th>\n",
       "      <td>...</td>\n",
       "      <td>...</td>\n",
       "      <td>...</td>\n",
       "      <td>...</td>\n",
       "      <td>...</td>\n",
       "      <td>...</td>\n",
       "      <td>...</td>\n",
       "      <td>...</td>\n",
       "      <td>...</td>\n",
       "      <td>...</td>\n",
       "    </tr>\n",
       "    <tr>\n",
       "      <th>1666</th>\n",
       "      <td>OTESECONAZOLE</td>\n",
       "      <td>2022.0</td>\n",
       "      <td>OC(Cn1nnnc1)(C(c(cc1)ncc1-c(cc1)ccc1OCC(F)(F)F...</td>\n",
       "      <td>527.39</td>\n",
       "      <td>0.22</td>\n",
       "      <td>9</td>\n",
       "      <td>13</td>\n",
       "      <td>1</td>\n",
       "      <td>85.95</td>\n",
       "      <td>4.18</td>\n",
       "    </tr>\n",
       "    <tr>\n",
       "      <th>1667</th>\n",
       "      <td>PACRITINIB</td>\n",
       "      <td>2022.0</td>\n",
       "      <td>C(COc(cc1)c(COC/C=C/COCc2cc3ccc2)cc1/N=C1/N=CC...</td>\n",
       "      <td>472.58</td>\n",
       "      <td>0.36</td>\n",
       "      <td>4</td>\n",
       "      <td>6</td>\n",
       "      <td>1</td>\n",
       "      <td>71.97</td>\n",
       "      <td>2.59</td>\n",
       "    </tr>\n",
       "    <tr>\n",
       "      <th>1668</th>\n",
       "      <td>TAPINAROF</td>\n",
       "      <td>2022.0</td>\n",
       "      <td>CC(C)c(c(O)cc(/C=C/c1ccccc1)c1)c1O</td>\n",
       "      <td>254.32</td>\n",
       "      <td>0.18</td>\n",
       "      <td>3</td>\n",
       "      <td>2</td>\n",
       "      <td>2</td>\n",
       "      <td>40.46</td>\n",
       "      <td>4.61</td>\n",
       "    </tr>\n",
       "    <tr>\n",
       "      <th>1669</th>\n",
       "      <td>VONOPRAZAN</td>\n",
       "      <td>2022.0</td>\n",
       "      <td>CNCc(cc1-c(cccc2)c2F)cn1S(c1cnccc1)(=O)=O</td>\n",
       "      <td>345.39</td>\n",
       "      <td>0.12</td>\n",
       "      <td>5</td>\n",
       "      <td>5</td>\n",
       "      <td>1</td>\n",
       "      <td>72.37</td>\n",
       "      <td>1.95</td>\n",
       "    </tr>\n",
       "    <tr>\n",
       "      <th>1670</th>\n",
       "      <td>NaN</td>\n",
       "      <td>NaN</td>\n",
       "      <td>NaN</td>\n",
       "      <td>NaN</td>\n",
       "      <td>NaN</td>\n",
       "      <td>NaN</td>\n",
       "      <td>NaN</td>\n",
       "      <td>NaN</td>\n",
       "      <td>NaN</td>\n",
       "      <td>NaN</td>\n",
       "    </tr>\n",
       "  </tbody>\n",
       "</table>\n",
       "<p>1671 rows × 10 columns</p>\n",
       "</div>"
      ],
      "text/plain": [
       "                Name    Year   \\\n",
       "0         ACRISORCIN      0.0   \n",
       "1       AMDINOCILLIN   1984.0   \n",
       "2           BETAZOLE      0.0   \n",
       "3         CANDICIDIN      0.0   \n",
       "4         CERULETIDE      0.0   \n",
       "...               ...     ...   \n",
       "1666   OTESECONAZOLE   2022.0   \n",
       "1667      PACRITINIB   2022.0   \n",
       "1668       TAPINAROF   2022.0   \n",
       "1669      VONOPRAZAN   2022.0   \n",
       "1670              NaN     NaN   \n",
       "\n",
       "                                                 SMILES       MW  \\\n",
       "0                                  CCCCCCc(ccc(O)c1)c1O   194.27   \n",
       "1     CC(C)([C@H]1C([O-])=O)S[C@@H]([C@H]2/N=C/N3CCC...   324.42   \n",
       "2                                         NCCc1ccn[nH]1   111.15   \n",
       "3     C[C@@H](C[C@@H](C)[C@H]([C@@H](C)/C=C\\C=C/C=C\\...  1109.30   \n",
       "4     C[C@H]([C@@H](C(NCC(N[C@@H](Cc1c[nH]c2c1cccc2)...  1350.39   \n",
       "...                                                 ...      ...   \n",
       "1666  OC(Cn1nnnc1)(C(c(cc1)ncc1-c(cc1)ccc1OCC(F)(F)F...   527.39   \n",
       "1667  C(COc(cc1)c(COC/C=C/COCc2cc3ccc2)cc1/N=C1/N=CC...   472.58   \n",
       "1668                 CC(C)c(c(O)cc(/C=C/c1ccccc1)c1)c1O   254.32   \n",
       "1669          CNCc(cc1-c(cccc2)c2F)cn1S(c1cnccc1)(=O)=O   345.39   \n",
       "1670                                                NaN      NaN   \n",
       "\n",
       "     Fraction Csp3 #Rotatable bonds #H-bond acceptors #H-bond donors    TPSA  \\\n",
       "0              0.5                5                 2              2   40.46   \n",
       "1              0.8                3                 4              0  101.34   \n",
       "2              0.4                2                 2              2    54.7   \n",
       "3              ###              ###               ###            ###     ###   \n",
       "4             0.41               47                21             15  590.74   \n",
       "...            ...              ...               ...            ...     ...   \n",
       "1666          0.22                9                13              1   85.95   \n",
       "1667          0.36                4                 6              1   71.97   \n",
       "1668          0.18                3                 2              2   40.46   \n",
       "1669          0.12                5                 5              1   72.37   \n",
       "1670           NaN              NaN               NaN            NaN     NaN   \n",
       "\n",
       "     XLOGP3  \n",
       "0      3.45  \n",
       "1      2.14  \n",
       "2     -0.43  \n",
       "3       ###  \n",
       "4     -3.03  \n",
       "...     ...  \n",
       "1666   4.18  \n",
       "1667   2.59  \n",
       "1668   4.61  \n",
       "1669   1.95  \n",
       "1670    NaN  \n",
       "\n",
       "[1671 rows x 10 columns]"
      ]
     },
     "execution_count": 18,
     "metadata": {},
     "output_type": "execute_result"
    }
   ],
   "source": [
    "drugs_properties_df = pd.read_csv('../physicochemical/' + \"FDA_Drugs_Properties.csv\", low_memory=False)\n",
    "drugs_properties_df"
   ]
  },
  {
   "cell_type": "code",
   "execution_count": 19,
   "id": "e056f4dd-099c-4f45-bf30-a0e2d43de396",
   "metadata": {},
   "outputs": [],
   "source": [
    "def search(df: pd.DataFrame, substring: str, case: bool = False) -> pd.DataFrame: \n",
    "    mask = np.column_stack([df[col].astype(str).str.contains(substring.lower(), case=case, na=False) for col in df])\n",
    "    return df.loc[mask.any(axis=1)]"
   ]
  },
  {
   "cell_type": "code",
   "execution_count": 20,
   "id": "84164cff-f741-4e38-9bfc-c7b4900b404d",
   "metadata": {},
   "outputs": [
    {
     "name": "stdin",
     "output_type": "stream",
     "text": [
      "Enter drug name:  ghfghgf\n"
     ]
    },
    {
     "name": "stderr",
     "output_type": "stream",
     "text": [
      "PandasGUI INFO — pandasgui.gui — Opening PandasGUI\n"
     ]
    },
    {
     "data": {
      "text/plain": [
       "<pandasgui.gui.PandasGui at 0x19a3fe397f0>"
      ]
     },
     "execution_count": 20,
     "metadata": {},
     "output_type": "execute_result"
    }
   ],
   "source": [
    "# ingredient = 'Hexanediol'\n",
    "drug_name = str(input(\"Enter drug name: \")) # PENTAVITIN\n",
    "df_prop = search(drugs_properties_df, drug_name)\n",
    "# df_ingredient.head()\n",
    "from pandasgui import show\n",
    "show(df_prop)"
   ]
  },
  {
   "cell_type": "code",
   "execution_count": 20,
   "id": "cf6a81b6-1bc2-4445-a12e-d892f948e79c",
   "metadata": {},
   "outputs": [],
   "source": [
    "import src.solubility as sol"
   ]
  },
  {
   "cell_type": "code",
   "execution_count": null,
   "id": "9bd1d839-058c-45e2-a23c-c3c8ddf1a7f8",
   "metadata": {},
   "outputs": [],
   "source": [
    "#!/usr/bin/python\n",
    "#Author: Nghien Cuu Thuoc / RnD_Pharma_Plus (nghiencuuthuoc@gmail.com)\n",
    "\"\"\"\n",
    "This script get solubility\n",
    "\"\"\"\n",
    "\n",
    "import pubchempy as pcp \n",
    "import re\n",
    "\n",
    "# get_cid.py\n",
    "drugname = input(\"Enter molecule name (ex: Miconazole nitrate): \")\n",
    "\n",
    "result = pcp.get_compounds(drugname, 'name') # User inputs a unique chemical identifier called a CID\n",
    "cid = re.sub(\"[^0-9]\", \"\", str(result))\n",
    "print(drugname + \"'s PubChem CID is: \" + cid)\n",
    "\n",
    "# get solubility\n",
    "\n",
    "import requests\n",
    "r = requests.get('https://pubchem.ncbi.nlm.nih.gov/rest/pug_view/data/compound/%s/JSON' % cid)\n",
    "for section in r.json()['Record']['Section']:\n",
    "    if section.get('TOCHeading') == 'Chemical and Physical Properties':\n",
    "        for subsection in section['Section']:\n",
    "            if subsection['TOCHeading'] == 'Experimental Properties':\n",
    "                for subsubsection in subsection['Section']:\n",
    "                    if subsubsection['TOCHeading'] == 'Solubility':\n",
    "                        for s3section in subsubsection[\"Information\"]:\n",
    "                                # print(s3section)\n",
    "                            solubility_info = s3section"
   ]
  },
  {
   "cell_type": "code",
   "execution_count": null,
   "id": "8ff82843-f2c6-4959-952a-d972c08b9788",
   "metadata": {},
   "outputs": [],
   "source": [
    "print(solubility_info)"
   ]
  },
  {
   "cell_type": "code",
   "execution_count": 24,
   "id": "39f3ddc4-9128-4270-a594-4f4627cb2ddb",
   "metadata": {},
   "outputs": [],
   "source": [
    "def get_solubility(drugname):\n",
    "    #!/usr/bin/python\n",
    "    #Author: Nghien Cuu Thuoc / RnD_Pharma_Plus (nghiencuuthuoc@gmail.com)\n",
    "    \"\"\"\n",
    "    This script get solubility\n",
    "    \"\"\"\n",
    "    \n",
    "    import pubchempy as pcp \n",
    "    import re\n",
    "    \n",
    "    # get_cid.py\n",
    "    # drugname = input(\"Enter molecule name (ex: Miconazole nitrate): \")\n",
    "    \n",
    "    result = pcp.get_compounds(drugname, 'name') # User inputs a unique chemical identifier called a CID\n",
    "    cid = re.sub(\"[^0-9]\", \"\", str(result))\n",
    "    print(drugname + \"'s PubChem CID is: \" + cid)\n",
    "    \n",
    "    # get solubility\n",
    "    \n",
    "    import requests\n",
    "    # r = requests.get('https://pubchem.ncbi.nlm.nih.gov/rest/pug_view/data/compound/%s/JSON' % cid)\n",
    "    r = requests.get(f'https://pubchem.ncbi.nlm.nih.gov/rest/pug_view/data/compound/{cid}/JSON')\n",
    "    for section in r.json()['Record']['Section']:\n",
    "        if section.get('TOCHeading') == 'Chemical and Physical Properties':\n",
    "            for subsection in section['Section']:\n",
    "                if subsection['TOCHeading'] == 'Experimental Properties':\n",
    "                    for subsubsection in subsection['Section']:\n",
    "                        if subsubsection['TOCHeading'] == 'Solubility':\n",
    "                            for s3section in subsubsection[\"Information\"]:\n",
    "                                solubility_info = s3section\n",
    "                                print(solubility_info)"
   ]
  },
  {
   "cell_type": "code",
   "execution_count": 26,
   "id": "621ed150-3fd0-43a8-966d-1a5e777360c0",
   "metadata": {},
   "outputs": [],
   "source": [
    "drug_input = 'adalimumab'"
   ]
  },
  {
   "cell_type": "code",
   "execution_count": 37,
   "id": "d2622a37-df2e-41ed-9b1d-fa93b12d8a1d",
   "metadata": {},
   "outputs": [],
   "source": [
    "drug_input = 'Miconazole nitrate'"
   ]
  },
  {
   "cell_type": "code",
   "execution_count": 39,
   "id": "77886e03-41bf-4aff-8122-2189190eb23d",
   "metadata": {},
   "outputs": [],
   "source": [
    "drug_input = 'nexium'"
   ]
  },
  {
   "cell_type": "code",
   "execution_count": 43,
   "id": "303b8585-dc7b-4071-9e4b-9329f2640ffc",
   "metadata": {},
   "outputs": [],
   "source": [
    "drug_input = 'Enbrel'"
   ]
  },
  {
   "cell_type": "code",
   "execution_count": 44,
   "id": "3825fb50-17e0-412c-9e70-982332f639e8",
   "metadata": {},
   "outputs": [],
   "source": [
    "import pubchempy as pcp \n",
    "import re\n",
    "\n",
    "# get_cid.py\n",
    "# drugname = input(\"Enter molecule name (ex: Miconazole nitrate): \")\n",
    "\n",
    "result = pcp.get_compounds(drug_input, 'name') # User inputs a unique chemical identifier called a CID\n",
    "cid = re.sub(\"[^0-9]\", \"\", str(result))\n",
    "if cid == '':\n",
    "    pass\n",
    "else:\n",
    "    print(drug_input + \"'s PubChem CID is: \" + cid)"
   ]
  },
  {
   "cell_type": "code",
   "execution_count": 31,
   "id": "1bc0c32f-9576-4201-b321-1f0fc8eebae5",
   "metadata": {},
   "outputs": [
    {
     "ename": "ValueError",
     "evalue": "invalid literal for int() with base 10: ''",
     "output_type": "error",
     "traceback": [
      "\u001b[1;31m---------------------------------------------------------------------------\u001b[0m",
      "\u001b[1;31mValueError\u001b[0m                                Traceback (most recent call last)",
      "Cell \u001b[1;32mIn[31], line 9\u001b[0m\n\u001b[0;32m      7\u001b[0m result \u001b[38;5;241m=\u001b[39m pcp\u001b[38;5;241m.\u001b[39mget_compounds(drug_input, \u001b[38;5;124m'\u001b[39m\u001b[38;5;124mname\u001b[39m\u001b[38;5;124m'\u001b[39m) \u001b[38;5;66;03m# User inputs a unique chemical identifier called a CID\u001b[39;00m\n\u001b[0;32m      8\u001b[0m cid \u001b[38;5;241m=\u001b[39m re\u001b[38;5;241m.\u001b[39msub(\u001b[38;5;124m\"\u001b[39m\u001b[38;5;124m[^0-9]\u001b[39m\u001b[38;5;124m\"\u001b[39m, \u001b[38;5;124m\"\u001b[39m\u001b[38;5;124m\"\u001b[39m, \u001b[38;5;28mstr\u001b[39m(result))\n\u001b[1;32m----> 9\u001b[0m \u001b[38;5;28;01mif\u001b[39;00m \u001b[38;5;28;43mint\u001b[39;49m\u001b[43m(\u001b[49m\u001b[43mcid\u001b[49m\u001b[43m)\u001b[49m \u001b[38;5;241m==\u001b[39m \u001b[38;5;241m0\u001b[39m:\n\u001b[0;32m     10\u001b[0m     \u001b[38;5;28mprint\u001b[39m(\u001b[38;5;124m'\u001b[39m\u001b[38;5;124mno find cid\u001b[39m\u001b[38;5;124m'\u001b[39m)\n\u001b[0;32m     11\u001b[0m \u001b[38;5;28;01melse\u001b[39;00m:\n",
      "\u001b[1;31mValueError\u001b[0m: invalid literal for int() with base 10: ''"
     ]
    }
   ],
   "source": [
    "import pubchempy as pcp \n",
    "import re\n",
    "\n",
    "# get_cid.py\n",
    "# drugname = input(\"Enter molecule name (ex: Miconazole nitrate): \")\n",
    "\n",
    "result = pcp.get_compounds(drug_input, 'name') # User inputs a unique chemical identifier called a CID\n",
    "cid = re.sub(\"[^0-9]\", \"\", str(result))\n",
    "if int(cid) == 0:\n",
    "    print('no find cid')\n",
    "else:\n",
    "    print(drugname + \"'s PubChem CID is: \" + cid)"
   ]
  },
  {
   "cell_type": "code",
   "execution_count": 30,
   "id": "37b83a87-609e-485e-8f12-46acaec83117",
   "metadata": {},
   "outputs": [
    {
     "data": {
      "text/plain": [
       "str"
      ]
     },
     "execution_count": 30,
     "metadata": {},
     "output_type": "execute_result"
    }
   ],
   "source": [
    "type(cid)"
   ]
  },
  {
   "cell_type": "code",
   "execution_count": null,
   "id": "30788beb-25e3-4a10-9527-39b46a9651a5",
   "metadata": {},
   "outputs": [],
   "source": [
    "if cid == 0:\n",
    "    print('no find cid')\n",
    "else:\n",
    "    print(drugname + \"'s PubChem CID is: \" + cid)"
   ]
  },
  {
   "cell_type": "code",
   "execution_count": null,
   "id": "1e1a500d-d8b5-4771-9744-25d69ff137f6",
   "metadata": {},
   "outputs": [],
   "source": [
    "import pubchempy as pcp \n",
    "import re\n",
    "\n",
    "# get_cid.py\n",
    "# drugname = input(\"Enter molecule name (ex: Miconazole nitrate): \")\n",
    "\n",
    "result = pcp.get_compounds(drug_input, 'name') # User inputs a unique chemical identifier called a CID\n",
    "cid = re.sub(\"[^0-9]\", \"\", str(result))\n",
    "print(drugname + \"'s PubChem CID is: \" + cid)\n",
    "\n",
    "# get solubility\n",
    "\n",
    "import requests\n",
    "# r = requests.get('https://pubchem.ncbi.nlm.nih.gov/rest/pug_view/data/compound/%s/JSON' % cid)\n",
    "r = requests.get(f'https://pubchem.ncbi.nlm.nih.gov/rest/pug_view/data/compound/{cid}/JSON')\n",
    "for section in r.json()['Record']['Section']:\n",
    "    if section.get('TOCHeading') == 'Chemical and Physical Properties':\n",
    "        for subsection in section['Section']:\n",
    "            if subsection['TOCHeading'] == 'Experimental Properties':\n",
    "                for subsubsection in subsection['Section']:\n",
    "                    if subsubsection['TOCHeading'] == 'Solubility':\n",
    "                        for s3section in subsubsection[\"Information\"]:\n",
    "                            solubility_info = s3section\n",
    "                            print(solubility_info)"
   ]
  },
  {
   "cell_type": "code",
   "execution_count": 25,
   "id": "b9fde932-1184-4a91-a14d-f9422cf99a9c",
   "metadata": {},
   "outputs": [
    {
     "name": "stdout",
     "output_type": "stream",
     "text": [
      "Miconazole nitrate's PubChem CID is: 68553\n",
      "{'ReferenceNumber': 2, 'Value': {'StringWithMarkup': [{'String': '26.3 [ug/mL] (The mean of the results at pH 7.4)'}]}}\n"
     ]
    }
   ],
   "source": [
    "get_solubility('Miconazole nitrate')"
   ]
  },
  {
   "cell_type": "code",
   "execution_count": 23,
   "id": "1cb7cf52-a7ab-4a4d-9db5-e1a15e13e675",
   "metadata": {},
   "outputs": [
    {
     "ename": "NameError",
     "evalue": "name 'solubility_info' is not defined",
     "output_type": "error",
     "traceback": [
      "\u001b[1;31m---------------------------------------------------------------------------\u001b[0m",
      "\u001b[1;31mNameError\u001b[0m                                 Traceback (most recent call last)",
      "Cell \u001b[1;32mIn[23], line 1\u001b[0m\n\u001b[1;32m----> 1\u001b[0m \u001b[43msolubility_info\u001b[49m\n",
      "\u001b[1;31mNameError\u001b[0m: name 'solubility_info' is not defined"
     ]
    }
   ],
   "source": [
    "solubility_info"
   ]
  },
  {
   "cell_type": "code",
   "execution_count": 19,
   "id": "a863c0df-7b73-4578-a69e-641933e374ab",
   "metadata": {},
   "outputs": [
    {
     "ename": "NameError",
     "evalue": "name 'cid' is not defined",
     "output_type": "error",
     "traceback": [
      "\u001b[1;31m---------------------------------------------------------------------------\u001b[0m",
      "\u001b[1;31mNameError\u001b[0m                                 Traceback (most recent call last)",
      "Cell \u001b[1;32mIn[19], line 1\u001b[0m\n\u001b[1;32m----> 1\u001b[0m \u001b[43msol\u001b[49m\u001b[38;5;241;43m.\u001b[39;49m\u001b[43mget_solubility\u001b[49m\u001b[43m(\u001b[49m\u001b[38;5;124;43m'\u001b[39;49m\u001b[38;5;124;43mMiconazole nitrate\u001b[39;49m\u001b[38;5;124;43m'\u001b[39;49m\u001b[43m)\u001b[49m\n",
      "File \u001b[1;32mD:\\PharmApp\\notebook\\..\\src\\solubility.py:20\u001b[0m, in \u001b[0;36mget_solubility\u001b[1;34m(drugname)\u001b[0m\n\u001b[0;32m     17\u001b[0m \u001b[38;5;66;03m# get solubility\u001b[39;00m\n\u001b[0;32m     19\u001b[0m \u001b[38;5;28;01mimport\u001b[39;00m \u001b[38;5;21;01mrequests\u001b[39;00m\n\u001b[1;32m---> 20\u001b[0m r \u001b[38;5;241m=\u001b[39m requests\u001b[38;5;241m.\u001b[39mget(\u001b[38;5;124m'\u001b[39m\u001b[38;5;124mhttps://pubchem.ncbi.nlm.nih.gov/rest/pug_view/data/compound/\u001b[39m\u001b[38;5;132;01m%s\u001b[39;00m\u001b[38;5;124m/JSON\u001b[39m\u001b[38;5;124m'\u001b[39m \u001b[38;5;241m%\u001b[39m \u001b[43mcid\u001b[49m)\n\u001b[0;32m     21\u001b[0m \u001b[38;5;28;01mfor\u001b[39;00m section \u001b[38;5;129;01min\u001b[39;00m r\u001b[38;5;241m.\u001b[39mjson()[\u001b[38;5;124m'\u001b[39m\u001b[38;5;124mRecord\u001b[39m\u001b[38;5;124m'\u001b[39m][\u001b[38;5;124m'\u001b[39m\u001b[38;5;124mSection\u001b[39m\u001b[38;5;124m'\u001b[39m]:\n\u001b[0;32m     22\u001b[0m     \u001b[38;5;28;01mif\u001b[39;00m section\u001b[38;5;241m.\u001b[39mget(\u001b[38;5;124m'\u001b[39m\u001b[38;5;124mTOCHeading\u001b[39m\u001b[38;5;124m'\u001b[39m) \u001b[38;5;241m==\u001b[39m \u001b[38;5;124m'\u001b[39m\u001b[38;5;124mChemical and Physical Properties\u001b[39m\u001b[38;5;124m'\u001b[39m:\n",
      "\u001b[1;31mNameError\u001b[0m: name 'cid' is not defined"
     ]
    }
   ],
   "source": [
    "sol.get_solubility('Miconazole nitrate')"
   ]
  },
  {
   "cell_type": "code",
   "execution_count": 9,
   "id": "d79bbf29-afcb-4c4d-9d6b-41fdbbd70f76",
   "metadata": {},
   "outputs": [],
   "source": [
    "drugname = 'Miconazole nitrate'"
   ]
  },
  {
   "cell_type": "code",
   "execution_count": 10,
   "id": "5225f51a-2ea0-43ca-952d-fa0b26cd21d7",
   "metadata": {},
   "outputs": [
    {
     "name": "stdout",
     "output_type": "stream",
     "text": [
      "PubChem CID of Miconazole nitrate is 68553\n"
     ]
    }
   ],
   "source": [
    "import src.solubility as sol\n",
    "sol.get_cid(drugname)"
   ]
  },
  {
   "cell_type": "code",
   "execution_count": 5,
   "id": "231a79af-fcf5-43ec-893d-066cf1b7ca8c",
   "metadata": {},
   "outputs": [],
   "source": [
    "drug_input = 'Miconazole nitrate'"
   ]
  },
  {
   "cell_type": "code",
   "execution_count": 17,
   "id": "bf2e2a1a-90e3-4e9d-b684-bd9b6ac8c5db",
   "metadata": {},
   "outputs": [
    {
     "ename": "NameError",
     "evalue": "name 'cid' is not defined",
     "output_type": "error",
     "traceback": [
      "\u001b[1;31m---------------------------------------------------------------------------\u001b[0m",
      "\u001b[1;31mNameError\u001b[0m                                 Traceback (most recent call last)",
      "Cell \u001b[1;32mIn[17], line 1\u001b[0m\n\u001b[1;32m----> 1\u001b[0m \u001b[43msol\u001b[49m\u001b[38;5;241;43m.\u001b[39;49m\u001b[43mget_solubility\u001b[49m\u001b[43m(\u001b[49m\u001b[43mdrugname\u001b[49m\u001b[43m)\u001b[49m\n",
      "File \u001b[1;32mD:\\PharmApp\\notebook\\..\\src\\solubility.py:20\u001b[0m, in \u001b[0;36mget_solubility\u001b[1;34m(drugname)\u001b[0m\n\u001b[0;32m     17\u001b[0m \u001b[38;5;66;03m# get solubility\u001b[39;00m\n\u001b[0;32m     19\u001b[0m \u001b[38;5;28;01mimport\u001b[39;00m \u001b[38;5;21;01mrequests\u001b[39;00m\n\u001b[1;32m---> 20\u001b[0m r \u001b[38;5;241m=\u001b[39m requests\u001b[38;5;241m.\u001b[39mget(\u001b[38;5;124m'\u001b[39m\u001b[38;5;124mhttps://pubchem.ncbi.nlm.nih.gov/rest/pug_view/data/compound/\u001b[39m\u001b[38;5;132;01m%s\u001b[39;00m\u001b[38;5;124m/JSON\u001b[39m\u001b[38;5;124m'\u001b[39m \u001b[38;5;241m%\u001b[39m \u001b[43mcid\u001b[49m)\n\u001b[0;32m     21\u001b[0m \u001b[38;5;28;01mfor\u001b[39;00m section \u001b[38;5;129;01min\u001b[39;00m r\u001b[38;5;241m.\u001b[39mjson()[\u001b[38;5;124m'\u001b[39m\u001b[38;5;124mRecord\u001b[39m\u001b[38;5;124m'\u001b[39m][\u001b[38;5;124m'\u001b[39m\u001b[38;5;124mSection\u001b[39m\u001b[38;5;124m'\u001b[39m]:\n\u001b[0;32m     22\u001b[0m     \u001b[38;5;28;01mif\u001b[39;00m section\u001b[38;5;241m.\u001b[39mget(\u001b[38;5;124m'\u001b[39m\u001b[38;5;124mTOCHeading\u001b[39m\u001b[38;5;124m'\u001b[39m) \u001b[38;5;241m==\u001b[39m \u001b[38;5;124m'\u001b[39m\u001b[38;5;124mChemical and Physical Properties\u001b[39m\u001b[38;5;124m'\u001b[39m:\n",
      "\u001b[1;31mNameError\u001b[0m: name 'cid' is not defined"
     ]
    }
   ],
   "source": [
    "sol.get_solubility(drugname)"
   ]
  },
  {
   "cell_type": "code",
   "execution_count": 18,
   "id": "b2b63d07-c75c-4bd9-9306-d7988aeba355",
   "metadata": {},
   "outputs": [
    {
     "name": "stdout",
     "output_type": "stream",
     "text": [
      "No data\n"
     ]
    }
   ],
   "source": [
    "import src.solubility as sol\n",
    "try:\n",
    "    if get_solubility(drug_input) is not None:\n",
    "        print('Solubility data from PubChem')\n",
    "        print(sol.get_solubility(drug_input))\n",
    "except:\n",
    "    print('No data')\n",
    "    pass"
   ]
  },
  {
   "cell_type": "code",
   "execution_count": null,
   "id": "30236cbb-798a-4e4b-8ebe-5dc51f4895bb",
   "metadata": {},
   "outputs": [],
   "source": []
  }
 ],
 "metadata": {
  "kernelspec": {
   "display_name": "Python 3 (ipykernel)",
   "language": "python",
   "name": "python3"
  },
  "language_info": {
   "codemirror_mode": {
    "name": "ipython",
    "version": 3
   },
   "file_extension": ".py",
   "mimetype": "text/x-python",
   "name": "python",
   "nbconvert_exporter": "python",
   "pygments_lexer": "ipython3",
   "version": "3.12.5"
  }
 },
 "nbformat": 4,
 "nbformat_minor": 5
}
