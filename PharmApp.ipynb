{
 "cells": [
  {
   "cell_type": "markdown",
   "id": "a1a22849",
   "metadata": {},
   "source": [
    "<a href=\"https://github.com/nghiencuuthuoc/PharmApp/PharmApp.ipynb\" target=\"_parent\"><img src=\"https://colab.research.google.com/assets/colab-badge.svg\" alt=\"Open In Colab\"/></a>\n",
    "\n",
    "![](https://raw.githubusercontent.com/nghiencuuthuoc/PharmApp/master/images/PharmApp-logo.png)\n",
    "# PharmApp - Research and Development Pharmaceuticals\n",
    "Copyright 2024 | Nghiên Cứu Thuốc | RD_Pharma_Plus\n",
    "\n",
    "Email: nghiencuuthuoc@gmail.com | nghiencuuthuoc.com | x.com/nghiencuuthuoc | facebook.com/nghiencuuthuoc"
   ]
  },
  {
   "cell_type": "code",
   "execution_count": null,
   "id": "7a6704d2",
   "metadata": {},
   "outputs": [],
   "source": []
  }
 ],
 "metadata": {
  "kernelspec": {
   "display_name": "Python 3 (ipykernel)",
   "language": "python",
   "name": "python3"
  },
  "language_info": {
   "codemirror_mode": {
    "name": "ipython",
    "version": 3
   },
   "file_extension": ".py",
   "mimetype": "text/x-python",
   "name": "python",
   "nbconvert_exporter": "python",
   "pygments_lexer": "ipython3",
   "version": "3.12.5"
  }
 },
 "nbformat": 4,
 "nbformat_minor": 5
}
